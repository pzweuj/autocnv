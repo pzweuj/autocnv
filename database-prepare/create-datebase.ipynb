{
 "cells": [
  {
   "cell_type": "code",
   "execution_count": 1,
   "metadata": {},
   "outputs": [],
   "source": [
    "from multiprocessing import Pool\n",
    "import pandas as pd\n",
    "import numpy as np\n",
    "import allel\n",
    "import pysam\n",
    "import json\n",
    "import os\n",
    "from datetime import datetime\n",
    "pd.set_option('display.max_columns', None)\n",
    "from urllib import request"
   ]
  },
  {
   "cell_type": "code",
   "execution_count": 2,
   "metadata": {},
   "outputs": [],
   "source": [
    "work_dir = os.path.dirname(os.path.dirname(os.path.abspath('__file__')))\n",
    "raw_data_dir = os.path.join(work_dir, 'raw_data')\n",
    "result_data_dir = os.path.join(work_dir, 'data')\n",
    "if not os.path.exists(raw_data_dir):\n",
    "    os.mkdir(raw_data_dir)\n",
    "if not os.path.exists(result_data_dir):\n",
    "    os.mkdir(result_data_dir)\n",
    "\n",
    "# version_date = datetime.today().strftime('%Y-%m-%d')\n",
    "version_date = '2020-07-09'\n",
    "version_date_dir = os.path.join(raw_data_dir, version_date)\n",
    "if not os.path.exists(version_date_dir):\n",
    "    os.mkdir(version_date_dir)"
   ]
  },
  {
   "cell_type": "code",
   "execution_count": 10,
   "metadata": {
    "pycharm": {
     "name": "#%%\n"
    }
   },
   "outputs": [],
   "source": [
    "gene_info_url = 'https://ftp.ncbi.nih.gov/refseq/H_sapiens/Homo_sapiens.gene_info.gz'\n",
    "ref_gene_url = 'https://hgdownload.soe.ucsc.edu/goldenPath/hg19/database/refGene.txt.gz'\n",
    "clingen_gene_curation_url = 'https://ftp.clinicalgenome.org/ClinGen_gene_curation_list_GRCh37.tsv'\n",
    "clingene_region_curation_url = 'https://ftp.clinicalgenome.org/ClinGen_region_curation_list_GRCh37.tsv'\n",
    "clinvar_url = 'https://ftp.ncbi.nlm.nih.gov/pub/clinvar/vcf_GRCh37/clinvar.vcf.gz'\n",
    "hi_pred_url = 'https://decipher.sanger.ac.uk/files/downloads/HI_Predictions_Version3.bed.gz'\n",
    "gnomad_lof_url = 'https://storage.googleapis.com/gnomad-public/release/2.1.1/constraint/gnomad.v2.1.1.lof_metrics.by_gene.txt.bgz'\n",
    "gnomad_control_only_url = 'https://storage.googleapis.com/gnomad-public/papers/2019-sv/gnomad_v2.1_sv.controls_only.sites.bed.gz'\n",
    "hgnc_gene_fam_url = 'ftp://ftp.ebi.ac.uk/pub/databases/genenames/hgnc/csv/genefamily_db_tables/family.csv'\n",
    "# ori file\n",
    "gene_info_ori_file = os.path.join(version_date_dir, 'Homo_sapiens.gene_info.gz')\n",
    "ref_gene_ori_file = os.path.join(version_date_dir, 'refGene.txt.gz')\n",
    "clingen_gene_ori_file = os.path.join(version_date_dir, 'clingen_gene_hg19.tsv')\n",
    "clingen_region_ori_file = os.path.join(version_date_dir, 'clingen_region_hg19.tsv')\n",
    "clinvar_ori_vcf_file = os.path.join(version_date_dir, 'clinvar.vcf.gz')\n",
    "hi_pred_ori_file = os.path.join(version_date_dir, 'HI_Predictions_Version3.bed.gz')\n",
    "gnomad_lof_ori_file = os.path.join(version_date_dir, 'gnomad.v2.1.1.lof_metrics.by_gene.txt.bgz')\n",
    "gnomad_control_ori_file = os.path.join(version_date_dir, 'gnomad_v2.1_sv.controls_only.sites.bed.gz')\n",
    "# prep an external omim gene list\n",
    "omim_gene_list_file = os.path.join(raw_data_dir, 'omim-gene-list.txt')\n",
    "dgv_ori_file = os.path.join(raw_data_dir, 'DGV.GS.March2016.50percent.GainLossSep.Final.hg19.gff3')\n",
    "# result file\n",
    "gene_file = os.path.join(result_data_dir, 'gene.sorted.bed')\n",
    "omim_gene_file = os.path.join(result_data_dir, 'omim-gene.sorted.bed')\n",
    "clinvar_file = os.path.join(result_data_dir, 'clinvar-pathogenic.sorted.vcf')\n",
    "decipher_gene_file = os.path.join(result_data_dir, 'decipher-gene.sorted.bed')\n",
    "dgv_gain_file = os.path.join(result_data_dir, 'dgv-gain.sorted.bed')\n",
    "dgv_loss_file = os.path.join(result_data_dir, 'dgv-loss.sorted.bed')\n",
    "func_region_file = os.path.join(result_data_dir, 'func-region.sorted')\n",
    "gnomad_del_file = os.path.join(result_data_dir, 'gnomad-del.sorted.bed')\n",
    "gnomad_dup_file = os.path.join(result_data_dir, 'gnomad-dup.sorted.bed')\n",
    "hi_cds_file = os.path.join(result_data_dir, 'hi-cds.sorted.bed')\n",
    "hi_exon_file = os.path.join(result_data_dir, 'hi-exon.sorted.bed')\n",
    "hi_gene_file = os.path.join(result_data_dir, 'hi-gene.sorted.bed')\n",
    "hi_region_file = os.path.join(result_data_dir, 'hi-region.sorted.bed')\n",
    "ts_gene_file = os.path.join(result_data_dir, 'ts-gene.sorted.bed')\n",
    "ts_region_file = os.path.join(result_data_dir, 'ts-region.sorted.bed')\n",
    "uhi_gene_file = os.path.join(result_data_dir, 'uhi-gene.sorted.bed')\n",
    "uhi_region_file = os.path.join(result_data_dir, 'uhi-region.sorted.bed')\n",
    "uts_gene_file = os.path.join(result_data_dir, 'uts-gene.sorted.bed')\n",
    "uts_region_file = os.path.join(result_data_dir, 'uts-region.sorted.bed')\n",
    "hgnc_gene_fam_file = os.path.join(version_date_dir, 'family.csv')"
   ]
  },
  {
   "cell_type": "code",
   "execution_count": 11,
   "metadata": {
    "pycharm": {
     "name": "#%% Download required data\n"
    },
    "tags": []
   },
   "outputs": [
    {
     "name": "stdout",
     "output_type": "stream",
     "text": [
      "downloading gene family file to /Users/zhonghua/workspace/python-space/acit/raw_data/2020-07-09/family.csv\n",
      "done!\n"
     ]
    }
   ],
   "source": [
    "# Download require data\n",
    "if not os.path.exists(gene_info_ori_file):\n",
    "    print(f'downloading gene info to {gene_info_ori_file}')\n",
    "    request.urlretrieve(gene_info_url, gene_info_ori_file)\n",
    "    print('done!')\n",
    "\n",
    "if not os.path.exists(ref_gene_ori_file):\n",
    "    print(f'downloading ref gene to {ref_gene_ori_file}')\n",
    "    request.urlretrieve(ref_gene_url, ref_gene_ori_file)\n",
    "    print('done!')\n",
    "\n",
    "if not os.path.exists(clingen_gene_ori_file):\n",
    "    print(f'downloading clingen gene list to {clingen_gene_ori_file}')\n",
    "    request.urlretrieve(clingen_gene_curation_url, clingen_gene_ori_file)\n",
    "    print('done!')\n",
    "\n",
    "if not os.path.exists(clingen_region_ori_file):\n",
    "    print(f'downloading clingen region file to {clingen_region_ori_file}')\n",
    "    request.urlretrieve(clingene_region_curation_url, clingen_region_ori_file)\n",
    "    print('done!')\n",
    "\n",
    "if not os.path.exists(clinvar_ori_vcf_file):\n",
    "    print(f'downloading clingen region file to {clinvar_ori_vcf_file}')\n",
    "    request.urlretrieve(clinvar_url, clinvar_ori_vcf_file)\n",
    "    print('done!')\n",
    "\n",
    "if not os.path.exists(hi_pred_ori_file):\n",
    "    print(f'downloading hi prediction file to {hi_pred_ori_file}')\n",
    "    request.urlretrieve(hi_pred_url, hi_pred_ori_file)\n",
    "    print('done!')\n",
    "if not os.path.exists(gnomad_lof_ori_file):\n",
    "    print(f'downloading pLoF file from GnomAD to {gnomad_lof_ori_file}')\n",
    "    request.urlretrieve(gnomad_lof_url, gnomad_lof_ori_file)\n",
    "    print('done!')\n",
    "if not os.path.exists(gnomad_control_ori_file):\n",
    "    print(f'downloading gnomad control only file to {gnomad_control_ori_file}')\n",
    "    request.urlretrieve(gnomad_control_only_url, gnomad_control_ori_file)\n",
    "    print('done!')\n",
    "\n",
    "if not os.path.exists(hgnc_gene_fam_file):\n",
    "    print(f'downloading gene family file to {hgnc_gene_fam_file}')\n",
    "    request.urlretrieve(hgnc_gene_fam_url, hgnc_gene_fam_file)\n",
    "    print('done!')\n",
    "\n"
   ]
  },
  {
   "cell_type": "code",
   "execution_count": 12,
   "outputs": [],
   "source": [
    "cols = [\n",
    "    'bin', 'name', 'chrom', 'strand', 'txStart', 'txEnd', 'cdsStart', 'cdsEnd', 'exonCount', 'exonStarts', 'exonEnds',\n",
    "    'score', 'name2', 'cdsStartStat', 'cdsEndStat', 'ExonFrames']\n",
    "refgene = pd.read_csv(ref_gene_ori_file, sep='\\t', names=cols)\n",
    "refgene = refgene[~refgene['chrom'].str.match(r'.*fix$')]\n",
    "refgene['length'] = refgene['cdsEnd'] - refgene['cdsStart']\n",
    "refgene = refgene.sort_values('length', ascending=False)\n",
    "refgene = refgene.drop_duplicates('name2', keep='first')"
   ],
   "metadata": {
    "collapsed": false,
    "pycharm": {
     "name": "#%%\n"
    }
   }
  },
  {
   "cell_type": "code",
   "execution_count": 13,
   "metadata": {
    "scrolled": true
   },
   "outputs": [
    {
     "data": {
      "text/plain": "       bin          name  chrom strand    txStart      txEnd   cdsStart  \\\n14492   26  NM_001351365   chr1      +  144146811  146467744  144146846   \n10422   26  NM_001278267   chr1      +  144146810  146467744  144158383   \n10842   12     NM_000109   chrX      -   31137340   33357505   31140035   \n28606    2  NM_001351274  chr11      -   83166055   85339417   83170860   \n36946    9     NM_033225   chr8      -    2792882    4852436    2796106   \n\n          cdsEnd  exonCount  \\\n14492  146466121         93   \n10422  146466121        131   \n10842   33357382         79   \n28606   85337661         27   \n36946    4851938         70   \n\n                                              exonStarts  \\\n14492  144146811,144148789,144149726,144150981,144151...   \n10422  144146810,144148789,144149726,144150981,144151...   \n10842  31137340,31144758,31152218,31164407,31165391,3...   \n28606  83166055,83173044,83177750,83180243,83182668,8...   \n36946  2792882,2799993,2806820,2807752,2808635,281174...   \n\n                                                exonEnds  score   name2  \\\n14492  144147021,144148892,144149941,144151054,144151...      0  NBPF19   \n10422  144147021,144148892,144149941,144151054,144151...      0  NBPF20   \n10842  31140047,31144790,31152311,31164531,31165635,3...      0     DMD   \n28606  83170967,83173136,83177860,83180416,83182770,8...      0    DLG2   \n36946  2796266,2800126,2806908,2807865,2808797,281179...      0   CSMD1   \n\n      cdsStartStat cdsEndStat  \\\n14492         cmpl       cmpl   \n10422         cmpl       cmpl   \n10842         cmpl       cmpl   \n28606         cmpl       cmpl   \n36946         cmpl       cmpl   \n\n                                              ExonFrames   length  \n14492  0,1,2,1,2,1,2,1,2,1,2,1,2,1,2,1,2,1,2,1,2,1,2,...  2319275  \n10422  -1,-1,-1,-1,-1,-1,-1,-1,0,2,1,2,1,2,1,2,1,2,1,...  2307738  \n10842  0,1,1,0,2,2,2,2,2,0,2,0,1,2,1,1,2,1,0,0,1,0,2,...  2217347  \n28606  1,2,0,1,1,1,0,2,2,1,0,2,2,2,1,0,1,2,0,0,0,0,0,...  2166801  \n36946  2,1,0,1,1,1,1,0,1,1,1,1,1,1,1,1,1,1,1,1,1,1,1,...  2055832  ",
      "text/html": "<div>\n<style scoped>\n    .dataframe tbody tr th:only-of-type {\n        vertical-align: middle;\n    }\n\n    .dataframe tbody tr th {\n        vertical-align: top;\n    }\n\n    .dataframe thead th {\n        text-align: right;\n    }\n</style>\n<table border=\"1\" class=\"dataframe\">\n  <thead>\n    <tr style=\"text-align: right;\">\n      <th></th>\n      <th>bin</th>\n      <th>name</th>\n      <th>chrom</th>\n      <th>strand</th>\n      <th>txStart</th>\n      <th>txEnd</th>\n      <th>cdsStart</th>\n      <th>cdsEnd</th>\n      <th>exonCount</th>\n      <th>exonStarts</th>\n      <th>exonEnds</th>\n      <th>score</th>\n      <th>name2</th>\n      <th>cdsStartStat</th>\n      <th>cdsEndStat</th>\n      <th>ExonFrames</th>\n      <th>length</th>\n    </tr>\n  </thead>\n  <tbody>\n    <tr>\n      <th>14492</th>\n      <td>26</td>\n      <td>NM_001351365</td>\n      <td>chr1</td>\n      <td>+</td>\n      <td>144146811</td>\n      <td>146467744</td>\n      <td>144146846</td>\n      <td>146466121</td>\n      <td>93</td>\n      <td>144146811,144148789,144149726,144150981,144151...</td>\n      <td>144147021,144148892,144149941,144151054,144151...</td>\n      <td>0</td>\n      <td>NBPF19</td>\n      <td>cmpl</td>\n      <td>cmpl</td>\n      <td>0,1,2,1,2,1,2,1,2,1,2,1,2,1,2,1,2,1,2,1,2,1,2,...</td>\n      <td>2319275</td>\n    </tr>\n    <tr>\n      <th>10422</th>\n      <td>26</td>\n      <td>NM_001278267</td>\n      <td>chr1</td>\n      <td>+</td>\n      <td>144146810</td>\n      <td>146467744</td>\n      <td>144158383</td>\n      <td>146466121</td>\n      <td>131</td>\n      <td>144146810,144148789,144149726,144150981,144151...</td>\n      <td>144147021,144148892,144149941,144151054,144151...</td>\n      <td>0</td>\n      <td>NBPF20</td>\n      <td>cmpl</td>\n      <td>cmpl</td>\n      <td>-1,-1,-1,-1,-1,-1,-1,-1,0,2,1,2,1,2,1,2,1,2,1,...</td>\n      <td>2307738</td>\n    </tr>\n    <tr>\n      <th>10842</th>\n      <td>12</td>\n      <td>NM_000109</td>\n      <td>chrX</td>\n      <td>-</td>\n      <td>31137340</td>\n      <td>33357505</td>\n      <td>31140035</td>\n      <td>33357382</td>\n      <td>79</td>\n      <td>31137340,31144758,31152218,31164407,31165391,3...</td>\n      <td>31140047,31144790,31152311,31164531,31165635,3...</td>\n      <td>0</td>\n      <td>DMD</td>\n      <td>cmpl</td>\n      <td>cmpl</td>\n      <td>0,1,1,0,2,2,2,2,2,0,2,0,1,2,1,1,2,1,0,0,1,0,2,...</td>\n      <td>2217347</td>\n    </tr>\n    <tr>\n      <th>28606</th>\n      <td>2</td>\n      <td>NM_001351274</td>\n      <td>chr11</td>\n      <td>-</td>\n      <td>83166055</td>\n      <td>85339417</td>\n      <td>83170860</td>\n      <td>85337661</td>\n      <td>27</td>\n      <td>83166055,83173044,83177750,83180243,83182668,8...</td>\n      <td>83170967,83173136,83177860,83180416,83182770,8...</td>\n      <td>0</td>\n      <td>DLG2</td>\n      <td>cmpl</td>\n      <td>cmpl</td>\n      <td>1,2,0,1,1,1,0,2,2,1,0,2,2,2,1,0,1,2,0,0,0,0,0,...</td>\n      <td>2166801</td>\n    </tr>\n    <tr>\n      <th>36946</th>\n      <td>9</td>\n      <td>NM_033225</td>\n      <td>chr8</td>\n      <td>-</td>\n      <td>2792882</td>\n      <td>4852436</td>\n      <td>2796106</td>\n      <td>4851938</td>\n      <td>70</td>\n      <td>2792882,2799993,2806820,2807752,2808635,281174...</td>\n      <td>2796266,2800126,2806908,2807865,2808797,281179...</td>\n      <td>0</td>\n      <td>CSMD1</td>\n      <td>cmpl</td>\n      <td>cmpl</td>\n      <td>2,1,0,1,1,1,1,0,1,1,1,1,1,1,1,1,1,1,1,1,1,1,1,...</td>\n      <td>2055832</td>\n    </tr>\n  </tbody>\n</table>\n</div>"
     },
     "execution_count": 13,
     "metadata": {},
     "output_type": "execute_result"
    }
   ],
   "source": [
    "refgene.head()"
   ]
  },
  {
   "cell_type": "code",
   "execution_count": 14,
   "metadata": {},
   "outputs": [
    {
     "name": "stderr",
     "output_type": "stream",
     "text": [
      "/Users/zhonghua/programs/miniconda3/lib/python3.7/site-packages/IPython/core/interactiveshell.py:3072: DtypeWarning: Columns (14) have mixed types.Specify dtype option on import or set low_memory=False.\n",
      "  interactivity=interactivity, compiler=compiler, result=result)\n"
     ]
    }
   ],
   "source": [
    "gene_info = pd.read_csv(gene_info_ori_file, sep='\\t')"
   ]
  },
  {
   "cell_type": "code",
   "execution_count": 15,
   "metadata": {},
   "outputs": [
    {
     "data": {
      "text/plain": "   #tax_id  GeneID Symbol LocusTag                   Synonyms  \\\n0     9606       1   A1BG        -       A1B|ABG|GAB|HYST2477   \n1     9606       2    A2M        -  A2MD|CPAMD5|FWP007|S863-7   \n2     9606       3  A2MP1        -                       A2MP   \n3     9606       9   NAT1        -       AAC1|MNAT|NAT-1|NATI   \n4     9606      10   NAT2        -            AAC2|NAT-2|PNAT   \n\n                                             dbXrefs chromosome map_location  \\\n0     MIM:138670|HGNC:HGNC:5|Ensembl:ENSG00000121410         19     19q13.43   \n1     MIM:103950|HGNC:HGNC:7|Ensembl:ENSG00000175899         12     12p13.31   \n2                HGNC:HGNC:8|Ensembl:ENSG00000256069         12     12p13.31   \n3  MIM:108345|HGNC:HGNC:7645|Ensembl:ENSG00000171428          8         8p22   \n4  MIM:612182|HGNC:HGNC:7646|Ensembl:ENSG00000156006          8         8p22   \n\n                          description    type_of_gene  \\\n0              alpha-1-B glycoprotein  protein-coding   \n1               alpha-2-macroglobulin  protein-coding   \n2  alpha-2-macroglobulin pseudogene 1          pseudo   \n3               N-acetyltransferase 1  protein-coding   \n4               N-acetyltransferase 2  protein-coding   \n\n  Symbol_from_nomenclature_authority Full_name_from_nomenclature_authority  \\\n0                               A1BG                alpha-1-B glycoprotein   \n1                                A2M                 alpha-2-macroglobulin   \n2                              A2MP1    alpha-2-macroglobulin pseudogene 1   \n3                               NAT1                 N-acetyltransferase 1   \n4                               NAT2                 N-acetyltransferase 2   \n\n  Nomenclature_status                                 Other_designations  \\\n0                   O  alpha-1B-glycoprotein|HEL-S-163pA|epididymis s...   \n1                   O  alpha-2-macroglobulin|C3 and PZP-like alpha-2-...   \n2                   O                  pregnancy-zone protein pseudogene   \n3                   O  arylamine N-acetyltransferase 1|N-acetyltransf...   \n4                   O  arylamine N-acetyltransferase 2|N-acetyltransf...   \n\n  Modification_date Feature_type  \n0          20200601            -  \n1          20200705            -  \n2          20200601            -  \n3          20200601            -  \n4          20200621            -  ",
      "text/html": "<div>\n<style scoped>\n    .dataframe tbody tr th:only-of-type {\n        vertical-align: middle;\n    }\n\n    .dataframe tbody tr th {\n        vertical-align: top;\n    }\n\n    .dataframe thead th {\n        text-align: right;\n    }\n</style>\n<table border=\"1\" class=\"dataframe\">\n  <thead>\n    <tr style=\"text-align: right;\">\n      <th></th>\n      <th>#tax_id</th>\n      <th>GeneID</th>\n      <th>Symbol</th>\n      <th>LocusTag</th>\n      <th>Synonyms</th>\n      <th>dbXrefs</th>\n      <th>chromosome</th>\n      <th>map_location</th>\n      <th>description</th>\n      <th>type_of_gene</th>\n      <th>Symbol_from_nomenclature_authority</th>\n      <th>Full_name_from_nomenclature_authority</th>\n      <th>Nomenclature_status</th>\n      <th>Other_designations</th>\n      <th>Modification_date</th>\n      <th>Feature_type</th>\n    </tr>\n  </thead>\n  <tbody>\n    <tr>\n      <th>0</th>\n      <td>9606</td>\n      <td>1</td>\n      <td>A1BG</td>\n      <td>-</td>\n      <td>A1B|ABG|GAB|HYST2477</td>\n      <td>MIM:138670|HGNC:HGNC:5|Ensembl:ENSG00000121410</td>\n      <td>19</td>\n      <td>19q13.43</td>\n      <td>alpha-1-B glycoprotein</td>\n      <td>protein-coding</td>\n      <td>A1BG</td>\n      <td>alpha-1-B glycoprotein</td>\n      <td>O</td>\n      <td>alpha-1B-glycoprotein|HEL-S-163pA|epididymis s...</td>\n      <td>20200601</td>\n      <td>-</td>\n    </tr>\n    <tr>\n      <th>1</th>\n      <td>9606</td>\n      <td>2</td>\n      <td>A2M</td>\n      <td>-</td>\n      <td>A2MD|CPAMD5|FWP007|S863-7</td>\n      <td>MIM:103950|HGNC:HGNC:7|Ensembl:ENSG00000175899</td>\n      <td>12</td>\n      <td>12p13.31</td>\n      <td>alpha-2-macroglobulin</td>\n      <td>protein-coding</td>\n      <td>A2M</td>\n      <td>alpha-2-macroglobulin</td>\n      <td>O</td>\n      <td>alpha-2-macroglobulin|C3 and PZP-like alpha-2-...</td>\n      <td>20200705</td>\n      <td>-</td>\n    </tr>\n    <tr>\n      <th>2</th>\n      <td>9606</td>\n      <td>3</td>\n      <td>A2MP1</td>\n      <td>-</td>\n      <td>A2MP</td>\n      <td>HGNC:HGNC:8|Ensembl:ENSG00000256069</td>\n      <td>12</td>\n      <td>12p13.31</td>\n      <td>alpha-2-macroglobulin pseudogene 1</td>\n      <td>pseudo</td>\n      <td>A2MP1</td>\n      <td>alpha-2-macroglobulin pseudogene 1</td>\n      <td>O</td>\n      <td>pregnancy-zone protein pseudogene</td>\n      <td>20200601</td>\n      <td>-</td>\n    </tr>\n    <tr>\n      <th>3</th>\n      <td>9606</td>\n      <td>9</td>\n      <td>NAT1</td>\n      <td>-</td>\n      <td>AAC1|MNAT|NAT-1|NATI</td>\n      <td>MIM:108345|HGNC:HGNC:7645|Ensembl:ENSG00000171428</td>\n      <td>8</td>\n      <td>8p22</td>\n      <td>N-acetyltransferase 1</td>\n      <td>protein-coding</td>\n      <td>NAT1</td>\n      <td>N-acetyltransferase 1</td>\n      <td>O</td>\n      <td>arylamine N-acetyltransferase 1|N-acetyltransf...</td>\n      <td>20200601</td>\n      <td>-</td>\n    </tr>\n    <tr>\n      <th>4</th>\n      <td>9606</td>\n      <td>10</td>\n      <td>NAT2</td>\n      <td>-</td>\n      <td>AAC2|NAT-2|PNAT</td>\n      <td>MIM:612182|HGNC:HGNC:7646|Ensembl:ENSG00000156006</td>\n      <td>8</td>\n      <td>8p22</td>\n      <td>N-acetyltransferase 2</td>\n      <td>protein-coding</td>\n      <td>NAT2</td>\n      <td>N-acetyltransferase 2</td>\n      <td>O</td>\n      <td>arylamine N-acetyltransferase 2|N-acetyltransf...</td>\n      <td>20200621</td>\n      <td>-</td>\n    </tr>\n  </tbody>\n</table>\n</div>"
     },
     "execution_count": 15,
     "metadata": {},
     "output_type": "execute_result"
    }
   ],
   "source": [
    "gene_info.head()"
   ]
  },
  {
   "cell_type": "code",
   "execution_count": null,
   "metadata": {},
   "outputs": [],
   "source": [
    "refgene_info = refgene.merge(gene_info, left_on='name2', right_on='Symbol')"
   ]
  },
  {
   "cell_type": "code",
   "execution_count": null,
   "metadata": {},
   "outputs": [],
   "source": [
    "refgene_info.head()"
   ]
  },
  {
   "cell_type": "code",
   "execution_count": 17,
   "outputs": [],
   "source": [
    "gene_fam = pd.read_csv(hgnc_gene_fam_file, sep=',')\n",
    "gene_fam = gene_fam[gene_fam['typical_gene'].notna()].rename(columns={'id': 'fam'})\n",
    "gene_fam_grp = gene_fam.groupby('typical_gene').agg({'fam': set})"
   ],
   "metadata": {
    "collapsed": false,
    "pycharm": {
     "name": "#%%\n"
    }
   }
  },
  {
   "cell_type": "code",
   "execution_count": null,
   "metadata": {},
   "outputs": [],
   "source": [
    "gene = refgene_info.loc[\n",
    "    refgene_info['type_of_gene'] == 'protein-coding',\n",
    "    ['chrom', 'txStart', 'txEnd', 'GeneID', 'name2', 'name', 'strand']\n",
    "].sort_values(['chrom', 'txStart', 'txEnd'])"
   ]
  },
  {
   "cell_type": "code",
   "execution_count": null,
   "metadata": {},
   "outputs": [],
   "source": [
    "gene.head()"
   ]
  },
  {
   "cell_type": "code",
   "execution_count": null,
   "metadata": {},
   "outputs": [],
   "source": [
    "gene.rename(columns={\n",
    "    'chrom': '#chrom', 'txStart': 'start', 'txEnd': 'end',\n",
    "    'GeneID': 'gene_id', 'name2': 'symbol', 'name': 'transcript'\n",
    "}).to_csv(gene_file, index=False, sep='\\t')"
   ]
  },
  {
   "cell_type": "code",
   "execution_count": null,
   "metadata": {},
   "outputs": [],
   "source": [
    "!bgzip -cf {gene_file} > {gene_file}.gz"
   ]
  },
  {
   "cell_type": "code",
   "execution_count": null,
   "metadata": {},
   "outputs": [],
   "source": [
    "!tabix -fp bed {gene_file}.gz"
   ]
  },
  {
   "cell_type": "code",
   "execution_count": null,
   "metadata": {},
   "outputs": [],
   "source": [
    "!rm {gene_file}"
   ]
  },
  {
   "cell_type": "code",
   "execution_count": null,
   "metadata": {},
   "outputs": [],
   "source": [
    "with open(omim_gene_list_file) as f:\n",
    "    omim_gene = set(f.read().split('\\n'))"
   ]
  },
  {
   "cell_type": "code",
   "execution_count": null,
   "metadata": {},
   "outputs": [],
   "source": [
    "omim_gene = refgene_info.loc[\n",
    "    refgene_info['name2'].isin(omim_gene),\n",
    "    ['chrom', 'txStart', 'txEnd', 'GeneID', 'name2', 'name', 'strand']\n",
    "].sort_values(['chrom', 'txStart', 'txEnd'])"
   ]
  },
  {
   "cell_type": "code",
   "execution_count": null,
   "metadata": {},
   "outputs": [],
   "source": [
    "omim_gene.head()"
   ]
  },
  {
   "cell_type": "code",
   "execution_count": null,
   "metadata": {},
   "outputs": [],
   "source": [
    "omim_gene.rename(columns={\n",
    "    'chrom': '#chrom', 'txStart': 'start', 'txEnd': 'end',\n",
    "    'GeneID': 'gene_id', 'name2': 'symbol', 'name': 'transcript'\n",
    "}).to_csv(omim_gene_file, index=False, sep='\\t')"
   ]
  },
  {
   "cell_type": "code",
   "execution_count": null,
   "metadata": {},
   "outputs": [],
   "source": [
    "!bgzip -cf {omim_gene_file} > {omim_gene_file}.gz"
   ]
  },
  {
   "cell_type": "code",
   "execution_count": null,
   "metadata": {},
   "outputs": [],
   "source": [
    "!tabix -fp bed {omim_gene_file}.gz\n",
    "!rm {omim_gene_file}"
   ]
  },
  {
   "cell_type": "code",
   "execution_count": null,
   "metadata": {},
   "outputs": [],
   "source": [
    "curation_gene = pd.read_csv(clingen_gene_ori_file, sep='\\t', dtype=str, skiprows=5)"
   ]
  },
  {
   "cell_type": "code",
   "execution_count": null,
   "metadata": {},
   "outputs": [],
   "source": [
    "curation_gene.head()"
   ]
  },
  {
   "cell_type": "code",
   "execution_count": null,
   "metadata": {},
   "outputs": [],
   "source": [
    "hi_genes = set(\n",
    "    curation_gene.loc[\n",
    "        curation_gene['Haploinsufficiency Score'] == '3', '#Gene Symbol'\n",
    "    ]\n",
    ")"
   ]
  },
  {
   "cell_type": "code",
   "execution_count": null,
   "metadata": {},
   "outputs": [],
   "source": [
    "hi_gene = refgene_info.loc[\n",
    "    refgene_info['name2'].isin(hi_genes),\n",
    "    ['chrom', 'txStart', 'txEnd', 'GeneID', 'name2', 'name', 'strand']\n",
    "].sort_values(['chrom', 'txStart', 'txEnd'])"
   ]
  },
  {
   "cell_type": "code",
   "execution_count": null,
   "metadata": {},
   "outputs": [],
   "source": [
    "hi_gene.head()"
   ]
  },
  {
   "cell_type": "code",
   "execution_count": null,
   "metadata": {},
   "outputs": [],
   "source": [
    "hi_gene.rename(columns={\n",
    "    'chrom': '#chrom', 'txStart': 'start', 'txEnd': 'end',\n",
    "    'GeneID': 'gene_id', 'name2': 'symbol', 'name': 'transcript'\n",
    "}).to_csv(hi_gene_file, index=False, sep='\\t')"
   ]
  },
  {
   "cell_type": "code",
   "execution_count": null,
   "metadata": {},
   "outputs": [],
   "source": [
    "!bgzip -cf {hi_gene_file} > {hi_gene_file}.gz"
   ]
  },
  {
   "cell_type": "code",
   "execution_count": null,
   "metadata": {},
   "outputs": [],
   "source": [
    "!tabix -fp bed {hi_gene_file}.gz\n",
    "!rm {hi_gene_file}"
   ]
  },
  {
   "cell_type": "code",
   "execution_count": null,
   "metadata": {},
   "outputs": [],
   "source": [
    "hi_cds = refgene_info.loc[\n",
    "    (refgene_info['name2'].isin(hi_genes)) & (refgene_info['length'] != 0),\n",
    "    ['chrom', 'cdsStart', 'cdsEnd', 'GeneID', 'name2', 'name']\n",
    "].sort_values(['chrom', 'cdsStart', 'cdsEnd'])"
   ]
  },
  {
   "cell_type": "code",
   "execution_count": null,
   "metadata": {},
   "outputs": [],
   "source": [
    "hi_cds.head()"
   ]
  },
  {
   "cell_type": "code",
   "execution_count": null,
   "metadata": {},
   "outputs": [],
   "source": [
    "hi_cds.rename(columns={\n",
    "    'chrom': '#chrom', 'cdsStart': 'start', 'cdsEnd': 'end',\n",
    "    'GeneID': 'gene_id', 'name2': 'symbol', 'name': 'transcript'\n",
    "}).to_csv(hi_cds_file, index=False, sep='\\t')"
   ]
  },
  {
   "cell_type": "code",
   "execution_count": null,
   "metadata": {
    "tags": []
   },
   "outputs": [],
   "source": [
    "!bgzip -cf {hi_cds_file} > {hi_cds_file}.gz"
   ]
  },
  {
   "cell_type": "code",
   "execution_count": null,
   "metadata": {},
   "outputs": [],
   "source": [
    "!tabix -fp bed {hi_cds_file}.gz\n",
    "!rm {hi_cds_file}"
   ]
  },
  {
   "cell_type": "code",
   "execution_count": null,
   "metadata": {},
   "outputs": [],
   "source": [
    "hi_exons = refgene_info.loc[\n",
    "    refgene_info['name2'].isin(hi_genes), ['chrom', 'exonStarts', 'exonEnds', 'GeneID', 'name2', 'name', 'strand']\n",
    "].copy()"
   ]
  },
  {
   "cell_type": "code",
   "execution_count": null,
   "metadata": {},
   "outputs": [],
   "source": [
    "hi_exons.head()"
   ]
  },
  {
   "cell_type": "code",
   "execution_count": null,
   "metadata": {},
   "outputs": [],
   "source": [
    "hi_exons['exonStarts'] = hi_exons['exonStarts'].str.replace(r',$', '')\n",
    "hi_exons['exonEnds'] = hi_exons['exonEnds'].str.replace(r',$', '')"
   ]
  },
  {
   "cell_type": "code",
   "execution_count": null,
   "metadata": {},
   "outputs": [],
   "source": [
    "hi_exons.head()"
   ]
  },
  {
   "cell_type": "code",
   "execution_count": null,
   "metadata": {},
   "outputs": [],
   "source": [
    "start = hi_exons['exonStarts'].str.split(',').apply(pd.Series).stack().reset_index()\n",
    "start = start.rename(columns={'level_0': 'row', 0: 'start'})[['row', 'start']]\n",
    "start['start'] = start['start'].astype(int)\n",
    "end = hi_exons['exonEnds'].str.split(',').apply(pd.Series).stack().reset_index()\n",
    "end = end.rename(columns={0: 'end'})['end'].astype(int)\n",
    "position = start.join(end)"
   ]
  },
  {
   "cell_type": "code",
   "execution_count": null,
   "metadata": {},
   "outputs": [],
   "source": [
    "position.head()"
   ]
  },
  {
   "cell_type": "code",
   "execution_count": null,
   "metadata": {},
   "outputs": [],
   "source": [
    "exon = position.merge(\n",
    "    hi_exons[['chrom', 'GeneID', 'name2', 'name', 'strand']], how='left', left_on='row', right_index=True\n",
    ")\n",
    "exon = exon.sort_values(['chrom', 'start', 'end'])"
   ]
  },
  {
   "cell_type": "code",
   "execution_count": null,
   "metadata": {},
   "outputs": [],
   "source": [
    "exon.head()"
   ]
  },
  {
   "cell_type": "code",
   "execution_count": null,
   "metadata": {},
   "outputs": [],
   "source": [
    "exon['+'] = exon.groupby(['name2', 'name'])['start'].rank('first', ascending=True).astype(int)\n",
    "exon['-'] = exon.groupby(['name2', 'name'])['start'].rank('first', ascending=False).astype(int)"
   ]
  },
  {
   "cell_type": "code",
   "execution_count": null,
   "metadata": {},
   "outputs": [],
   "source": [
    "exon.head()"
   ]
  },
  {
   "cell_type": "code",
   "execution_count": null,
   "metadata": {},
   "outputs": [],
   "source": [
    "exon.tail()"
   ]
  },
  {
   "cell_type": "code",
   "execution_count": null,
   "metadata": {},
   "outputs": [],
   "source": [
    "exon['exon'] = pd.concat([exon.loc[exon['strand'] == '+', '+'], exon.loc[exon['strand'] == '-', '-']])"
   ]
  },
  {
   "cell_type": "code",
   "execution_count": null,
   "metadata": {},
   "outputs": [],
   "source": [
    "exon.head()"
   ]
  },
  {
   "cell_type": "code",
   "execution_count": null,
   "metadata": {},
   "outputs": [],
   "source": [
    "exon.tail()"
   ]
  },
  {
   "cell_type": "code",
   "execution_count": null,
   "metadata": {},
   "outputs": [],
   "source": [
    "exon['last_exon'] = exon.groupby(['name2', 'name'])['exon'].transform('max') == exon['exon']"
   ]
  },
  {
   "cell_type": "code",
   "execution_count": null,
   "metadata": {},
   "outputs": [],
   "source": [
    "exon.head()"
   ]
  },
  {
   "cell_type": "code",
   "execution_count": null,
   "metadata": {},
   "outputs": [],
   "source": [
    "exon.tail()"
   ]
  },
  {
   "cell_type": "code",
   "execution_count": null,
   "metadata": {},
   "outputs": [],
   "source": [
    "exon = exon[\n",
    "    ['chrom', 'start', 'end', 'GeneID', 'name2', 'name', 'exon', 'last_exon']\n",
    "].sort_values(['chrom', 'start', 'end'])"
   ]
  },
  {
   "cell_type": "code",
   "execution_count": null,
   "metadata": {},
   "outputs": [],
   "source": [
    "exon.head()"
   ]
  },
  {
   "cell_type": "code",
   "execution_count": null,
   "metadata": {},
   "outputs": [],
   "source": [
    "exon.rename(columns={\n",
    "    'chrom': '#chrom',\n",
    "    'GeneID': 'gene_id', 'name2': 'symbol', 'name': 'transcript'\n",
    "}).to_csv(hi_exon_file, index=False, sep='\\t')"
   ]
  },
  {
   "cell_type": "code",
   "execution_count": null,
   "metadata": {},
   "outputs": [],
   "source": [
    "!bgzip -cf {hi_exon_file} > {hi_exon_file}.gz"
   ]
  },
  {
   "cell_type": "code",
   "execution_count": null,
   "metadata": {},
   "outputs": [],
   "source": [
    "!tabix -fp bed {hi_exon_file}.gz\n",
    "!rm {hi_exon_file}"
   ]
  },
  {
   "cell_type": "code",
   "execution_count": null,
   "metadata": {},
   "outputs": [],
   "source": [
    "last_exon = exon[exon['last_exon']]"
   ]
  },
  {
   "cell_type": "code",
   "execution_count": null,
   "metadata": {},
   "outputs": [],
   "source": [
    "last_exon.head()"
   ]
  },
  {
   "cell_type": "code",
   "execution_count": null,
   "metadata": {},
   "outputs": [],
   "source": [
    "last_exon_region = last_exon['chrom'] + ':' + last_exon['start'].astype(str) + '-' + last_exon['end'].astype(str)\n",
    "last_exon_region = last_exon_region.str.replace('chr', '')"
   ]
  },
  {
   "cell_type": "code",
   "execution_count": null,
   "metadata": {},
   "outputs": [],
   "source": [
    "last_exon_region.head()"
   ]
  },
  {
   "cell_type": "code",
   "execution_count": null,
   "metadata": {},
   "outputs": [],
   "source": [
    "need_fields = [\n",
    "    'variants/CHROM', 'variants/POS', 'variants/REF', 'variants/ALT',\n",
    "    'variants/AF_ESP', 'variants/AF_EXAC', 'variants/AF_TGP', 'variants/CLNSIG'\n",
    "]"
   ]
  },
  {
   "cell_type": "code",
   "execution_count": null,
   "metadata": {},
   "outputs": [],
   "source": [
    "with open(clinvar_file, 'w') as f:\n",
    "    headers = allel.read_vcf_headers(clinvar_ori_vcf_file)\n",
    "    f.write(''.join(headers.headers))\n",
    "    \n",
    "    def fetch_variants(region):\n",
    "        fields, samples, headers, it = allel.iter_vcf_chunks(\n",
    "            clinvar_ori_vcf_file, fields=need_fields, alt_number=1, region=region\n",
    "        )\n",
    "        for variants, *_ in it:\n",
    "            esp_filter = np.isnan(variants['variants/AF_ESP'])\n",
    "            esp_filter[~esp_filter] |= variants['variants/AF_ESP'][~esp_filter] < 0.01\n",
    "\n",
    "            exac_filter = np.isnan(variants['variants/AF_EXAC'])\n",
    "            exac_filter[~exac_filter] |= variants['variants/AF_EXAC'][~exac_filter] < 0.01\n",
    "\n",
    "            tgp_filter = np.isnan(variants['variants/AF_TGP'])\n",
    "            tgp_filter[~tgp_filter] |= variants['variants/AF_TGP'][~tgp_filter] < 0.01\n",
    "\n",
    "            pathogenic_filter = np.isin(\n",
    "                variants['variants/CLNSIG'], ['Likely_pathogenic', 'Pathogenic', 'Pathogenic/Likely_pathogenic']\n",
    "            )\n",
    "\n",
    "            af_filter = esp_filter & exac_filter & tgp_filter & pathogenic_filter\n",
    "\n",
    "            filtered_variants = {k: v[af_filter] for k, v in variants.items()}\n",
    "\n",
    "            filtered_variants['variants/CHROM'] = 'chr' + filtered_variants['variants/CHROM']\n",
    "\n",
    "            return allel.normalize_callset(filtered_variants)\n",
    "    \n",
    "    with Pool(processes=7) as pool:\n",
    "        variants = pool.map(fetch_variants, last_exon_region)\n",
    "    \n",
    "    for names, callset in filter(lambda x: x is not None, variants):\n",
    "        allel.write_vcf_data(f, names, callset, None, {field: np.nan for field in need_fields})"
   ]
  },
  {
   "cell_type": "code",
   "execution_count": 101,
   "metadata": {
    "tags": []
   },
   "outputs": [],
   "source": [
    "!sed -i '' 's/AF_.\\+=nan;//' {clinvar_file}"
   ]
  },
  {
   "cell_type": "code",
   "execution_count": 102,
   "metadata": {},
   "outputs": [],
   "source": [
    "!bgzip -cf {clinvar_file} > {clinvar_file}.gz"
   ]
  },
  {
   "cell_type": "code",
   "execution_count": 103,
   "metadata": {},
   "outputs": [],
   "source": [
    "!tabix -fp vcf {clinvar_file}.gz\n",
    "# !rm {clinvar_file}"
   ]
  },
  {
   "cell_type": "code",
   "execution_count": 104,
   "metadata": {},
   "outputs": [],
   "source": [
    "uhi_genes = set(\n",
    "    curation_gene.loc[curation_gene['Haploinsufficiency Score'] == '40', '#Gene Symbol']\n",
    ")"
   ]
  },
  {
   "cell_type": "code",
   "execution_count": 105,
   "metadata": {},
   "outputs": [],
   "source": [
    "uhi_gene = refgene_info.loc[\n",
    "    refgene_info['name2'].isin(uhi_genes),\n",
    "    ['chrom', 'txStart', 'txEnd', 'GeneID', 'name2', 'name', 'strand']\n",
    "].sort_values(['chrom', 'txStart', 'txEnd'])"
   ]
  },
  {
   "cell_type": "code",
   "execution_count": 106,
   "metadata": {},
   "outputs": [
    {
     "output_type": "execute_result",
     "data": {
      "text/plain": "       chrom   txStart     txEnd  GeneID  name2       name strand\n8358    chr1  55505220  55530525  255738  PCSK9  NM_174936      +\n18742  chr13  20761608  20767077    2706   GJB2  NM_004004      -",
      "text/html": "<div>\n<style scoped>\n    .dataframe tbody tr th:only-of-type {\n        vertical-align: middle;\n    }\n\n    .dataframe tbody tr th {\n        vertical-align: top;\n    }\n\n    .dataframe thead th {\n        text-align: right;\n    }\n</style>\n<table border=\"1\" class=\"dataframe\">\n  <thead>\n    <tr style=\"text-align: right;\">\n      <th></th>\n      <th>chrom</th>\n      <th>txStart</th>\n      <th>txEnd</th>\n      <th>GeneID</th>\n      <th>name2</th>\n      <th>name</th>\n      <th>strand</th>\n    </tr>\n  </thead>\n  <tbody>\n    <tr>\n      <th>8358</th>\n      <td>chr1</td>\n      <td>55505220</td>\n      <td>55530525</td>\n      <td>255738</td>\n      <td>PCSK9</td>\n      <td>NM_174936</td>\n      <td>+</td>\n    </tr>\n    <tr>\n      <th>18742</th>\n      <td>chr13</td>\n      <td>20761608</td>\n      <td>20767077</td>\n      <td>2706</td>\n      <td>GJB2</td>\n      <td>NM_004004</td>\n      <td>-</td>\n    </tr>\n  </tbody>\n</table>\n</div>"
     },
     "metadata": {},
     "execution_count": 106
    }
   ],
   "source": [
    "uhi_gene.head()"
   ]
  },
  {
   "cell_type": "code",
   "execution_count": 107,
   "metadata": {},
   "outputs": [],
   "source": [
    "uhi_gene.rename(columns={\n",
    "    'chrom': '#chrom', 'txStart': 'start', 'txEnd': 'end',\n",
    "    'GeneID': 'gene_id', 'name2': 'symbol', 'name': 'transcript'\n",
    "}).to_csv(uhi_gene_file, index=False, sep='\\t')"
   ]
  },
  {
   "cell_type": "code",
   "execution_count": 108,
   "metadata": {},
   "outputs": [],
   "source": [
    "!bgzip -cf {uhi_gene_file} > {uhi_gene_file}.gz"
   ]
  },
  {
   "cell_type": "code",
   "execution_count": 109,
   "metadata": {},
   "outputs": [],
   "source": [
    "!tabix -fp bed {uhi_gene_file}.gz\n",
    "!rm {uhi_gene_file}"
   ]
  },
  {
   "cell_type": "code",
   "execution_count": 110,
   "metadata": {},
   "outputs": [],
   "source": [
    "region = pd.read_csv(clingen_region_ori_file, sep='\\t', skiprows=5, dtype=str)"
   ]
  },
  {
   "cell_type": "code",
   "execution_count": 111,
   "metadata": {},
   "outputs": [
    {
     "output_type": "execute_result",
     "data": {
      "text/plain": "     #ISCA ID                                   ISCA Region Name  \\\n0  ISCA-46300      15q24 recurrent region (C-D) (includes SIN3A)   \n1  ISCA-46299                    Xp11.22 region (includes HUWE1)   \n2  ISCA-46297  16p12.2 recurrent region (includes OTOA) (dist...   \n3  ISCA-46296                       15q24 recurrent region (A-C)   \n4  ISCA-46295  15q13.3 recurrent region (D-CHRNA7 to BP5) (in...   \n\n        cytoBand          Genomic Location Haploinsufficiency Score  \\\n0            NaN  chr15: 75631787-75972909                        3   \n1        Xp11.22    chrX:53363456-53793054                        0   \n2        16p12.2   chr16:21570113-21740423                       30   \n3  15q24.1-q24.2   chr15:72963715-75508312                        3   \n4        15q13.3   chr15:32019621-32445405                        3   \n\n                      Haploinsufficiency Description Haploinsufficiency PMID1  \\\n0       Sufficient evidence for dosage pathogenicity                 27399968   \n1                              No evidence available                      NaN   \n2  Gene associated with autosomal recessive pheno...                      NaN   \n3       Sufficient evidence for dosage pathogenicity                 22180641   \n4       Sufficient evidence for dosage pathogenicity                 19898479   \n\n  Haploinsufficiency PMID2 Haploinsufficiency PMID3 Triplosensitivity Score  \\\n0                 22180641                      NaN                       0   \n1                      NaN                      NaN                       3   \n2                      NaN                      NaN                      40   \n3                 19921647                      NaN                       1   \n4                 20236110                 22775350                      40   \n\n                  Triplosensitivity Description Triplosensitivity PMID1  \\\n0                         No evidence available                     NaN   \n1  Sufficient evidence for dosage pathogenicity                22840365   \n2                   Dosage sensitivity unlikely                     NaN   \n3      Little evidence for dosage pathogenicity                19557438   \n4                   Dosage sensitivity unlikely                26968334   \n\n  Triplosensitivity PMID2 Triplosensitivity PMID3 Date Last Evaluated  \\\n0                     NaN                     NaN          2020-01-13   \n1                20655035                26692240          2018-11-19   \n2                     NaN                     NaN          2019-11-03   \n3                20860070                     NaN          2020-01-03   \n4                22420048                     NaN          2018-05-10   \n\n  Loss phenotype OMIM ID Triplosensitive phenotype OMIM ID  \n0                 613406                               NaN  \n1                    NaN                               NaN  \n2                 607039                               NaN  \n3                    NaN                               NaN  \n4                    NaN                               NaN  ",
      "text/html": "<div>\n<style scoped>\n    .dataframe tbody tr th:only-of-type {\n        vertical-align: middle;\n    }\n\n    .dataframe tbody tr th {\n        vertical-align: top;\n    }\n\n    .dataframe thead th {\n        text-align: right;\n    }\n</style>\n<table border=\"1\" class=\"dataframe\">\n  <thead>\n    <tr style=\"text-align: right;\">\n      <th></th>\n      <th>#ISCA ID</th>\n      <th>ISCA Region Name</th>\n      <th>cytoBand</th>\n      <th>Genomic Location</th>\n      <th>Haploinsufficiency Score</th>\n      <th>Haploinsufficiency Description</th>\n      <th>Haploinsufficiency PMID1</th>\n      <th>Haploinsufficiency PMID2</th>\n      <th>Haploinsufficiency PMID3</th>\n      <th>Triplosensitivity Score</th>\n      <th>Triplosensitivity Description</th>\n      <th>Triplosensitivity PMID1</th>\n      <th>Triplosensitivity PMID2</th>\n      <th>Triplosensitivity PMID3</th>\n      <th>Date Last Evaluated</th>\n      <th>Loss phenotype OMIM ID</th>\n      <th>Triplosensitive phenotype OMIM ID</th>\n    </tr>\n  </thead>\n  <tbody>\n    <tr>\n      <th>0</th>\n      <td>ISCA-46300</td>\n      <td>15q24 recurrent region (C-D) (includes SIN3A)</td>\n      <td>NaN</td>\n      <td>chr15: 75631787-75972909</td>\n      <td>3</td>\n      <td>Sufficient evidence for dosage pathogenicity</td>\n      <td>27399968</td>\n      <td>22180641</td>\n      <td>NaN</td>\n      <td>0</td>\n      <td>No evidence available</td>\n      <td>NaN</td>\n      <td>NaN</td>\n      <td>NaN</td>\n      <td>2020-01-13</td>\n      <td>613406</td>\n      <td>NaN</td>\n    </tr>\n    <tr>\n      <th>1</th>\n      <td>ISCA-46299</td>\n      <td>Xp11.22 region (includes HUWE1)</td>\n      <td>Xp11.22</td>\n      <td>chrX:53363456-53793054</td>\n      <td>0</td>\n      <td>No evidence available</td>\n      <td>NaN</td>\n      <td>NaN</td>\n      <td>NaN</td>\n      <td>3</td>\n      <td>Sufficient evidence for dosage pathogenicity</td>\n      <td>22840365</td>\n      <td>20655035</td>\n      <td>26692240</td>\n      <td>2018-11-19</td>\n      <td>NaN</td>\n      <td>NaN</td>\n    </tr>\n    <tr>\n      <th>2</th>\n      <td>ISCA-46297</td>\n      <td>16p12.2 recurrent region (includes OTOA) (dist...</td>\n      <td>16p12.2</td>\n      <td>chr16:21570113-21740423</td>\n      <td>30</td>\n      <td>Gene associated with autosomal recessive pheno...</td>\n      <td>NaN</td>\n      <td>NaN</td>\n      <td>NaN</td>\n      <td>40</td>\n      <td>Dosage sensitivity unlikely</td>\n      <td>NaN</td>\n      <td>NaN</td>\n      <td>NaN</td>\n      <td>2019-11-03</td>\n      <td>607039</td>\n      <td>NaN</td>\n    </tr>\n    <tr>\n      <th>3</th>\n      <td>ISCA-46296</td>\n      <td>15q24 recurrent region (A-C)</td>\n      <td>15q24.1-q24.2</td>\n      <td>chr15:72963715-75508312</td>\n      <td>3</td>\n      <td>Sufficient evidence for dosage pathogenicity</td>\n      <td>22180641</td>\n      <td>19921647</td>\n      <td>NaN</td>\n      <td>1</td>\n      <td>Little evidence for dosage pathogenicity</td>\n      <td>19557438</td>\n      <td>20860070</td>\n      <td>NaN</td>\n      <td>2020-01-03</td>\n      <td>NaN</td>\n      <td>NaN</td>\n    </tr>\n    <tr>\n      <th>4</th>\n      <td>ISCA-46295</td>\n      <td>15q13.3 recurrent region (D-CHRNA7 to BP5) (in...</td>\n      <td>15q13.3</td>\n      <td>chr15:32019621-32445405</td>\n      <td>3</td>\n      <td>Sufficient evidence for dosage pathogenicity</td>\n      <td>19898479</td>\n      <td>20236110</td>\n      <td>22775350</td>\n      <td>40</td>\n      <td>Dosage sensitivity unlikely</td>\n      <td>26968334</td>\n      <td>22420048</td>\n      <td>NaN</td>\n      <td>2018-05-10</td>\n      <td>NaN</td>\n      <td>NaN</td>\n    </tr>\n  </tbody>\n</table>\n</div>"
     },
     "metadata": {},
     "execution_count": 111
    }
   ],
   "source": [
    "region.head()"
   ]
  },
  {
   "cell_type": "code",
   "execution_count": 112,
   "metadata": {},
   "outputs": [],
   "source": [
    "position = region['Genomic Location'].str.extract(r'(?P<chrom>chr\\w+)\\s*:\\s*(?P<start>\\d+)\\s*-\\s*(?P<end>\\d+)')\n",
    "position['start'] = position['start'].astype(int)\n",
    "position['end'] = position['end'].astype(int)"
   ]
  },
  {
   "cell_type": "code",
   "execution_count": 113,
   "metadata": {},
   "outputs": [
    {
     "output_type": "execute_result",
     "data": {
      "text/plain": "   chrom     start       end\n0  chr15  75631787  75972909\n1   chrX  53363456  53793054\n2  chr16  21570113  21740423\n3  chr15  72963715  75508312\n4  chr15  32019621  32445405",
      "text/html": "<div>\n<style scoped>\n    .dataframe tbody tr th:only-of-type {\n        vertical-align: middle;\n    }\n\n    .dataframe tbody tr th {\n        vertical-align: top;\n    }\n\n    .dataframe thead th {\n        text-align: right;\n    }\n</style>\n<table border=\"1\" class=\"dataframe\">\n  <thead>\n    <tr style=\"text-align: right;\">\n      <th></th>\n      <th>chrom</th>\n      <th>start</th>\n      <th>end</th>\n    </tr>\n  </thead>\n  <tbody>\n    <tr>\n      <th>0</th>\n      <td>chr15</td>\n      <td>75631787</td>\n      <td>75972909</td>\n    </tr>\n    <tr>\n      <th>1</th>\n      <td>chrX</td>\n      <td>53363456</td>\n      <td>53793054</td>\n    </tr>\n    <tr>\n      <th>2</th>\n      <td>chr16</td>\n      <td>21570113</td>\n      <td>21740423</td>\n    </tr>\n    <tr>\n      <th>3</th>\n      <td>chr15</td>\n      <td>72963715</td>\n      <td>75508312</td>\n    </tr>\n    <tr>\n      <th>4</th>\n      <td>chr15</td>\n      <td>32019621</td>\n      <td>32445405</td>\n    </tr>\n  </tbody>\n</table>\n</div>"
     },
     "metadata": {},
     "execution_count": 113
    }
   ],
   "source": [
    "position.head()"
   ]
  },
  {
   "cell_type": "code",
   "execution_count": 114,
   "metadata": {},
   "outputs": [],
   "source": [
    "region_pos = region.merge(position, how='left', left_index=True, right_index=True)"
   ]
  },
  {
   "cell_type": "code",
   "execution_count": 115,
   "metadata": {},
   "outputs": [
    {
     "output_type": "execute_result",
     "data": {
      "text/plain": "     #ISCA ID                                   ISCA Region Name  \\\n0  ISCA-46300      15q24 recurrent region (C-D) (includes SIN3A)   \n1  ISCA-46299                    Xp11.22 region (includes HUWE1)   \n2  ISCA-46297  16p12.2 recurrent region (includes OTOA) (dist...   \n3  ISCA-46296                       15q24 recurrent region (A-C)   \n4  ISCA-46295  15q13.3 recurrent region (D-CHRNA7 to BP5) (in...   \n\n        cytoBand          Genomic Location Haploinsufficiency Score  \\\n0            NaN  chr15: 75631787-75972909                        3   \n1        Xp11.22    chrX:53363456-53793054                        0   \n2        16p12.2   chr16:21570113-21740423                       30   \n3  15q24.1-q24.2   chr15:72963715-75508312                        3   \n4        15q13.3   chr15:32019621-32445405                        3   \n\n                      Haploinsufficiency Description Haploinsufficiency PMID1  \\\n0       Sufficient evidence for dosage pathogenicity                 27399968   \n1                              No evidence available                      NaN   \n2  Gene associated with autosomal recessive pheno...                      NaN   \n3       Sufficient evidence for dosage pathogenicity                 22180641   \n4       Sufficient evidence for dosage pathogenicity                 19898479   \n\n  Haploinsufficiency PMID2 Haploinsufficiency PMID3 Triplosensitivity Score  \\\n0                 22180641                      NaN                       0   \n1                      NaN                      NaN                       3   \n2                      NaN                      NaN                      40   \n3                 19921647                      NaN                       1   \n4                 20236110                 22775350                      40   \n\n                  Triplosensitivity Description Triplosensitivity PMID1  \\\n0                         No evidence available                     NaN   \n1  Sufficient evidence for dosage pathogenicity                22840365   \n2                   Dosage sensitivity unlikely                     NaN   \n3      Little evidence for dosage pathogenicity                19557438   \n4                   Dosage sensitivity unlikely                26968334   \n\n  Triplosensitivity PMID2 Triplosensitivity PMID3 Date Last Evaluated  \\\n0                     NaN                     NaN          2020-01-13   \n1                20655035                26692240          2018-11-19   \n2                     NaN                     NaN          2019-11-03   \n3                20860070                     NaN          2020-01-03   \n4                22420048                     NaN          2018-05-10   \n\n  Loss phenotype OMIM ID Triplosensitive phenotype OMIM ID  chrom     start  \\\n0                 613406                               NaN  chr15  75631787   \n1                    NaN                               NaN   chrX  53363456   \n2                 607039                               NaN  chr16  21570113   \n3                    NaN                               NaN  chr15  72963715   \n4                    NaN                               NaN  chr15  32019621   \n\n        end  \n0  75972909  \n1  53793054  \n2  21740423  \n3  75508312  \n4  32445405  ",
      "text/html": "<div>\n<style scoped>\n    .dataframe tbody tr th:only-of-type {\n        vertical-align: middle;\n    }\n\n    .dataframe tbody tr th {\n        vertical-align: top;\n    }\n\n    .dataframe thead th {\n        text-align: right;\n    }\n</style>\n<table border=\"1\" class=\"dataframe\">\n  <thead>\n    <tr style=\"text-align: right;\">\n      <th></th>\n      <th>#ISCA ID</th>\n      <th>ISCA Region Name</th>\n      <th>cytoBand</th>\n      <th>Genomic Location</th>\n      <th>Haploinsufficiency Score</th>\n      <th>Haploinsufficiency Description</th>\n      <th>Haploinsufficiency PMID1</th>\n      <th>Haploinsufficiency PMID2</th>\n      <th>Haploinsufficiency PMID3</th>\n      <th>Triplosensitivity Score</th>\n      <th>Triplosensitivity Description</th>\n      <th>Triplosensitivity PMID1</th>\n      <th>Triplosensitivity PMID2</th>\n      <th>Triplosensitivity PMID3</th>\n      <th>Date Last Evaluated</th>\n      <th>Loss phenotype OMIM ID</th>\n      <th>Triplosensitive phenotype OMIM ID</th>\n      <th>chrom</th>\n      <th>start</th>\n      <th>end</th>\n    </tr>\n  </thead>\n  <tbody>\n    <tr>\n      <th>0</th>\n      <td>ISCA-46300</td>\n      <td>15q24 recurrent region (C-D) (includes SIN3A)</td>\n      <td>NaN</td>\n      <td>chr15: 75631787-75972909</td>\n      <td>3</td>\n      <td>Sufficient evidence for dosage pathogenicity</td>\n      <td>27399968</td>\n      <td>22180641</td>\n      <td>NaN</td>\n      <td>0</td>\n      <td>No evidence available</td>\n      <td>NaN</td>\n      <td>NaN</td>\n      <td>NaN</td>\n      <td>2020-01-13</td>\n      <td>613406</td>\n      <td>NaN</td>\n      <td>chr15</td>\n      <td>75631787</td>\n      <td>75972909</td>\n    </tr>\n    <tr>\n      <th>1</th>\n      <td>ISCA-46299</td>\n      <td>Xp11.22 region (includes HUWE1)</td>\n      <td>Xp11.22</td>\n      <td>chrX:53363456-53793054</td>\n      <td>0</td>\n      <td>No evidence available</td>\n      <td>NaN</td>\n      <td>NaN</td>\n      <td>NaN</td>\n      <td>3</td>\n      <td>Sufficient evidence for dosage pathogenicity</td>\n      <td>22840365</td>\n      <td>20655035</td>\n      <td>26692240</td>\n      <td>2018-11-19</td>\n      <td>NaN</td>\n      <td>NaN</td>\n      <td>chrX</td>\n      <td>53363456</td>\n      <td>53793054</td>\n    </tr>\n    <tr>\n      <th>2</th>\n      <td>ISCA-46297</td>\n      <td>16p12.2 recurrent region (includes OTOA) (dist...</td>\n      <td>16p12.2</td>\n      <td>chr16:21570113-21740423</td>\n      <td>30</td>\n      <td>Gene associated with autosomal recessive pheno...</td>\n      <td>NaN</td>\n      <td>NaN</td>\n      <td>NaN</td>\n      <td>40</td>\n      <td>Dosage sensitivity unlikely</td>\n      <td>NaN</td>\n      <td>NaN</td>\n      <td>NaN</td>\n      <td>2019-11-03</td>\n      <td>607039</td>\n      <td>NaN</td>\n      <td>chr16</td>\n      <td>21570113</td>\n      <td>21740423</td>\n    </tr>\n    <tr>\n      <th>3</th>\n      <td>ISCA-46296</td>\n      <td>15q24 recurrent region (A-C)</td>\n      <td>15q24.1-q24.2</td>\n      <td>chr15:72963715-75508312</td>\n      <td>3</td>\n      <td>Sufficient evidence for dosage pathogenicity</td>\n      <td>22180641</td>\n      <td>19921647</td>\n      <td>NaN</td>\n      <td>1</td>\n      <td>Little evidence for dosage pathogenicity</td>\n      <td>19557438</td>\n      <td>20860070</td>\n      <td>NaN</td>\n      <td>2020-01-03</td>\n      <td>NaN</td>\n      <td>NaN</td>\n      <td>chr15</td>\n      <td>72963715</td>\n      <td>75508312</td>\n    </tr>\n    <tr>\n      <th>4</th>\n      <td>ISCA-46295</td>\n      <td>15q13.3 recurrent region (D-CHRNA7 to BP5) (in...</td>\n      <td>15q13.3</td>\n      <td>chr15:32019621-32445405</td>\n      <td>3</td>\n      <td>Sufficient evidence for dosage pathogenicity</td>\n      <td>19898479</td>\n      <td>20236110</td>\n      <td>22775350</td>\n      <td>40</td>\n      <td>Dosage sensitivity unlikely</td>\n      <td>26968334</td>\n      <td>22420048</td>\n      <td>NaN</td>\n      <td>2018-05-10</td>\n      <td>NaN</td>\n      <td>NaN</td>\n      <td>chr15</td>\n      <td>32019621</td>\n      <td>32445405</td>\n    </tr>\n  </tbody>\n</table>\n</div>"
     },
     "metadata": {},
     "execution_count": 115
    }
   ],
   "source": [
    "region_pos.head()"
   ]
  },
  {
   "cell_type": "code",
   "execution_count": 116,
   "metadata": {},
   "outputs": [],
   "source": [
    "func_region = region_pos.loc[\n",
    "    (region_pos['Haploinsufficiency Score'].isin(['1', '2','3']))\n",
    "     | (region_pos['Triplosensitivity Score'].isin(['1', '2','3'])),\n",
    "     ['chrom', 'start', 'end', '#ISCA ID', 'ISCA Region Name']\n",
    "].sort_values(['chrom', 'start', 'end'])"
   ]
  },
  {
   "cell_type": "code",
   "execution_count": 117,
   "metadata": {},
   "outputs": [
    {
     "output_type": "execute_result",
     "data": {
      "text/plain": "    chrom      start        end    #ISCA ID  \\\n43   chr1     834083    6289973  ISCA-37434   \n48   chr1  145386507  145748064  ISCA-37428   \n51   chr1  146577486  147394506  ISCA-37421   \n18   chr1  243287730  245318287  ISCA-37493   \n50  chr10   81682843   88739388  ISCA-37424   \n\n                                     ISCA Region Name  \n43              1p36 terminal region (includes GABRD)  \n48  1q21.1 recurrent (TAR syndrome) region (BP2-BP...  \n51  1q21.1 recurrent region (BP3-BP4, distal) (inc...  \n18            1q43q44 terminal region (includes AKT3)  \n50  10q22.3q23.2 recurrent region (LCR-3/4-flanked...  ",
      "text/html": "<div>\n<style scoped>\n    .dataframe tbody tr th:only-of-type {\n        vertical-align: middle;\n    }\n\n    .dataframe tbody tr th {\n        vertical-align: top;\n    }\n\n    .dataframe thead th {\n        text-align: right;\n    }\n</style>\n<table border=\"1\" class=\"dataframe\">\n  <thead>\n    <tr style=\"text-align: right;\">\n      <th></th>\n      <th>chrom</th>\n      <th>start</th>\n      <th>end</th>\n      <th>#ISCA ID</th>\n      <th>ISCA Region Name</th>\n    </tr>\n  </thead>\n  <tbody>\n    <tr>\n      <th>43</th>\n      <td>chr1</td>\n      <td>834083</td>\n      <td>6289973</td>\n      <td>ISCA-37434</td>\n      <td>1p36 terminal region (includes GABRD)</td>\n    </tr>\n    <tr>\n      <th>48</th>\n      <td>chr1</td>\n      <td>145386507</td>\n      <td>145748064</td>\n      <td>ISCA-37428</td>\n      <td>1q21.1 recurrent (TAR syndrome) region (BP2-BP...</td>\n    </tr>\n    <tr>\n      <th>51</th>\n      <td>chr1</td>\n      <td>146577486</td>\n      <td>147394506</td>\n      <td>ISCA-37421</td>\n      <td>1q21.1 recurrent region (BP3-BP4, distal) (inc...</td>\n    </tr>\n    <tr>\n      <th>18</th>\n      <td>chr1</td>\n      <td>243287730</td>\n      <td>245318287</td>\n      <td>ISCA-37493</td>\n      <td>1q43q44 terminal region (includes AKT3)</td>\n    </tr>\n    <tr>\n      <th>50</th>\n      <td>chr10</td>\n      <td>81682843</td>\n      <td>88739388</td>\n      <td>ISCA-37424</td>\n      <td>10q22.3q23.2 recurrent region (LCR-3/4-flanked...</td>\n    </tr>\n  </tbody>\n</table>\n</div>"
     },
     "metadata": {},
     "execution_count": 117
    }
   ],
   "source": [
    "func_region.head()"
   ]
  },
  {
   "cell_type": "code",
   "execution_count": 118,
   "metadata": {},
   "outputs": [],
   "source": [
    "func_region.rename(columns={\n",
    "    'chrom': '#chrom',\n",
    "    '#ISCA ID': 'isca_id', 'ISCA Region Name': 'name'\n",
    "}).to_csv(func_region_file, sep='\\t', index=False)"
   ]
  },
  {
   "cell_type": "code",
   "execution_count": 120,
   "metadata": {
    "tags": []
   },
   "outputs": [],
   "source": [
    "!bgzip -cf {func_region_file} > {func_region_file}.gz"
   ]
  },
  {
   "cell_type": "code",
   "execution_count": 121,
   "metadata": {},
   "outputs": [],
   "source": [
    "!tabix -fp bed {func_region_file}.gz\n",
    "!rm {func_region_file}"
   ]
  },
  {
   "cell_type": "code",
   "execution_count": 122,
   "metadata": {},
   "outputs": [],
   "source": [
    "hi_region = region_pos.loc[\n",
    "    region_pos['Haploinsufficiency Score'] == '3',\n",
    "    ['chrom', 'start', 'end', '#ISCA ID', 'ISCA Region Name']\n",
    "].sort_values(['chrom', 'start', 'end'])"
   ]
  },
  {
   "cell_type": "code",
   "execution_count": 123,
   "metadata": {},
   "outputs": [
    {
     "output_type": "execute_result",
     "data": {
      "text/plain": "    chrom      start        end    #ISCA ID  \\\n43   chr1     834083    6289973  ISCA-37434   \n51   chr1  146577486  147394506  ISCA-37421   \n18   chr1  243287730  245318287  ISCA-37493   \n50  chr10   81682843   88739388  ISCA-37424   \n62  chr11   31803509   32510988  ISCA-37401   \n\n                                     ISCA Region Name  \n43              1p36 terminal region (includes GABRD)  \n51  1q21.1 recurrent region (BP3-BP4, distal) (inc...  \n18            1q43q44 terminal region (includes AKT3)  \n50  10q22.3q23.2 recurrent region (LCR-3/4-flanked...  \n62                       11p13 (WAGR syndrome) region  ",
      "text/html": "<div>\n<style scoped>\n    .dataframe tbody tr th:only-of-type {\n        vertical-align: middle;\n    }\n\n    .dataframe tbody tr th {\n        vertical-align: top;\n    }\n\n    .dataframe thead th {\n        text-align: right;\n    }\n</style>\n<table border=\"1\" class=\"dataframe\">\n  <thead>\n    <tr style=\"text-align: right;\">\n      <th></th>\n      <th>chrom</th>\n      <th>start</th>\n      <th>end</th>\n      <th>#ISCA ID</th>\n      <th>ISCA Region Name</th>\n    </tr>\n  </thead>\n  <tbody>\n    <tr>\n      <th>43</th>\n      <td>chr1</td>\n      <td>834083</td>\n      <td>6289973</td>\n      <td>ISCA-37434</td>\n      <td>1p36 terminal region (includes GABRD)</td>\n    </tr>\n    <tr>\n      <th>51</th>\n      <td>chr1</td>\n      <td>146577486</td>\n      <td>147394506</td>\n      <td>ISCA-37421</td>\n      <td>1q21.1 recurrent region (BP3-BP4, distal) (inc...</td>\n    </tr>\n    <tr>\n      <th>18</th>\n      <td>chr1</td>\n      <td>243287730</td>\n      <td>245318287</td>\n      <td>ISCA-37493</td>\n      <td>1q43q44 terminal region (includes AKT3)</td>\n    </tr>\n    <tr>\n      <th>50</th>\n      <td>chr10</td>\n      <td>81682843</td>\n      <td>88739388</td>\n      <td>ISCA-37424</td>\n      <td>10q22.3q23.2 recurrent region (LCR-3/4-flanked...</td>\n    </tr>\n    <tr>\n      <th>62</th>\n      <td>chr11</td>\n      <td>31803509</td>\n      <td>32510988</td>\n      <td>ISCA-37401</td>\n      <td>11p13 (WAGR syndrome) region</td>\n    </tr>\n  </tbody>\n</table>\n</div>"
     },
     "metadata": {},
     "execution_count": 123
    }
   ],
   "source": [
    "hi_region.head()"
   ]
  },
  {
   "cell_type": "code",
   "execution_count": 124,
   "metadata": {},
   "outputs": [],
   "source": [
    "hi_region['omim_genes'] = hi_region.apply(\n",
    "    lambda row: ','.join(omim_gene.loc[\n",
    "        (omim_gene['chrom'] == row['chrom'])\n",
    "        & (omim_gene['txEnd'] >= row['start'])\n",
    "        & (omim_gene['txStart'] <= row['end']),\n",
    "        'name2'\n",
    "    ]),\n",
    "    axis=1\n",
    ")"
   ]
  },
  {
   "cell_type": "code",
   "execution_count": 125,
   "metadata": {},
   "outputs": [
    {
     "output_type": "execute_result",
     "data": {
      "text/plain": "    chrom      start        end    #ISCA ID  \\\n43   chr1     834083    6289973  ISCA-37434   \n51   chr1  146577486  147394506  ISCA-37421   \n18   chr1  243287730  245318287  ISCA-37493   \n50  chr10   81682843   88739388  ISCA-37424   \n62  chr11   31803509   32510988  ISCA-37401   \n\n                                     ISCA Region Name  \\\n43              1p36 terminal region (includes GABRD)   \n51  1q21.1 recurrent region (BP3-BP4, distal) (inc...   \n18            1q43q44 terminal region (includes AKT3)   \n50  10q22.3q23.2 recurrent region (LCR-3/4-flanked...   \n62                       11p13 (WAGR syndrome) region   \n\n                                           omim_genes  \n43  ISG15,AGRN,TNFRSF4,B3GALT6,DVL1,ATAD3A,TMEM240...  \n51                                          GJA5,GJA8  \n18                   SDCCAG8,AKT3,ZBTB18,COX20,HNRNPU  \n50                 ANXA11,MAT1A,CDHR1,RGR,LDB3,BMPR1A  \n62                                      ELP4,PAX6,WT1  ",
      "text/html": "<div>\n<style scoped>\n    .dataframe tbody tr th:only-of-type {\n        vertical-align: middle;\n    }\n\n    .dataframe tbody tr th {\n        vertical-align: top;\n    }\n\n    .dataframe thead th {\n        text-align: right;\n    }\n</style>\n<table border=\"1\" class=\"dataframe\">\n  <thead>\n    <tr style=\"text-align: right;\">\n      <th></th>\n      <th>chrom</th>\n      <th>start</th>\n      <th>end</th>\n      <th>#ISCA ID</th>\n      <th>ISCA Region Name</th>\n      <th>omim_genes</th>\n    </tr>\n  </thead>\n  <tbody>\n    <tr>\n      <th>43</th>\n      <td>chr1</td>\n      <td>834083</td>\n      <td>6289973</td>\n      <td>ISCA-37434</td>\n      <td>1p36 terminal region (includes GABRD)</td>\n      <td>ISG15,AGRN,TNFRSF4,B3GALT6,DVL1,ATAD3A,TMEM240...</td>\n    </tr>\n    <tr>\n      <th>51</th>\n      <td>chr1</td>\n      <td>146577486</td>\n      <td>147394506</td>\n      <td>ISCA-37421</td>\n      <td>1q21.1 recurrent region (BP3-BP4, distal) (inc...</td>\n      <td>GJA5,GJA8</td>\n    </tr>\n    <tr>\n      <th>18</th>\n      <td>chr1</td>\n      <td>243287730</td>\n      <td>245318287</td>\n      <td>ISCA-37493</td>\n      <td>1q43q44 terminal region (includes AKT3)</td>\n      <td>SDCCAG8,AKT3,ZBTB18,COX20,HNRNPU</td>\n    </tr>\n    <tr>\n      <th>50</th>\n      <td>chr10</td>\n      <td>81682843</td>\n      <td>88739388</td>\n      <td>ISCA-37424</td>\n      <td>10q22.3q23.2 recurrent region (LCR-3/4-flanked...</td>\n      <td>ANXA11,MAT1A,CDHR1,RGR,LDB3,BMPR1A</td>\n    </tr>\n    <tr>\n      <th>62</th>\n      <td>chr11</td>\n      <td>31803509</td>\n      <td>32510988</td>\n      <td>ISCA-37401</td>\n      <td>11p13 (WAGR syndrome) region</td>\n      <td>ELP4,PAX6,WT1</td>\n    </tr>\n  </tbody>\n</table>\n</div>"
     },
     "metadata": {},
     "execution_count": 125
    }
   ],
   "source": [
    "hi_region.head()"
   ]
  },
  {
   "cell_type": "code",
   "execution_count": 126,
   "metadata": {},
   "outputs": [],
   "source": [
    "hi_region.rename(columns={\n",
    "    'chrom': '#chrom',\n",
    "    '#ISCA ID': 'isca_id', 'ISCA Region Name': 'name'\n",
    "}).to_csv(hi_region_file, sep='\\t', index=False)"
   ]
  },
  {
   "cell_type": "code",
   "execution_count": 127,
   "metadata": {},
   "outputs": [],
   "source": [
    "!bgzip -cf {hi_region_file} > {hi_region_file}.gz"
   ]
  },
  {
   "cell_type": "code",
   "execution_count": 128,
   "metadata": {},
   "outputs": [],
   "source": [
    "!tabix -fp bed {hi_region_file}.gz\n",
    "!rm {hi_region_file}"
   ]
  },
  {
   "cell_type": "code",
   "execution_count": 129,
   "metadata": {},
   "outputs": [],
   "source": [
    "uhi_region = region_pos.loc[\n",
    "    region_pos['Haploinsufficiency Score'] == '40',\n",
    "    ['chrom', 'start', 'end', '#ISCA ID', 'ISCA Region Name']\n",
    "].sort_values(['chrom', 'start', 'end'])"
   ]
  },
  {
   "cell_type": "code",
   "execution_count": 130,
   "metadata": {},
   "outputs": [
    {
     "output_type": "execute_result",
     "data": {
      "text/plain": "    chrom      start        end    #ISCA ID  \\\n29   chr1  148867551  149768855  ISCA-37469   \n25  chr14   22111109   23021097  ISCA-37476   \n24  chr14  106050000  107289540  ISCA-37477   \n21  chr16   34202088   35147508  ISCA-37481   \n20  chr19   43242796   43741310  ISCA-37483   \n\n                                ISCA Region Name  \n29            1q21.2 region (polymorphic region)  \n25                  14q11.2 region (TCRA region)  \n24  1 copy: 14q telomere; 3 copies: 14q telomere  \n21                      3 copies: 16p centromere  \n20             19q13.3 region (PSG gene cluster)  ",
      "text/html": "<div>\n<style scoped>\n    .dataframe tbody tr th:only-of-type {\n        vertical-align: middle;\n    }\n\n    .dataframe tbody tr th {\n        vertical-align: top;\n    }\n\n    .dataframe thead th {\n        text-align: right;\n    }\n</style>\n<table border=\"1\" class=\"dataframe\">\n  <thead>\n    <tr style=\"text-align: right;\">\n      <th></th>\n      <th>chrom</th>\n      <th>start</th>\n      <th>end</th>\n      <th>#ISCA ID</th>\n      <th>ISCA Region Name</th>\n    </tr>\n  </thead>\n  <tbody>\n    <tr>\n      <th>29</th>\n      <td>chr1</td>\n      <td>148867551</td>\n      <td>149768855</td>\n      <td>ISCA-37469</td>\n      <td>1q21.2 region (polymorphic region)</td>\n    </tr>\n    <tr>\n      <th>25</th>\n      <td>chr14</td>\n      <td>22111109</td>\n      <td>23021097</td>\n      <td>ISCA-37476</td>\n      <td>14q11.2 region (TCRA region)</td>\n    </tr>\n    <tr>\n      <th>24</th>\n      <td>chr14</td>\n      <td>106050000</td>\n      <td>107289540</td>\n      <td>ISCA-37477</td>\n      <td>1 copy: 14q telomere; 3 copies: 14q telomere</td>\n    </tr>\n    <tr>\n      <th>21</th>\n      <td>chr16</td>\n      <td>34202088</td>\n      <td>35147508</td>\n      <td>ISCA-37481</td>\n      <td>3 copies: 16p centromere</td>\n    </tr>\n    <tr>\n      <th>20</th>\n      <td>chr19</td>\n      <td>43242796</td>\n      <td>43741310</td>\n      <td>ISCA-37483</td>\n      <td>19q13.3 region (PSG gene cluster)</td>\n    </tr>\n  </tbody>\n</table>\n</div>"
     },
     "metadata": {},
     "execution_count": 130
    }
   ],
   "source": [
    "uhi_region.head()"
   ]
  },
  {
   "cell_type": "code",
   "execution_count": 131,
   "metadata": {},
   "outputs": [],
   "source": [
    "uhi_region['genes'] = uhi_region.apply(\n",
    "    lambda row: ','.join(gene.loc[\n",
    "        (gene['chrom'] == row['chrom'])\n",
    "        & (gene['txEnd'] >= row['start'])\n",
    "        & (gene['txStart'] <= row['end']),\n",
    "        'name2'\n",
    "    ]),\n",
    "    axis=1\n",
    ")"
   ]
  },
  {
   "cell_type": "code",
   "execution_count": 132,
   "metadata": {},
   "outputs": [
    {
     "output_type": "execute_result",
     "data": {
      "text/plain": "    chrom      start        end    #ISCA ID  \\\n29   chr1  148867551  149768855  ISCA-37469   \n25  chr14   22111109   23021097  ISCA-37476   \n24  chr14  106050000  107289540  ISCA-37477   \n21  chr16   34202088   35147508  ISCA-37481   \n20  chr19   43242796   43741310  ISCA-37483   \n\n                                ISCA Region Name  \\\n29            1q21.2 region (polymorphic region)   \n25                  14q11.2 region (TCRA region)   \n24  1 copy: 14q telomere; 3 copies: 14q telomere   \n21                      3 copies: 16p centromere   \n20             19q13.3 region (PSG gene cluster)   \n\n                                            genes  \n29                     H3-2,PPIAL4C,H2BC18,FCGR1A  \n25                                    OR4E2,OR4E1  \n24                                                 \n21                                                 \n20  PSG3,PSG8,PSG1,PSG6,PSG7,PSG11,PSG2,PSG5,PSG4  ",
      "text/html": "<div>\n<style scoped>\n    .dataframe tbody tr th:only-of-type {\n        vertical-align: middle;\n    }\n\n    .dataframe tbody tr th {\n        vertical-align: top;\n    }\n\n    .dataframe thead th {\n        text-align: right;\n    }\n</style>\n<table border=\"1\" class=\"dataframe\">\n  <thead>\n    <tr style=\"text-align: right;\">\n      <th></th>\n      <th>chrom</th>\n      <th>start</th>\n      <th>end</th>\n      <th>#ISCA ID</th>\n      <th>ISCA Region Name</th>\n      <th>genes</th>\n    </tr>\n  </thead>\n  <tbody>\n    <tr>\n      <th>29</th>\n      <td>chr1</td>\n      <td>148867551</td>\n      <td>149768855</td>\n      <td>ISCA-37469</td>\n      <td>1q21.2 region (polymorphic region)</td>\n      <td>H3-2,PPIAL4C,H2BC18,FCGR1A</td>\n    </tr>\n    <tr>\n      <th>25</th>\n      <td>chr14</td>\n      <td>22111109</td>\n      <td>23021097</td>\n      <td>ISCA-37476</td>\n      <td>14q11.2 region (TCRA region)</td>\n      <td>OR4E2,OR4E1</td>\n    </tr>\n    <tr>\n      <th>24</th>\n      <td>chr14</td>\n      <td>106050000</td>\n      <td>107289540</td>\n      <td>ISCA-37477</td>\n      <td>1 copy: 14q telomere; 3 copies: 14q telomere</td>\n      <td></td>\n    </tr>\n    <tr>\n      <th>21</th>\n      <td>chr16</td>\n      <td>34202088</td>\n      <td>35147508</td>\n      <td>ISCA-37481</td>\n      <td>3 copies: 16p centromere</td>\n      <td></td>\n    </tr>\n    <tr>\n      <th>20</th>\n      <td>chr19</td>\n      <td>43242796</td>\n      <td>43741310</td>\n      <td>ISCA-37483</td>\n      <td>19q13.3 region (PSG gene cluster)</td>\n      <td>PSG3,PSG8,PSG1,PSG6,PSG7,PSG11,PSG2,PSG5,PSG4</td>\n    </tr>\n  </tbody>\n</table>\n</div>"
     },
     "metadata": {},
     "execution_count": 132
    }
   ],
   "source": [
    "uhi_region.head()"
   ]
  },
  {
   "cell_type": "code",
   "execution_count": 133,
   "metadata": {},
   "outputs": [],
   "source": [
    "uhi_region.rename(columns={\n",
    "    'chrom': '#chrom',\n",
    "    '#ISCA ID': 'isca_id', 'ISCA Region Name': 'name'\n",
    "}).to_csv(uhi_region_file, sep='\\t', index=False)"
   ]
  },
  {
   "cell_type": "code",
   "execution_count": 134,
   "metadata": {},
   "outputs": [],
   "source": [
    "!bgzip -cf {uhi_region_file} > {uhi_region_file}.gz"
   ]
  },
  {
   "cell_type": "code",
   "execution_count": 135,
   "metadata": {},
   "outputs": [],
   "source": [
    "!tabix -fp bed {uhi_region_file}.gz\n",
    "!rm {uhi_region_file}"
   ]
  },
  {
   "cell_type": "code",
   "execution_count": 136,
   "metadata": {},
   "outputs": [],
   "source": [
    "decipher = pd.read_csv(hi_pred_ori_file, sep='\\t',skiprows=1, header=None, usecols=[3,])\n",
    "decipher = decipher[3].str.split('|', expand=True).rename(columns={0: 'symbol', 1: 'hi_score', 2: 'hi_index'})\n",
    "decipher['hi_index'] = decipher['hi_index'].str.replace('%', '').astype(float)\n",
    "decipher = decipher.merge(gene, left_on='symbol', right_on='name2')"
   ]
  },
  {
   "cell_type": "code",
   "execution_count": 137,
   "metadata": {},
   "outputs": [
    {
     "output_type": "execute_result",
     "data": {
      "text/plain": "    symbol     hi_score  hi_index  chrom    txStart      txEnd  GeneID  \\\n0   ANXA2R  0.000047349    100.00   chr5   43039181   43040447  389289   \n1  SCGB1D1  0.000054551     99.99  chr11   61957687   61961011   10648   \n2     IL31  0.000057228     99.99  chr12  122656575  122658768  386653   \n3   BPIFA2  0.000061264     99.98  chr20   31749575   31769218  140683   \n4    MUCL1  0.000067779     99.98  chr12   55248299   55252171  118430   \n\n     name2          name strand  \n0   ANXA2R  NM_001014279      -  \n1  SCGB1D1     NM_006552      +  \n2     IL31  NM_001014336      -  \n3   BPIFA2  NM_001319164      +  \n4    MUCL1     NM_058173      +  ",
      "text/html": "<div>\n<style scoped>\n    .dataframe tbody tr th:only-of-type {\n        vertical-align: middle;\n    }\n\n    .dataframe tbody tr th {\n        vertical-align: top;\n    }\n\n    .dataframe thead th {\n        text-align: right;\n    }\n</style>\n<table border=\"1\" class=\"dataframe\">\n  <thead>\n    <tr style=\"text-align: right;\">\n      <th></th>\n      <th>symbol</th>\n      <th>hi_score</th>\n      <th>hi_index</th>\n      <th>chrom</th>\n      <th>txStart</th>\n      <th>txEnd</th>\n      <th>GeneID</th>\n      <th>name2</th>\n      <th>name</th>\n      <th>strand</th>\n    </tr>\n  </thead>\n  <tbody>\n    <tr>\n      <th>0</th>\n      <td>ANXA2R</td>\n      <td>0.000047349</td>\n      <td>100.00</td>\n      <td>chr5</td>\n      <td>43039181</td>\n      <td>43040447</td>\n      <td>389289</td>\n      <td>ANXA2R</td>\n      <td>NM_001014279</td>\n      <td>-</td>\n    </tr>\n    <tr>\n      <th>1</th>\n      <td>SCGB1D1</td>\n      <td>0.000054551</td>\n      <td>99.99</td>\n      <td>chr11</td>\n      <td>61957687</td>\n      <td>61961011</td>\n      <td>10648</td>\n      <td>SCGB1D1</td>\n      <td>NM_006552</td>\n      <td>+</td>\n    </tr>\n    <tr>\n      <th>2</th>\n      <td>IL31</td>\n      <td>0.000057228</td>\n      <td>99.99</td>\n      <td>chr12</td>\n      <td>122656575</td>\n      <td>122658768</td>\n      <td>386653</td>\n      <td>IL31</td>\n      <td>NM_001014336</td>\n      <td>-</td>\n    </tr>\n    <tr>\n      <th>3</th>\n      <td>BPIFA2</td>\n      <td>0.000061264</td>\n      <td>99.98</td>\n      <td>chr20</td>\n      <td>31749575</td>\n      <td>31769218</td>\n      <td>140683</td>\n      <td>BPIFA2</td>\n      <td>NM_001319164</td>\n      <td>+</td>\n    </tr>\n    <tr>\n      <th>4</th>\n      <td>MUCL1</td>\n      <td>0.000067779</td>\n      <td>99.98</td>\n      <td>chr12</td>\n      <td>55248299</td>\n      <td>55252171</td>\n      <td>118430</td>\n      <td>MUCL1</td>\n      <td>NM_058173</td>\n      <td>+</td>\n    </tr>\n  </tbody>\n</table>\n</div>"
     },
     "metadata": {},
     "execution_count": 137
    }
   ],
   "source": [
    "decipher.head()"
   ]
  },
  {
   "cell_type": "code",
   "execution_count": 140,
   "metadata": {},
   "outputs": [],
   "source": [
    "gnomad = pd.read_csv(gnomad_lof_ori_file, sep='\\t', index_col=0, compression='gzip')"
   ]
  },
  {
   "cell_type": "code",
   "execution_count": 141,
   "metadata": {},
   "outputs": [
    {
     "output_type": "execute_result",
     "data": {
      "text/plain": "            transcript  obs_mis  exp_mis   oe_mis    mu_mis  possible_mis  \\\ngene                                                                        \nMED13  ENST00000397786      871  1117.80  0.77921  0.000056         14195   \nNIPBL  ENST00000282516      846  1441.50  0.58688  0.000074         18540   \nSMC3   ENST00000361804      178   630.07  0.28251  0.000032          8109   \nCNOT1  ENST00000317147      561  1295.90  0.43290  0.000069         15670   \nRLF    ENST00000372771      669   972.87  0.68766  0.000047         12682   \n\n       obs_mis_pphen  exp_mis_pphen  oe_mis_pphen  possible_mis_pphen  \\\ngene                                                                    \nMED13          314.0         529.75       0.59273              6708.0   \nNIPBL          158.0         543.10       0.29092              7135.0   \nSMC3            21.0         182.52       0.11506              2197.0   \nCNOT1           51.0         290.68       0.17545              3560.0   \nRLF            107.0         321.14       0.33319              4151.0   \n\n       obs_syn  exp_syn  oe_syn    mu_syn  possible_syn  obs_lof    mu_lof  \\\ngene                                                                         \nMED13      422   387.53  1.0890  0.000019          4248      0.0  0.000005   \nNIPBL      496   495.01  1.0020  0.000025          5211      1.0  0.000009   \nSMC3       215   203.25  1.0578  0.000010          2091      0.0  0.000005   \nCNOT1      470   456.03  1.0306  0.000024          4564      1.0  0.000007   \nRLF        358   352.62  1.0153  0.000017          3482      0.0  0.000004   \n\n       possible_lof  exp_lof  pLI         pNull          pRec    oe_lof  \\\ngene                                                                      \nMED13        1257.0   98.429  1.0  8.943600e-40  1.838300e-16  0.000000   \nNIPBL        1781.0  150.320  1.0  2.977300e-59  3.572400e-24  0.006653   \nSMC3          937.0   79.490  1.0  2.785300e-32  2.191400e-13  0.000000   \nCNOT1        1440.0  125.030  1.0  2.992400e-49  4.562900e-20  0.007998   \nRLF          1024.0   73.222  1.0  8.405500e-30  2.284200e-12  0.000000   \n\n       oe_syn_lower  oe_syn_upper  oe_mis_lower  oe_mis_upper  oe_lof_lower  \\\ngene                                                                          \nMED13         1.005         1.180         0.736         0.824         0.000   \nNIPBL         0.930         1.079         0.554         0.621         0.001   \nSMC3          0.946         1.184         0.249         0.320         0.000   \nCNOT1         0.955         1.112         0.403         0.464         0.002   \nRLF           0.930         1.108         0.645         0.733         0.000   \n\n       oe_lof_upper constraint_flag     syn_z   mis_z    lof_z  \\\ngene                                                             \nMED13         0.030             NaN -1.376500  2.6232   9.1935   \nNIPBL         0.032             NaN -0.035119  5.5737  11.2860   \nSMC3          0.037             NaN -0.647760  6.3999   8.2618   \nCNOT1         0.038             NaN -0.514100  7.2546  10.2790   \nRLF           0.040             NaN -0.225180  3.4620   7.9294   \n\n       oe_lof_upper_rank  oe_lof_upper_bin  oe_lof_upper_bin_6  n_sites  \\\ngene                                                                      \nMED13                0.0               0.0                 0.0      2.0   \nNIPBL                1.0               0.0                 0.0      2.0   \nSMC3                 2.0               0.0                 0.0      8.0   \nCNOT1                3.0               0.0                 0.0      5.0   \nRLF                  4.0               0.0                 0.0      1.0   \n\n       classic_caf    max_af   no_lofs  obs_het_lof  obs_hom_lof   defined  \\\ngene                                                                         \nMED13     0.000012  0.000008  124782.0          3.0          0.0  124785.0   \nNIPBL     0.000012  0.000008  125693.0          3.0          0.0  125696.0   \nSMC3      0.000032  0.000004  125731.0          8.0          0.0  125739.0   \nCNOT1     0.000020  0.000004  125740.0          4.0          0.0  125744.0   \nRLF       0.000004  0.000004  125122.0          1.0          0.0  125123.0   \n\n              p  exp_hom_lof  classic_caf_afr  classic_caf_amr  \\\ngene                                                             \nMED13  0.000012     0.000018         0.000000         0.000000   \nNIPBL  0.000012     0.000018         0.000000         0.000000   \nSMC3   0.000032     0.000127         0.000000         0.000000   \nCNOT1  0.000016     0.000032         0.000000         0.000029   \nRLF    0.000004     0.000002         0.000062         0.000000   \n\n       classic_caf_asj  classic_caf_eas  classic_caf_fin  classic_caf_nfe  \\\ngene                                                                        \nMED13         0.000000         0.000000         0.000093         0.000009   \nNIPBL         0.000099         0.000000         0.000000         0.000000   \nSMC3          0.000099         0.000054         0.000000         0.000044   \nCNOT1         0.000000         0.000055         0.000000         0.000026   \nRLF           0.000000         0.000000         0.000000         0.000000   \n\n       classic_caf_oth  classic_caf_sas     p_afr     p_amr     p_asj  \\\ngene                                                                    \nMED13              0.0         0.000000  0.000000  0.000000  0.000000   \nNIPBL              0.0         0.000065  0.000000  0.000000  0.000099   \nSMC3               0.0         0.000033  0.000000  0.000000  0.000099   \nCNOT1              0.0         0.000000  0.000000  0.000029  0.000000   \nRLF                0.0         0.000000  0.000062  0.000000  0.000000   \n\n          p_eas     p_fin     p_nfe  p_oth     p_sas transcript_type  \\\ngene                                                                   \nMED13  0.000000  0.000093  0.000009    0.0  0.000000  protein_coding   \nNIPBL  0.000000  0.000000  0.000000    0.0  0.000065  protein_coding   \nSMC3   0.000054  0.000000  0.000044    0.0  0.000033  protein_coding   \nCNOT1  0.000054  0.000000  0.000018    0.0  0.000000  protein_coding   \nRLF    0.000000  0.000000  0.000000    0.0  0.000000  protein_coding   \n\n               gene_id  transcript_level  cds_length  num_coding_exons  \\\ngene                                                                     \nMED13  ENSG00000108510                 2        6522                30   \nNIPBL  ENSG00000164190                 2        8412                46   \nSMC3   ENSG00000108055                 2        3651                29   \nCNOT1  ENSG00000125107                 2        7128                48   \nRLF    ENSG00000117000                 2        5742                 8   \n\n            gene_type  gene_length  exac_pLI  exac_obs_lof  exac_exp_lof  \\\ngene                                                                       \nMED13  protein_coding       122678       1.0           0.0        64.393   \nNIPBL  protein_coding       189655       1.0           1.0       110.570   \nSMC3   protein_coding        36946       1.0           0.0        58.523   \nCNOT1  protein_coding       109936       1.0           3.0        90.130   \nRLF    protein_coding        79549       1.0           0.0        43.607   \n\n       exac_oe_lof  brain_expression chromosome  start_position  end_position  \ngene                                                                           \nMED13     0.000000               NaN         17        60019966      60142643  \nNIPBL     0.009044               NaN          5        36876861      37066515  \nSMC3      0.000000               NaN         10       112327449     112364394  \nCNOT1     0.033285               NaN         16        58553855      58663790  \nRLF       0.000000               NaN          1        40627045      40706593  ",
      "text/html": "<div>\n<style scoped>\n    .dataframe tbody tr th:only-of-type {\n        vertical-align: middle;\n    }\n\n    .dataframe tbody tr th {\n        vertical-align: top;\n    }\n\n    .dataframe thead th {\n        text-align: right;\n    }\n</style>\n<table border=\"1\" class=\"dataframe\">\n  <thead>\n    <tr style=\"text-align: right;\">\n      <th></th>\n      <th>transcript</th>\n      <th>obs_mis</th>\n      <th>exp_mis</th>\n      <th>oe_mis</th>\n      <th>mu_mis</th>\n      <th>possible_mis</th>\n      <th>obs_mis_pphen</th>\n      <th>exp_mis_pphen</th>\n      <th>oe_mis_pphen</th>\n      <th>possible_mis_pphen</th>\n      <th>obs_syn</th>\n      <th>exp_syn</th>\n      <th>oe_syn</th>\n      <th>mu_syn</th>\n      <th>possible_syn</th>\n      <th>obs_lof</th>\n      <th>mu_lof</th>\n      <th>possible_lof</th>\n      <th>exp_lof</th>\n      <th>pLI</th>\n      <th>pNull</th>\n      <th>pRec</th>\n      <th>oe_lof</th>\n      <th>oe_syn_lower</th>\n      <th>oe_syn_upper</th>\n      <th>oe_mis_lower</th>\n      <th>oe_mis_upper</th>\n      <th>oe_lof_lower</th>\n      <th>oe_lof_upper</th>\n      <th>constraint_flag</th>\n      <th>syn_z</th>\n      <th>mis_z</th>\n      <th>lof_z</th>\n      <th>oe_lof_upper_rank</th>\n      <th>oe_lof_upper_bin</th>\n      <th>oe_lof_upper_bin_6</th>\n      <th>n_sites</th>\n      <th>classic_caf</th>\n      <th>max_af</th>\n      <th>no_lofs</th>\n      <th>obs_het_lof</th>\n      <th>obs_hom_lof</th>\n      <th>defined</th>\n      <th>p</th>\n      <th>exp_hom_lof</th>\n      <th>classic_caf_afr</th>\n      <th>classic_caf_amr</th>\n      <th>classic_caf_asj</th>\n      <th>classic_caf_eas</th>\n      <th>classic_caf_fin</th>\n      <th>classic_caf_nfe</th>\n      <th>classic_caf_oth</th>\n      <th>classic_caf_sas</th>\n      <th>p_afr</th>\n      <th>p_amr</th>\n      <th>p_asj</th>\n      <th>p_eas</th>\n      <th>p_fin</th>\n      <th>p_nfe</th>\n      <th>p_oth</th>\n      <th>p_sas</th>\n      <th>transcript_type</th>\n      <th>gene_id</th>\n      <th>transcript_level</th>\n      <th>cds_length</th>\n      <th>num_coding_exons</th>\n      <th>gene_type</th>\n      <th>gene_length</th>\n      <th>exac_pLI</th>\n      <th>exac_obs_lof</th>\n      <th>exac_exp_lof</th>\n      <th>exac_oe_lof</th>\n      <th>brain_expression</th>\n      <th>chromosome</th>\n      <th>start_position</th>\n      <th>end_position</th>\n    </tr>\n    <tr>\n      <th>gene</th>\n      <th></th>\n      <th></th>\n      <th></th>\n      <th></th>\n      <th></th>\n      <th></th>\n      <th></th>\n      <th></th>\n      <th></th>\n      <th></th>\n      <th></th>\n      <th></th>\n      <th></th>\n      <th></th>\n      <th></th>\n      <th></th>\n      <th></th>\n      <th></th>\n      <th></th>\n      <th></th>\n      <th></th>\n      <th></th>\n      <th></th>\n      <th></th>\n      <th></th>\n      <th></th>\n      <th></th>\n      <th></th>\n      <th></th>\n      <th></th>\n      <th></th>\n      <th></th>\n      <th></th>\n      <th></th>\n      <th></th>\n      <th></th>\n      <th></th>\n      <th></th>\n      <th></th>\n      <th></th>\n      <th></th>\n      <th></th>\n      <th></th>\n      <th></th>\n      <th></th>\n      <th></th>\n      <th></th>\n      <th></th>\n      <th></th>\n      <th></th>\n      <th></th>\n      <th></th>\n      <th></th>\n      <th></th>\n      <th></th>\n      <th></th>\n      <th></th>\n      <th></th>\n      <th></th>\n      <th></th>\n      <th></th>\n      <th></th>\n      <th></th>\n      <th></th>\n      <th></th>\n      <th></th>\n      <th></th>\n      <th></th>\n      <th></th>\n      <th></th>\n      <th></th>\n      <th></th>\n      <th></th>\n      <th></th>\n      <th></th>\n      <th></th>\n    </tr>\n  </thead>\n  <tbody>\n    <tr>\n      <th>MED13</th>\n      <td>ENST00000397786</td>\n      <td>871</td>\n      <td>1117.80</td>\n      <td>0.77921</td>\n      <td>0.000056</td>\n      <td>14195</td>\n      <td>314.0</td>\n      <td>529.75</td>\n      <td>0.59273</td>\n      <td>6708.0</td>\n      <td>422</td>\n      <td>387.53</td>\n      <td>1.0890</td>\n      <td>0.000019</td>\n      <td>4248</td>\n      <td>0.0</td>\n      <td>0.000005</td>\n      <td>1257.0</td>\n      <td>98.429</td>\n      <td>1.0</td>\n      <td>8.943600e-40</td>\n      <td>1.838300e-16</td>\n      <td>0.000000</td>\n      <td>1.005</td>\n      <td>1.180</td>\n      <td>0.736</td>\n      <td>0.824</td>\n      <td>0.000</td>\n      <td>0.030</td>\n      <td>NaN</td>\n      <td>-1.376500</td>\n      <td>2.6232</td>\n      <td>9.1935</td>\n      <td>0.0</td>\n      <td>0.0</td>\n      <td>0.0</td>\n      <td>2.0</td>\n      <td>0.000012</td>\n      <td>0.000008</td>\n      <td>124782.0</td>\n      <td>3.0</td>\n      <td>0.0</td>\n      <td>124785.0</td>\n      <td>0.000012</td>\n      <td>0.000018</td>\n      <td>0.000000</td>\n      <td>0.000000</td>\n      <td>0.000000</td>\n      <td>0.000000</td>\n      <td>0.000093</td>\n      <td>0.000009</td>\n      <td>0.0</td>\n      <td>0.000000</td>\n      <td>0.000000</td>\n      <td>0.000000</td>\n      <td>0.000000</td>\n      <td>0.000000</td>\n      <td>0.000093</td>\n      <td>0.000009</td>\n      <td>0.0</td>\n      <td>0.000000</td>\n      <td>protein_coding</td>\n      <td>ENSG00000108510</td>\n      <td>2</td>\n      <td>6522</td>\n      <td>30</td>\n      <td>protein_coding</td>\n      <td>122678</td>\n      <td>1.0</td>\n      <td>0.0</td>\n      <td>64.393</td>\n      <td>0.000000</td>\n      <td>NaN</td>\n      <td>17</td>\n      <td>60019966</td>\n      <td>60142643</td>\n    </tr>\n    <tr>\n      <th>NIPBL</th>\n      <td>ENST00000282516</td>\n      <td>846</td>\n      <td>1441.50</td>\n      <td>0.58688</td>\n      <td>0.000074</td>\n      <td>18540</td>\n      <td>158.0</td>\n      <td>543.10</td>\n      <td>0.29092</td>\n      <td>7135.0</td>\n      <td>496</td>\n      <td>495.01</td>\n      <td>1.0020</td>\n      <td>0.000025</td>\n      <td>5211</td>\n      <td>1.0</td>\n      <td>0.000009</td>\n      <td>1781.0</td>\n      <td>150.320</td>\n      <td>1.0</td>\n      <td>2.977300e-59</td>\n      <td>3.572400e-24</td>\n      <td>0.006653</td>\n      <td>0.930</td>\n      <td>1.079</td>\n      <td>0.554</td>\n      <td>0.621</td>\n      <td>0.001</td>\n      <td>0.032</td>\n      <td>NaN</td>\n      <td>-0.035119</td>\n      <td>5.5737</td>\n      <td>11.2860</td>\n      <td>1.0</td>\n      <td>0.0</td>\n      <td>0.0</td>\n      <td>2.0</td>\n      <td>0.000012</td>\n      <td>0.000008</td>\n      <td>125693.0</td>\n      <td>3.0</td>\n      <td>0.0</td>\n      <td>125696.0</td>\n      <td>0.000012</td>\n      <td>0.000018</td>\n      <td>0.000000</td>\n      <td>0.000000</td>\n      <td>0.000099</td>\n      <td>0.000000</td>\n      <td>0.000000</td>\n      <td>0.000000</td>\n      <td>0.0</td>\n      <td>0.000065</td>\n      <td>0.000000</td>\n      <td>0.000000</td>\n      <td>0.000099</td>\n      <td>0.000000</td>\n      <td>0.000000</td>\n      <td>0.000000</td>\n      <td>0.0</td>\n      <td>0.000065</td>\n      <td>protein_coding</td>\n      <td>ENSG00000164190</td>\n      <td>2</td>\n      <td>8412</td>\n      <td>46</td>\n      <td>protein_coding</td>\n      <td>189655</td>\n      <td>1.0</td>\n      <td>1.0</td>\n      <td>110.570</td>\n      <td>0.009044</td>\n      <td>NaN</td>\n      <td>5</td>\n      <td>36876861</td>\n      <td>37066515</td>\n    </tr>\n    <tr>\n      <th>SMC3</th>\n      <td>ENST00000361804</td>\n      <td>178</td>\n      <td>630.07</td>\n      <td>0.28251</td>\n      <td>0.000032</td>\n      <td>8109</td>\n      <td>21.0</td>\n      <td>182.52</td>\n      <td>0.11506</td>\n      <td>2197.0</td>\n      <td>215</td>\n      <td>203.25</td>\n      <td>1.0578</td>\n      <td>0.000010</td>\n      <td>2091</td>\n      <td>0.0</td>\n      <td>0.000005</td>\n      <td>937.0</td>\n      <td>79.490</td>\n      <td>1.0</td>\n      <td>2.785300e-32</td>\n      <td>2.191400e-13</td>\n      <td>0.000000</td>\n      <td>0.946</td>\n      <td>1.184</td>\n      <td>0.249</td>\n      <td>0.320</td>\n      <td>0.000</td>\n      <td>0.037</td>\n      <td>NaN</td>\n      <td>-0.647760</td>\n      <td>6.3999</td>\n      <td>8.2618</td>\n      <td>2.0</td>\n      <td>0.0</td>\n      <td>0.0</td>\n      <td>8.0</td>\n      <td>0.000032</td>\n      <td>0.000004</td>\n      <td>125731.0</td>\n      <td>8.0</td>\n      <td>0.0</td>\n      <td>125739.0</td>\n      <td>0.000032</td>\n      <td>0.000127</td>\n      <td>0.000000</td>\n      <td>0.000000</td>\n      <td>0.000099</td>\n      <td>0.000054</td>\n      <td>0.000000</td>\n      <td>0.000044</td>\n      <td>0.0</td>\n      <td>0.000033</td>\n      <td>0.000000</td>\n      <td>0.000000</td>\n      <td>0.000099</td>\n      <td>0.000054</td>\n      <td>0.000000</td>\n      <td>0.000044</td>\n      <td>0.0</td>\n      <td>0.000033</td>\n      <td>protein_coding</td>\n      <td>ENSG00000108055</td>\n      <td>2</td>\n      <td>3651</td>\n      <td>29</td>\n      <td>protein_coding</td>\n      <td>36946</td>\n      <td>1.0</td>\n      <td>0.0</td>\n      <td>58.523</td>\n      <td>0.000000</td>\n      <td>NaN</td>\n      <td>10</td>\n      <td>112327449</td>\n      <td>112364394</td>\n    </tr>\n    <tr>\n      <th>CNOT1</th>\n      <td>ENST00000317147</td>\n      <td>561</td>\n      <td>1295.90</td>\n      <td>0.43290</td>\n      <td>0.000069</td>\n      <td>15670</td>\n      <td>51.0</td>\n      <td>290.68</td>\n      <td>0.17545</td>\n      <td>3560.0</td>\n      <td>470</td>\n      <td>456.03</td>\n      <td>1.0306</td>\n      <td>0.000024</td>\n      <td>4564</td>\n      <td>1.0</td>\n      <td>0.000007</td>\n      <td>1440.0</td>\n      <td>125.030</td>\n      <td>1.0</td>\n      <td>2.992400e-49</td>\n      <td>4.562900e-20</td>\n      <td>0.007998</td>\n      <td>0.955</td>\n      <td>1.112</td>\n      <td>0.403</td>\n      <td>0.464</td>\n      <td>0.002</td>\n      <td>0.038</td>\n      <td>NaN</td>\n      <td>-0.514100</td>\n      <td>7.2546</td>\n      <td>10.2790</td>\n      <td>3.0</td>\n      <td>0.0</td>\n      <td>0.0</td>\n      <td>5.0</td>\n      <td>0.000020</td>\n      <td>0.000004</td>\n      <td>125740.0</td>\n      <td>4.0</td>\n      <td>0.0</td>\n      <td>125744.0</td>\n      <td>0.000016</td>\n      <td>0.000032</td>\n      <td>0.000000</td>\n      <td>0.000029</td>\n      <td>0.000000</td>\n      <td>0.000055</td>\n      <td>0.000000</td>\n      <td>0.000026</td>\n      <td>0.0</td>\n      <td>0.000000</td>\n      <td>0.000000</td>\n      <td>0.000029</td>\n      <td>0.000000</td>\n      <td>0.000054</td>\n      <td>0.000000</td>\n      <td>0.000018</td>\n      <td>0.0</td>\n      <td>0.000000</td>\n      <td>protein_coding</td>\n      <td>ENSG00000125107</td>\n      <td>2</td>\n      <td>7128</td>\n      <td>48</td>\n      <td>protein_coding</td>\n      <td>109936</td>\n      <td>1.0</td>\n      <td>3.0</td>\n      <td>90.130</td>\n      <td>0.033285</td>\n      <td>NaN</td>\n      <td>16</td>\n      <td>58553855</td>\n      <td>58663790</td>\n    </tr>\n    <tr>\n      <th>RLF</th>\n      <td>ENST00000372771</td>\n      <td>669</td>\n      <td>972.87</td>\n      <td>0.68766</td>\n      <td>0.000047</td>\n      <td>12682</td>\n      <td>107.0</td>\n      <td>321.14</td>\n      <td>0.33319</td>\n      <td>4151.0</td>\n      <td>358</td>\n      <td>352.62</td>\n      <td>1.0153</td>\n      <td>0.000017</td>\n      <td>3482</td>\n      <td>0.0</td>\n      <td>0.000004</td>\n      <td>1024.0</td>\n      <td>73.222</td>\n      <td>1.0</td>\n      <td>8.405500e-30</td>\n      <td>2.284200e-12</td>\n      <td>0.000000</td>\n      <td>0.930</td>\n      <td>1.108</td>\n      <td>0.645</td>\n      <td>0.733</td>\n      <td>0.000</td>\n      <td>0.040</td>\n      <td>NaN</td>\n      <td>-0.225180</td>\n      <td>3.4620</td>\n      <td>7.9294</td>\n      <td>4.0</td>\n      <td>0.0</td>\n      <td>0.0</td>\n      <td>1.0</td>\n      <td>0.000004</td>\n      <td>0.000004</td>\n      <td>125122.0</td>\n      <td>1.0</td>\n      <td>0.0</td>\n      <td>125123.0</td>\n      <td>0.000004</td>\n      <td>0.000002</td>\n      <td>0.000062</td>\n      <td>0.000000</td>\n      <td>0.000000</td>\n      <td>0.000000</td>\n      <td>0.000000</td>\n      <td>0.000000</td>\n      <td>0.0</td>\n      <td>0.000000</td>\n      <td>0.000062</td>\n      <td>0.000000</td>\n      <td>0.000000</td>\n      <td>0.000000</td>\n      <td>0.000000</td>\n      <td>0.000000</td>\n      <td>0.0</td>\n      <td>0.000000</td>\n      <td>protein_coding</td>\n      <td>ENSG00000117000</td>\n      <td>2</td>\n      <td>5742</td>\n      <td>8</td>\n      <td>protein_coding</td>\n      <td>79549</td>\n      <td>1.0</td>\n      <td>0.0</td>\n      <td>43.607</td>\n      <td>0.000000</td>\n      <td>NaN</td>\n      <td>1</td>\n      <td>40627045</td>\n      <td>40706593</td>\n    </tr>\n  </tbody>\n</table>\n</div>"
     },
     "metadata": {},
     "execution_count": 141
    }
   ],
   "source": [
    "gnomad.head()"
   ]
  },
  {
   "cell_type": "code",
   "execution_count": 142,
   "metadata": {},
   "outputs": [],
   "source": [
    "decipher = decipher.join(gnomad['pLI'], on='name2')\n",
    "decipher = decipher.join(gnomad['oe_lof_upper'], on='name2')"
   ]
  },
  {
   "cell_type": "code",
   "execution_count": 143,
   "metadata": {},
   "outputs": [
    {
     "output_type": "execute_result",
     "data": {
      "text/plain": "    symbol     hi_score  hi_index  chrom    txStart      txEnd  GeneID  \\\n0   ANXA2R  0.000047349    100.00   chr5   43039181   43040447  389289   \n1  SCGB1D1  0.000054551     99.99  chr11   61957687   61961011   10648   \n2     IL31  0.000057228     99.99  chr12  122656575  122658768  386653   \n3   BPIFA2  0.000061264     99.98  chr20   31749575   31769218  140683   \n4    MUCL1  0.000067779     99.98  chr12   55248299   55252171  118430   \n\n     name2          name strand           pLI  oe_lof_upper  \n0   ANXA2R  NM_001014279      -           NaN           NaN  \n1  SCGB1D1     NM_006552      +  1.294000e-07         1.968  \n2     IL31  NM_001014336      -  1.144500e-02         1.715  \n3   BPIFA2  NM_001319164      +  8.012400e-07         1.495  \n4    MUCL1     NM_058173      +  3.092300e-05         1.908  ",
      "text/html": "<div>\n<style scoped>\n    .dataframe tbody tr th:only-of-type {\n        vertical-align: middle;\n    }\n\n    .dataframe tbody tr th {\n        vertical-align: top;\n    }\n\n    .dataframe thead th {\n        text-align: right;\n    }\n</style>\n<table border=\"1\" class=\"dataframe\">\n  <thead>\n    <tr style=\"text-align: right;\">\n      <th></th>\n      <th>symbol</th>\n      <th>hi_score</th>\n      <th>hi_index</th>\n      <th>chrom</th>\n      <th>txStart</th>\n      <th>txEnd</th>\n      <th>GeneID</th>\n      <th>name2</th>\n      <th>name</th>\n      <th>strand</th>\n      <th>pLI</th>\n      <th>oe_lof_upper</th>\n    </tr>\n  </thead>\n  <tbody>\n    <tr>\n      <th>0</th>\n      <td>ANXA2R</td>\n      <td>0.000047349</td>\n      <td>100.00</td>\n      <td>chr5</td>\n      <td>43039181</td>\n      <td>43040447</td>\n      <td>389289</td>\n      <td>ANXA2R</td>\n      <td>NM_001014279</td>\n      <td>-</td>\n      <td>NaN</td>\n      <td>NaN</td>\n    </tr>\n    <tr>\n      <th>1</th>\n      <td>SCGB1D1</td>\n      <td>0.000054551</td>\n      <td>99.99</td>\n      <td>chr11</td>\n      <td>61957687</td>\n      <td>61961011</td>\n      <td>10648</td>\n      <td>SCGB1D1</td>\n      <td>NM_006552</td>\n      <td>+</td>\n      <td>1.294000e-07</td>\n      <td>1.968</td>\n    </tr>\n    <tr>\n      <th>2</th>\n      <td>IL31</td>\n      <td>0.000057228</td>\n      <td>99.99</td>\n      <td>chr12</td>\n      <td>122656575</td>\n      <td>122658768</td>\n      <td>386653</td>\n      <td>IL31</td>\n      <td>NM_001014336</td>\n      <td>-</td>\n      <td>1.144500e-02</td>\n      <td>1.715</td>\n    </tr>\n    <tr>\n      <th>3</th>\n      <td>BPIFA2</td>\n      <td>0.000061264</td>\n      <td>99.98</td>\n      <td>chr20</td>\n      <td>31749575</td>\n      <td>31769218</td>\n      <td>140683</td>\n      <td>BPIFA2</td>\n      <td>NM_001319164</td>\n      <td>+</td>\n      <td>8.012400e-07</td>\n      <td>1.495</td>\n    </tr>\n    <tr>\n      <th>4</th>\n      <td>MUCL1</td>\n      <td>0.000067779</td>\n      <td>99.98</td>\n      <td>chr12</td>\n      <td>55248299</td>\n      <td>55252171</td>\n      <td>118430</td>\n      <td>MUCL1</td>\n      <td>NM_058173</td>\n      <td>+</td>\n      <td>3.092300e-05</td>\n      <td>1.908</td>\n    </tr>\n  </tbody>\n</table>\n</div>"
     },
     "metadata": {},
     "execution_count": 143
    }
   ],
   "source": [
    "decipher.head()"
   ]
  },
  {
   "cell_type": "code",
   "execution_count": 144,
   "metadata": {},
   "outputs": [],
   "source": [
    "decipher = decipher.loc[\n",
    "    (decipher['pLI'] >= 0.9) & (decipher['hi_index'] < 10) & (decipher['oe_lof_upper'] < 0.35),\n",
    "    ['chrom', 'txStart', 'txEnd', 'GeneID', 'name2', 'name', 'pLI', 'hi_score']\n",
    "].sort_values(['chrom', 'txStart', 'txEnd'])"
   ]
  },
  {
   "cell_type": "code",
   "execution_count": 145,
   "metadata": {},
   "outputs": [
    {
     "output_type": "execute_result",
     "data": {
      "text/plain": "      chrom   txStart     txEnd  GeneID   name2          name      pLI  \\\n17613  chr1   6845513   7829766   23261  CAMTA1  NM_001349609  1.00000   \n17671  chr1   8412463   8877699     473    RERE     NM_012102  1.00000   \n17743  chr1   9711788   9789172    5293  PIK3CD     NM_005026  0.99999   \n16486  chr1  10271673  10441661   23095   KIF1B  NM_001365952  1.00000   \n17920  chr1  11166591  11322608    2475    MTOR     NM_004958  1.00000   \n\n          hi_score  \n17613  0.951338773  \n17671  0.962236687  \n17743  0.977549203  \n16486   0.70541308  \n17920  0.997612705  ",
      "text/html": "<div>\n<style scoped>\n    .dataframe tbody tr th:only-of-type {\n        vertical-align: middle;\n    }\n\n    .dataframe tbody tr th {\n        vertical-align: top;\n    }\n\n    .dataframe thead th {\n        text-align: right;\n    }\n</style>\n<table border=\"1\" class=\"dataframe\">\n  <thead>\n    <tr style=\"text-align: right;\">\n      <th></th>\n      <th>chrom</th>\n      <th>txStart</th>\n      <th>txEnd</th>\n      <th>GeneID</th>\n      <th>name2</th>\n      <th>name</th>\n      <th>pLI</th>\n      <th>hi_score</th>\n    </tr>\n  </thead>\n  <tbody>\n    <tr>\n      <th>17613</th>\n      <td>chr1</td>\n      <td>6845513</td>\n      <td>7829766</td>\n      <td>23261</td>\n      <td>CAMTA1</td>\n      <td>NM_001349609</td>\n      <td>1.00000</td>\n      <td>0.951338773</td>\n    </tr>\n    <tr>\n      <th>17671</th>\n      <td>chr1</td>\n      <td>8412463</td>\n      <td>8877699</td>\n      <td>473</td>\n      <td>RERE</td>\n      <td>NM_012102</td>\n      <td>1.00000</td>\n      <td>0.962236687</td>\n    </tr>\n    <tr>\n      <th>17743</th>\n      <td>chr1</td>\n      <td>9711788</td>\n      <td>9789172</td>\n      <td>5293</td>\n      <td>PIK3CD</td>\n      <td>NM_005026</td>\n      <td>0.99999</td>\n      <td>0.977549203</td>\n    </tr>\n    <tr>\n      <th>16486</th>\n      <td>chr1</td>\n      <td>10271673</td>\n      <td>10441661</td>\n      <td>23095</td>\n      <td>KIF1B</td>\n      <td>NM_001365952</td>\n      <td>1.00000</td>\n      <td>0.70541308</td>\n    </tr>\n    <tr>\n      <th>17920</th>\n      <td>chr1</td>\n      <td>11166591</td>\n      <td>11322608</td>\n      <td>2475</td>\n      <td>MTOR</td>\n      <td>NM_004958</td>\n      <td>1.00000</td>\n      <td>0.997612705</td>\n    </tr>\n  </tbody>\n</table>\n</div>"
     },
     "metadata": {},
     "execution_count": 145
    }
   ],
   "source": [
    "decipher.head()"
   ]
  },
  {
   "cell_type": "code",
   "execution_count": 146,
   "metadata": {},
   "outputs": [],
   "source": [
    "decipher.rename(columns={\n",
    "    'chrom': '#chrom', 'txStart': 'start', 'txEnd': 'end',\n",
    "    'GeneID': 'gene_id', 'name2': 'symbol', 'name': 'transcript'\n",
    "}).to_csv(decipher_gene_file, sep='\\t', index=False)"
   ]
  },
  {
   "cell_type": "code",
   "execution_count": 147,
   "metadata": {},
   "outputs": [],
   "source": [
    "!bgzip -cf {decipher_gene_file} > {decipher_gene_file}.gz"
   ]
  },
  {
   "cell_type": "code",
   "execution_count": 148,
   "metadata": {},
   "outputs": [],
   "source": [
    "!tabix -fp bed {decipher_gene_file}.gz\n",
    "!rm {decipher_gene_file}"
   ]
  },
  {
   "cell_type": "code",
   "execution_count": 149,
   "metadata": {},
   "outputs": [],
   "source": [
    "ts_genes = set(\n",
    "    curation_gene.loc[\n",
    "        curation_gene['Triplosensitivity Score'] == '3', '#Gene Symbol'\n",
    "    ]\n",
    ")"
   ]
  },
  {
   "cell_type": "code",
   "execution_count": 150,
   "metadata": {},
   "outputs": [],
   "source": [
    "ts_gene = refgene_info.loc[\n",
    "    refgene_info['name2'].isin(ts_genes),\n",
    "    ['chrom', 'txStart', 'txEnd', 'GeneID', 'name2', 'name', 'strand']\n",
    "].sort_values(['chrom', 'txStart', 'txEnd'])"
   ]
  },
  {
   "cell_type": "code",
   "execution_count": 151,
   "metadata": {},
   "outputs": [
    {
     "output_type": "execute_result",
     "data": {
      "text/plain": "      chrom    txStart      txEnd  GeneID  name2          name strand\n4349   chr5  126112827  126172712    4001  LMNB1     NM_005573      +\n10881  chrX  103031433  103047547    5354   PLP1  NM_001128834      +\n3809   chrX  153287023  153363174    4204  MECP2  NM_001110792      -",
      "text/html": "<div>\n<style scoped>\n    .dataframe tbody tr th:only-of-type {\n        vertical-align: middle;\n    }\n\n    .dataframe tbody tr th {\n        vertical-align: top;\n    }\n\n    .dataframe thead th {\n        text-align: right;\n    }\n</style>\n<table border=\"1\" class=\"dataframe\">\n  <thead>\n    <tr style=\"text-align: right;\">\n      <th></th>\n      <th>chrom</th>\n      <th>txStart</th>\n      <th>txEnd</th>\n      <th>GeneID</th>\n      <th>name2</th>\n      <th>name</th>\n      <th>strand</th>\n    </tr>\n  </thead>\n  <tbody>\n    <tr>\n      <th>4349</th>\n      <td>chr5</td>\n      <td>126112827</td>\n      <td>126172712</td>\n      <td>4001</td>\n      <td>LMNB1</td>\n      <td>NM_005573</td>\n      <td>+</td>\n    </tr>\n    <tr>\n      <th>10881</th>\n      <td>chrX</td>\n      <td>103031433</td>\n      <td>103047547</td>\n      <td>5354</td>\n      <td>PLP1</td>\n      <td>NM_001128834</td>\n      <td>+</td>\n    </tr>\n    <tr>\n      <th>3809</th>\n      <td>chrX</td>\n      <td>153287023</td>\n      <td>153363174</td>\n      <td>4204</td>\n      <td>MECP2</td>\n      <td>NM_001110792</td>\n      <td>-</td>\n    </tr>\n  </tbody>\n</table>\n</div>"
     },
     "metadata": {},
     "execution_count": 151
    }
   ],
   "source": [
    "ts_gene.head()"
   ]
  },
  {
   "cell_type": "code",
   "execution_count": 152,
   "metadata": {},
   "outputs": [],
   "source": [
    "ts_gene.rename(columns={\n",
    "    'chrom': '#chrom', 'txStart': 'start', 'txEnd': 'end',\n",
    "    'GeneID': 'gene_id', 'name2': 'symbol', 'name': 'transcript'\n",
    "}).to_csv(ts_gene_file, index=False, sep='\\t')"
   ]
  },
  {
   "cell_type": "code",
   "execution_count": 153,
   "metadata": {},
   "outputs": [],
   "source": [
    "!bgzip -cf {ts_gene_file} > {ts_gene_file}.gz"
   ]
  },
  {
   "cell_type": "code",
   "execution_count": 154,
   "metadata": {},
   "outputs": [],
   "source": [
    "!tabix -fp bed {ts_gene_file}.gz\n",
    "!rm {ts_gene_file}"
   ]
  },
  {
   "cell_type": "code",
   "execution_count": 160,
   "metadata": {},
   "outputs": [],
   "source": [
    "uts_genes = set(\n",
    "    curation_gene.loc[curation_gene['Triplosensitivity Score'] == '40', '#Gene Symbol']\n",
    ")"
   ]
  },
  {
   "cell_type": "code",
   "execution_count": 161,
   "metadata": {},
   "outputs": [],
   "source": [
    "uts_gene = refgene_info.loc[\n",
    "    refgene_info['name2'].isin(uts_genes),\n",
    "    ['chrom', 'txStart', 'txEnd', 'GeneID', 'name2', 'name', 'strand']\n",
    "].sort_values(['chrom', 'txStart', 'txEnd'])"
   ]
  },
  {
   "cell_type": "code",
   "execution_count": 162,
   "metadata": {},
   "outputs": [
    {
     "output_type": "execute_result",
     "data": {
      "text/plain": "      chrom  txStart    txEnd  GeneID  name2       name strand\n18642  chrX  6451658  6453159   51481  VCX3A  NM_016379      -",
      "text/html": "<div>\n<style scoped>\n    .dataframe tbody tr th:only-of-type {\n        vertical-align: middle;\n    }\n\n    .dataframe tbody tr th {\n        vertical-align: top;\n    }\n\n    .dataframe thead th {\n        text-align: right;\n    }\n</style>\n<table border=\"1\" class=\"dataframe\">\n  <thead>\n    <tr style=\"text-align: right;\">\n      <th></th>\n      <th>chrom</th>\n      <th>txStart</th>\n      <th>txEnd</th>\n      <th>GeneID</th>\n      <th>name2</th>\n      <th>name</th>\n      <th>strand</th>\n    </tr>\n  </thead>\n  <tbody>\n    <tr>\n      <th>18642</th>\n      <td>chrX</td>\n      <td>6451658</td>\n      <td>6453159</td>\n      <td>51481</td>\n      <td>VCX3A</td>\n      <td>NM_016379</td>\n      <td>-</td>\n    </tr>\n  </tbody>\n</table>\n</div>"
     },
     "metadata": {},
     "execution_count": 162
    }
   ],
   "source": [
    "uts_gene.head()"
   ]
  },
  {
   "cell_type": "code",
   "execution_count": 163,
   "metadata": {},
   "outputs": [],
   "source": [
    "uts_gene.rename(columns={\n",
    "    'chrom': '#chrom', 'txStart': 'start', 'txEnd': 'end',\n",
    "    'GeneID': 'gene_id', 'name2': 'symbol', 'name': 'transcript'\n",
    "}).to_csv(uts_gene_file, index=False, sep='\\t')"
   ]
  },
  {
   "cell_type": "code",
   "execution_count": 164,
   "metadata": {},
   "outputs": [],
   "source": [
    "!bgzip -cf {uts_gene_file} > {uts_gene_file}.gz"
   ]
  },
  {
   "cell_type": "code",
   "execution_count": 165,
   "metadata": {},
   "outputs": [],
   "source": [
    "!tabix -fp bed {uts_gene_file}.gz\n",
    "!rm {uts_gene_file}"
   ]
  },
  {
   "cell_type": "code",
   "execution_count": 166,
   "metadata": {},
   "outputs": [],
   "source": [
    "ts_region = region_pos.loc[\n",
    "    region_pos['Triplosensitivity Score'] == '3',\n",
    "    ['chrom', 'start', 'end', '#ISCA ID', 'ISCA Region Name']\n",
    "].sort_values(['chrom', 'start', 'end'])"
   ]
  },
  {
   "cell_type": "code",
   "execution_count": 167,
   "metadata": {},
   "outputs": [
    {
     "output_type": "execute_result",
     "data": {
      "text/plain": "    chrom      start        end    #ISCA ID  \\\n51   chr1  146577486  147394506  ISCA-37421   \n61  chr15   22832519   28379874  ISCA-37404   \n23  chr15   23747996   28379874  ISCA-37478   \n63  chr16   29649997   30199852  ISCA-37400   \n46  chr17    1247833    2588909  ISCA-37430   \n\n                                     ISCA Region Name  \n51  1q21.1 recurrent region (BP3-BP4, distal) (inc...  \n61  15q11q13 recurrent (PWS/AS) region (BP1-BP3, C...  \n23  15q11q13 recurrent (PWS/AS) region (BP2-BP3, C...  \n63  16p11.2 recurrent region (proximal, BP4-BP5) (...  \n46  17p13.3 (Miller-Dieker syndrome) region (inclu...  ",
      "text/html": "<div>\n<style scoped>\n    .dataframe tbody tr th:only-of-type {\n        vertical-align: middle;\n    }\n\n    .dataframe tbody tr th {\n        vertical-align: top;\n    }\n\n    .dataframe thead th {\n        text-align: right;\n    }\n</style>\n<table border=\"1\" class=\"dataframe\">\n  <thead>\n    <tr style=\"text-align: right;\">\n      <th></th>\n      <th>chrom</th>\n      <th>start</th>\n      <th>end</th>\n      <th>#ISCA ID</th>\n      <th>ISCA Region Name</th>\n    </tr>\n  </thead>\n  <tbody>\n    <tr>\n      <th>51</th>\n      <td>chr1</td>\n      <td>146577486</td>\n      <td>147394506</td>\n      <td>ISCA-37421</td>\n      <td>1q21.1 recurrent region (BP3-BP4, distal) (inc...</td>\n    </tr>\n    <tr>\n      <th>61</th>\n      <td>chr15</td>\n      <td>22832519</td>\n      <td>28379874</td>\n      <td>ISCA-37404</td>\n      <td>15q11q13 recurrent (PWS/AS) region (BP1-BP3, C...</td>\n    </tr>\n    <tr>\n      <th>23</th>\n      <td>chr15</td>\n      <td>23747996</td>\n      <td>28379874</td>\n      <td>ISCA-37478</td>\n      <td>15q11q13 recurrent (PWS/AS) region (BP2-BP3, C...</td>\n    </tr>\n    <tr>\n      <th>63</th>\n      <td>chr16</td>\n      <td>29649997</td>\n      <td>30199852</td>\n      <td>ISCA-37400</td>\n      <td>16p11.2 recurrent region (proximal, BP4-BP5) (...</td>\n    </tr>\n    <tr>\n      <th>46</th>\n      <td>chr17</td>\n      <td>1247833</td>\n      <td>2588909</td>\n      <td>ISCA-37430</td>\n      <td>17p13.3 (Miller-Dieker syndrome) region (inclu...</td>\n    </tr>\n  </tbody>\n</table>\n</div>"
     },
     "metadata": {},
     "execution_count": 167
    }
   ],
   "source": [
    "ts_region.head()"
   ]
  },
  {
   "cell_type": "code",
   "execution_count": 168,
   "metadata": {},
   "outputs": [],
   "source": [
    "ts_region['omim_genes'] = ts_region.apply(\n",
    "    lambda row: ','.join(omim_gene.loc[\n",
    "        (omim_gene['chrom'] == row['chrom'])\n",
    "        & (omim_gene['txEnd'] >= row['start'])\n",
    "        & (omim_gene['txStart'] <= row['end']),\n",
    "        'name2'\n",
    "    ]),\n",
    "    axis=1\n",
    ")"
   ]
  },
  {
   "cell_type": "code",
   "execution_count": 169,
   "metadata": {},
   "outputs": [
    {
     "output_type": "execute_result",
     "data": {
      "text/plain": "    chrom      start        end    #ISCA ID  \\\n51   chr1  146577486  147394506  ISCA-37421   \n61  chr15   22832519   28379874  ISCA-37404   \n23  chr15   23747996   28379874  ISCA-37478   \n63  chr16   29649997   30199852  ISCA-37400   \n46  chr17    1247833    2588909  ISCA-37430   \n\n                                     ISCA Region Name  \\\n51  1q21.1 recurrent region (BP3-BP4, distal) (inc...   \n61  15q11q13 recurrent (PWS/AS) region (BP1-BP3, C...   \n23  15q11q13 recurrent (PWS/AS) region (BP2-BP3, C...   \n63  16p11.2 recurrent region (proximal, BP4-BP5) (...   \n46  17p13.3 (Miller-Dieker syndrome) region (inclu...   \n\n                                           omim_genes  \n51                                          GJA5,GJA8  \n61  NIPA1,MKRN3,MAGEL2,NDN,SNRPN,UBE3A,GABRB3,GABR...  \n23  MKRN3,MAGEL2,NDN,SNRPN,UBE3A,GABRB3,GABRA5,OCA...  \n63                      KIF22,PRRT2,ALDOA,TBX6,CORO1A  \n46  INPP5K,PRPF8,WDR81,SERPINF2,SERPINF1,DPH1,PAFA...  ",
      "text/html": "<div>\n<style scoped>\n    .dataframe tbody tr th:only-of-type {\n        vertical-align: middle;\n    }\n\n    .dataframe tbody tr th {\n        vertical-align: top;\n    }\n\n    .dataframe thead th {\n        text-align: right;\n    }\n</style>\n<table border=\"1\" class=\"dataframe\">\n  <thead>\n    <tr style=\"text-align: right;\">\n      <th></th>\n      <th>chrom</th>\n      <th>start</th>\n      <th>end</th>\n      <th>#ISCA ID</th>\n      <th>ISCA Region Name</th>\n      <th>omim_genes</th>\n    </tr>\n  </thead>\n  <tbody>\n    <tr>\n      <th>51</th>\n      <td>chr1</td>\n      <td>146577486</td>\n      <td>147394506</td>\n      <td>ISCA-37421</td>\n      <td>1q21.1 recurrent region (BP3-BP4, distal) (inc...</td>\n      <td>GJA5,GJA8</td>\n    </tr>\n    <tr>\n      <th>61</th>\n      <td>chr15</td>\n      <td>22832519</td>\n      <td>28379874</td>\n      <td>ISCA-37404</td>\n      <td>15q11q13 recurrent (PWS/AS) region (BP1-BP3, C...</td>\n      <td>NIPA1,MKRN3,MAGEL2,NDN,SNRPN,UBE3A,GABRB3,GABR...</td>\n    </tr>\n    <tr>\n      <th>23</th>\n      <td>chr15</td>\n      <td>23747996</td>\n      <td>28379874</td>\n      <td>ISCA-37478</td>\n      <td>15q11q13 recurrent (PWS/AS) region (BP2-BP3, C...</td>\n      <td>MKRN3,MAGEL2,NDN,SNRPN,UBE3A,GABRB3,GABRA5,OCA...</td>\n    </tr>\n    <tr>\n      <th>63</th>\n      <td>chr16</td>\n      <td>29649997</td>\n      <td>30199852</td>\n      <td>ISCA-37400</td>\n      <td>16p11.2 recurrent region (proximal, BP4-BP5) (...</td>\n      <td>KIF22,PRRT2,ALDOA,TBX6,CORO1A</td>\n    </tr>\n    <tr>\n      <th>46</th>\n      <td>chr17</td>\n      <td>1247833</td>\n      <td>2588909</td>\n      <td>ISCA-37430</td>\n      <td>17p13.3 (Miller-Dieker syndrome) region (inclu...</td>\n      <td>INPP5K,PRPF8,WDR81,SERPINF2,SERPINF1,DPH1,PAFA...</td>\n    </tr>\n  </tbody>\n</table>\n</div>"
     },
     "metadata": {},
     "execution_count": 169
    }
   ],
   "source": [
    "ts_region.head()"
   ]
  },
  {
   "cell_type": "code",
   "execution_count": 170,
   "metadata": {},
   "outputs": [],
   "source": [
    "ts_region.rename(columns={\n",
    "    'chrom': '#chrom',\n",
    "    '#ISCA ID': 'isca_id', 'ISCA Region Name': 'name'\n",
    "}).to_csv(ts_region_file, sep='\\t', index=False)"
   ]
  },
  {
   "cell_type": "code",
   "execution_count": 171,
   "metadata": {},
   "outputs": [],
   "source": [
    "!bgzip -cf {ts_region_file} > {ts_region_file}.gz"
   ]
  },
  {
   "cell_type": "code",
   "execution_count": 172,
   "metadata": {},
   "outputs": [],
   "source": [
    "!tabix -fp bed {ts_region_file}.gz\n",
    "!rm {ts_region_file}"
   ]
  },
  {
   "cell_type": "code",
   "execution_count": 173,
   "metadata": {},
   "outputs": [],
   "source": [
    "uts_region = region_pos.loc[\n",
    "    region_pos['Triplosensitivity Score'] == '40',\n",
    "    ['chrom', 'start', 'end', '#ISCA ID', 'ISCA Region Name']\n",
    "].sort_values(['chrom', 'start', 'end'])"
   ]
  },
  {
   "cell_type": "code",
   "execution_count": 174,
   "metadata": {},
   "outputs": [
    {
     "output_type": "execute_result",
     "data": {
      "text/plain": "    chrom      start        end    #ISCA ID  \\\n29   chr1  148867551  149768855  ISCA-37469   \n25  chr14   22111109   23021097  ISCA-37476   \n24  chr14  106050000  107289540  ISCA-37477   \n33  chr15   22832519   23090897  ISCA-37448   \n4   chr15   32019621   32445405  ISCA-46295   \n\n                                     ISCA Region Name  \n29                 1q21.2 region (polymorphic region)  \n25                       14q11.2 region (TCRA region)  \n24       1 copy: 14q telomere; 3 copies: 14q telomere  \n33  15q11.2 recurrent region (BP1-BP2) (includes N...  \n4   15q13.3 recurrent region (D-CHRNA7 to BP5) (in...  ",
      "text/html": "<div>\n<style scoped>\n    .dataframe tbody tr th:only-of-type {\n        vertical-align: middle;\n    }\n\n    .dataframe tbody tr th {\n        vertical-align: top;\n    }\n\n    .dataframe thead th {\n        text-align: right;\n    }\n</style>\n<table border=\"1\" class=\"dataframe\">\n  <thead>\n    <tr style=\"text-align: right;\">\n      <th></th>\n      <th>chrom</th>\n      <th>start</th>\n      <th>end</th>\n      <th>#ISCA ID</th>\n      <th>ISCA Region Name</th>\n    </tr>\n  </thead>\n  <tbody>\n    <tr>\n      <th>29</th>\n      <td>chr1</td>\n      <td>148867551</td>\n      <td>149768855</td>\n      <td>ISCA-37469</td>\n      <td>1q21.2 region (polymorphic region)</td>\n    </tr>\n    <tr>\n      <th>25</th>\n      <td>chr14</td>\n      <td>22111109</td>\n      <td>23021097</td>\n      <td>ISCA-37476</td>\n      <td>14q11.2 region (TCRA region)</td>\n    </tr>\n    <tr>\n      <th>24</th>\n      <td>chr14</td>\n      <td>106050000</td>\n      <td>107289540</td>\n      <td>ISCA-37477</td>\n      <td>1 copy: 14q telomere; 3 copies: 14q telomere</td>\n    </tr>\n    <tr>\n      <th>33</th>\n      <td>chr15</td>\n      <td>22832519</td>\n      <td>23090897</td>\n      <td>ISCA-37448</td>\n      <td>15q11.2 recurrent region (BP1-BP2) (includes N...</td>\n    </tr>\n    <tr>\n      <th>4</th>\n      <td>chr15</td>\n      <td>32019621</td>\n      <td>32445405</td>\n      <td>ISCA-46295</td>\n      <td>15q13.3 recurrent region (D-CHRNA7 to BP5) (in...</td>\n    </tr>\n  </tbody>\n</table>\n</div>"
     },
     "metadata": {},
     "execution_count": 174
    }
   ],
   "source": [
    "uts_region.head()"
   ]
  },
  {
   "cell_type": "code",
   "execution_count": 175,
   "metadata": {},
   "outputs": [],
   "source": [
    "uts_region['genes'] = uts_region.apply(\n",
    "    lambda row: ','.join(gene.loc[\n",
    "        (gene['chrom'] == row['chrom'])\n",
    "        & (gene['txEnd'] >= row['start'])\n",
    "        & (gene['txStart'] <= row['end']),\n",
    "        'name2'\n",
    "    ]),\n",
    "    axis=1\n",
    ")"
   ]
  },
  {
   "cell_type": "code",
   "execution_count": 176,
   "metadata": {},
   "outputs": [
    {
     "output_type": "execute_result",
     "data": {
      "text/plain": "    chrom      start        end    #ISCA ID  \\\n29   chr1  148867551  149768855  ISCA-37469   \n25  chr14   22111109   23021097  ISCA-37476   \n24  chr14  106050000  107289540  ISCA-37477   \n33  chr15   22832519   23090897  ISCA-37448   \n4   chr15   32019621   32445405  ISCA-46295   \n\n                                     ISCA Region Name  \\\n29                 1q21.2 region (polymorphic region)   \n25                       14q11.2 region (TCRA region)   \n24       1 copy: 14q telomere; 3 copies: 14q telomere   \n33  15q11.2 recurrent region (BP1-BP2) (includes N...   \n4   15q13.3 recurrent region (D-CHRNA7 to BP5) (in...   \n\n                         genes  \n29  H3-2,PPIAL4C,H2BC18,FCGR1A  \n25                 OR4E2,OR4E1  \n24                              \n33  TUBGCP5,CYFIP1,NIPA2,NIPA1  \n4                OTUD7A,CHRNA7  ",
      "text/html": "<div>\n<style scoped>\n    .dataframe tbody tr th:only-of-type {\n        vertical-align: middle;\n    }\n\n    .dataframe tbody tr th {\n        vertical-align: top;\n    }\n\n    .dataframe thead th {\n        text-align: right;\n    }\n</style>\n<table border=\"1\" class=\"dataframe\">\n  <thead>\n    <tr style=\"text-align: right;\">\n      <th></th>\n      <th>chrom</th>\n      <th>start</th>\n      <th>end</th>\n      <th>#ISCA ID</th>\n      <th>ISCA Region Name</th>\n      <th>genes</th>\n    </tr>\n  </thead>\n  <tbody>\n    <tr>\n      <th>29</th>\n      <td>chr1</td>\n      <td>148867551</td>\n      <td>149768855</td>\n      <td>ISCA-37469</td>\n      <td>1q21.2 region (polymorphic region)</td>\n      <td>H3-2,PPIAL4C,H2BC18,FCGR1A</td>\n    </tr>\n    <tr>\n      <th>25</th>\n      <td>chr14</td>\n      <td>22111109</td>\n      <td>23021097</td>\n      <td>ISCA-37476</td>\n      <td>14q11.2 region (TCRA region)</td>\n      <td>OR4E2,OR4E1</td>\n    </tr>\n    <tr>\n      <th>24</th>\n      <td>chr14</td>\n      <td>106050000</td>\n      <td>107289540</td>\n      <td>ISCA-37477</td>\n      <td>1 copy: 14q telomere; 3 copies: 14q telomere</td>\n      <td></td>\n    </tr>\n    <tr>\n      <th>33</th>\n      <td>chr15</td>\n      <td>22832519</td>\n      <td>23090897</td>\n      <td>ISCA-37448</td>\n      <td>15q11.2 recurrent region (BP1-BP2) (includes N...</td>\n      <td>TUBGCP5,CYFIP1,NIPA2,NIPA1</td>\n    </tr>\n    <tr>\n      <th>4</th>\n      <td>chr15</td>\n      <td>32019621</td>\n      <td>32445405</td>\n      <td>ISCA-46295</td>\n      <td>15q13.3 recurrent region (D-CHRNA7 to BP5) (in...</td>\n      <td>OTUD7A,CHRNA7</td>\n    </tr>\n  </tbody>\n</table>\n</div>"
     },
     "metadata": {},
     "execution_count": 176
    }
   ],
   "source": [
    "uts_region.head()"
   ]
  },
  {
   "cell_type": "code",
   "execution_count": 177,
   "metadata": {},
   "outputs": [],
   "source": [
    "uts_region.rename(columns={\n",
    "    'chrom': '#chrom',\n",
    "    '#ISCA ID': 'isca_id', 'ISCA Region Name': 'name'\n",
    "}).to_csv(uts_region_file, sep='\\t', index=False)"
   ]
  },
  {
   "cell_type": "code",
   "execution_count": 178,
   "metadata": {},
   "outputs": [],
   "source": [
    "!bgzip -cf {uts_region_file} > {uts_region_file}.gz"
   ]
  },
  {
   "cell_type": "code",
   "execution_count": 179,
   "metadata": {},
   "outputs": [],
   "source": [
    "!tabix -fp bed {uts_region_file}.gz\n",
    "!rm {uts_region_file}"
   ]
  },
  {
   "cell_type": "code",
   "execution_count": 180,
   "metadata": {},
   "outputs": [],
   "source": [
    "dgv = pd.read_csv(\n",
    "    dgv_ori_file,\n",
    "    sep='\\t', names=['chrom', 'info'], usecols=[0, 8]\n",
    ").drop_duplicates('info')\n",
    "info = dgv['info'].str.extract(\n",
    "    r'ID=(?P<id>[^;]+).*variant_sub_type=(?P<type>[^;]+).*inner_start=(?P<start>[^;]+).*inner_end=(?P<end>[^;]+).*Frequency=(?P<freq>\\S+?)%;.*num_unique_samples_tested=(?P<sample>[^;]+)'\n",
    ").astype({'start': int, 'end': int, 'sample': int, 'freq': float})\n",
    "dgv = dgv.merge(info, left_index=True, right_index=True)\n",
    "dgv['af'] = dgv['freq'] / 100\n",
    "dgv = dgv[dgv['sample'] >= 1000].sort_values(['chrom', 'start', 'end'])"
   ]
  },
  {
   "cell_type": "code",
   "execution_count": 181,
   "metadata": {},
   "outputs": [
    {
     "output_type": "execute_result",
     "data": {
      "text/plain": "      chrom                                               info       id  type  \\\n12     chr1  ID=gssvG9;Name=gssvG9;variant_type=CNV;variant...   gssvG9  Gain   \n54     chr1  ID=gssvG28;Name=gssvG28;variant_type=CNV;varia...  gssvG28  Gain   \n18651  chr1  ID=gssvL18;Name=gssvL18;variant_type=CNV;varia...  gssvL18  Loss   \n18627  chr1  ID=gssvL4;Name=gssvL4;variant_type=CNV;variant...   gssvL4  Loss   \n48     chr1  ID=gssvG24;Name=gssvG24;variant_type=CNV;varia...  gssvG24  Gain   \n\n        start     end  freq  sample      af  \n12      49911  222421  1.13    1149  0.0113  \n54      60905   97505  0.61    2609  0.0061  \n18651   60905   97505  0.61    2609  0.0061  \n18627   61724  346583  0.30   12364  0.0030  \n48     125400  176984  0.73    1510  0.0073  ",
      "text/html": "<div>\n<style scoped>\n    .dataframe tbody tr th:only-of-type {\n        vertical-align: middle;\n    }\n\n    .dataframe tbody tr th {\n        vertical-align: top;\n    }\n\n    .dataframe thead th {\n        text-align: right;\n    }\n</style>\n<table border=\"1\" class=\"dataframe\">\n  <thead>\n    <tr style=\"text-align: right;\">\n      <th></th>\n      <th>chrom</th>\n      <th>info</th>\n      <th>id</th>\n      <th>type</th>\n      <th>start</th>\n      <th>end</th>\n      <th>freq</th>\n      <th>sample</th>\n      <th>af</th>\n    </tr>\n  </thead>\n  <tbody>\n    <tr>\n      <th>12</th>\n      <td>chr1</td>\n      <td>ID=gssvG9;Name=gssvG9;variant_type=CNV;variant...</td>\n      <td>gssvG9</td>\n      <td>Gain</td>\n      <td>49911</td>\n      <td>222421</td>\n      <td>1.13</td>\n      <td>1149</td>\n      <td>0.0113</td>\n    </tr>\n    <tr>\n      <th>54</th>\n      <td>chr1</td>\n      <td>ID=gssvG28;Name=gssvG28;variant_type=CNV;varia...</td>\n      <td>gssvG28</td>\n      <td>Gain</td>\n      <td>60905</td>\n      <td>97505</td>\n      <td>0.61</td>\n      <td>2609</td>\n      <td>0.0061</td>\n    </tr>\n    <tr>\n      <th>18651</th>\n      <td>chr1</td>\n      <td>ID=gssvL18;Name=gssvL18;variant_type=CNV;varia...</td>\n      <td>gssvL18</td>\n      <td>Loss</td>\n      <td>60905</td>\n      <td>97505</td>\n      <td>0.61</td>\n      <td>2609</td>\n      <td>0.0061</td>\n    </tr>\n    <tr>\n      <th>18627</th>\n      <td>chr1</td>\n      <td>ID=gssvL4;Name=gssvL4;variant_type=CNV;variant...</td>\n      <td>gssvL4</td>\n      <td>Loss</td>\n      <td>61724</td>\n      <td>346583</td>\n      <td>0.30</td>\n      <td>12364</td>\n      <td>0.0030</td>\n    </tr>\n    <tr>\n      <th>48</th>\n      <td>chr1</td>\n      <td>ID=gssvG24;Name=gssvG24;variant_type=CNV;varia...</td>\n      <td>gssvG24</td>\n      <td>Gain</td>\n      <td>125400</td>\n      <td>176984</td>\n      <td>0.73</td>\n      <td>1510</td>\n      <td>0.0073</td>\n    </tr>\n  </tbody>\n</table>\n</div>"
     },
     "metadata": {},
     "execution_count": 181
    }
   ],
   "source": [
    "dgv.head()"
   ]
  },
  {
   "cell_type": "code",
   "execution_count": 182,
   "metadata": {},
   "outputs": [],
   "source": [
    "def fetch_gene(gene, chrom, start, end):\n",
    "    return ','.join(gene.loc[\n",
    "        (gene['chrom'] == chrom) & (gene['txEnd'] >= start) & (gene['txStart'] <= end), 'name2'\n",
    "    ])"
   ]
  },
  {
   "cell_type": "code",
   "execution_count": 183,
   "metadata": {},
   "outputs": [],
   "source": [
    "with Pool(processes=7) as pool:\n",
    "    dgv['genes'] = pool.starmap(fetch_gene, (\n",
    "        (gene, row['chrom'], row['start'], row['end']) for _, row in dgv.iterrows()\n",
    "    ), chunksize=70)"
   ]
  },
  {
   "cell_type": "code",
   "execution_count": null,
   "metadata": {},
   "outputs": [],
   "source": [
    "dgv.head()"
   ]
  },
  {
   "cell_type": "code",
   "execution_count": null,
   "metadata": {},
   "outputs": [],
   "source": [
    "dgv.loc[\n",
    "    dgv['type'] == 'Gain', ['chrom', 'start', 'end', 'id', 'genes', 'af']\n",
    "].rename(columns={'chrom': '#chrom'}).to_csv(dgv_gain_file, sep='\\t', index=False)"
   ]
  },
  {
   "cell_type": "code",
   "execution_count": null,
   "metadata": {},
   "outputs": [],
   "source": [
    "!bgzip -cf {dgv_gain_file} > {dgv_gain_file}.gz"
   ]
  },
  {
   "cell_type": "code",
   "execution_count": null,
   "metadata": {},
   "outputs": [],
   "source": [
    "!tabix -fp bed {dgv_gain_file}.gz\n",
    "!rm {dgv_gain_file}"
   ]
  },
  {
   "cell_type": "code",
   "execution_count": null,
   "metadata": {},
   "outputs": [],
   "source": [
    "dgv.loc[\n",
    "    dgv['type'] == 'Loss', ['chrom', 'start', 'end', 'id', 'genes', 'af']\n",
    "].rename(columns={'chrom': '#chrom'}).to_csv(dgv_loss_file, sep='\\t', index=False)"
   ]
  },
  {
   "cell_type": "code",
   "execution_count": null,
   "metadata": {},
   "outputs": [],
   "source": [
    "!bgzip -cf {dgv_loss_file} > {dgv_loss_file}.gz"
   ]
  },
  {
   "cell_type": "code",
   "execution_count": null,
   "metadata": {},
   "outputs": [],
   "source": [
    "!tabix -fp bed {dgv_loss_file}.gz\n",
    "!rm {dgv_loss_file}"
   ]
  },
  {
   "cell_type": "code",
   "execution_count": null,
   "metadata": {},
   "outputs": [],
   "source": [
    "gnomad = pd.read_csv(\n",
    "    gnomad_control_ori_file, sep='\\t',  dtype=str,\n",
    "    usecols=[0, 1, 2, 3, 4, 37, 38, 73, 74, 107, 108, 141, 142, 175, 176, 241]\n",
    ")\n",
    "gnomad = gnomad[\n",
    "    (gnomad['FILTER'] == 'PASS') & gnomad['svtype'].isin(['DEL', 'DUP'])\n",
    "]\n",
    "gnomad = gnomad[\n",
    "    (gnomad['N_BI_GENOS'].astype(int) >= 1000) |\n",
    "    (gnomad['AFR_N_BI_GENOS'].astype(int) >= 1000) |\n",
    "    (gnomad['AMR_N_BI_GENOS'].astype(int) >= 1000) |\n",
    "    (gnomad['EAS_N_BI_GENOS'].astype(int) >= 1000) |\n",
    "    (gnomad['EUR_N_BI_GENOS'].astype(int) >= 1000)\n",
    "]\n",
    "gnomad['#chrom'] = 'chr' + gnomad['#chrom']\n",
    "gnomad['start'] = gnomad['start'].astype(int)\n",
    "gnomad['end'] = gnomad['end'].astype(int)"
   ]
  },
  {
   "cell_type": "code",
   "execution_count": null,
   "metadata": {},
   "outputs": [],
   "source": [
    "gnomad.head()"
   ]
  },
  {
   "cell_type": "code",
   "execution_count": null,
   "metadata": {},
   "outputs": [],
   "source": [
    "with Pool(processes=7) as pool:\n",
    "    gnomad['genes'] = pool.starmap(fetch_gene, (\n",
    "        (gene, row['#chrom'], row['start'], row['end']) for _, row in gnomad.iterrows()\n",
    "    ), chunksize=70)"
   ]
  },
  {
   "cell_type": "code",
   "execution_count": null,
   "metadata": {},
   "outputs": [],
   "source": [
    "gnomad.head()"
   ]
  },
  {
   "cell_type": "code",
   "execution_count": null,
   "metadata": {},
   "outputs": [],
   "source": [
    "gnomad.loc[\n",
    "    gnomad['svtype'] == 'DEL',\n",
    "    ['#chrom', 'start', 'end', 'name', 'genes', 'AF', 'AFR_AF', 'AMR_AF', 'EAS_AF', 'EUR_AF']\n",
    "].rename(columns={\n",
    "    'AF': 'af', 'AFR_AF': 'af_afr', 'AMR_AF': 'af_amr', 'EAS_AF': 'af_eas', 'EUR_AF': 'af_eur'\n",
    "}).to_csv(genomad_del_file, sep='\\t', index=False)"
   ]
  },
  {
   "cell_type": "code",
   "execution_count": null,
   "metadata": {},
   "outputs": [],
   "source": [
    "!bgzip -cf {genomad_del_file} > {genomad_del_file}.gz"
   ]
  },
  {
   "cell_type": "code",
   "execution_count": null,
   "metadata": {},
   "outputs": [],
   "source": [
    "!tabix -fp bed {genomad_del_file}.gz\n",
    "!rm {genomad_del_file}"
   ]
  },
  {
   "cell_type": "code",
   "execution_count": null,
   "metadata": {},
   "outputs": [],
   "source": [
    "gnomad.loc[\n",
    "    gnomad['svtype'] == 'DUP',\n",
    "    ['#chrom', 'start', 'end', 'name', 'genes', 'AF', 'AFR_AF', 'AMR_AF', 'EAS_AF', 'EUR_AF']\n",
    "].rename(columns={\n",
    "    'AF': 'af', 'AFR_AF': 'af_afr', 'AMR_AF': 'af_amr', 'EAS_AF': 'af_eas', 'EUR_AF': 'af_eur'\n",
    "}).to_csv(gnomad_dup_file, sep='\\t', index=False)"
   ]
  },
  {
   "cell_type": "code",
   "execution_count": null,
   "outputs": [],
   "source": [
    "!bgzip -cf {gnomad_dup_file} > {gnomad_dup_file}.gz"
   ],
   "metadata": {
    "collapsed": false,
    "pycharm": {
     "name": "#%%\n"
    }
   }
  },
  {
   "cell_type": "code",
   "execution_count": null,
   "outputs": [],
   "source": [
    "!tabix -fp bed {gnomad_dup_file}.gz\n",
    "!rm {gnomad_dup_file}"
   ],
   "metadata": {
    "collapsed": false,
    "pycharm": {
     "name": "#%%\n"
    }
   }
  },
  {
   "cell_type": "code",
   "execution_count": null,
   "metadata": {},
   "outputs": [],
   "source": []
  },
  {
   "cell_type": "code",
   "execution_count": null,
   "metadata": {},
   "outputs": [],
   "source": [
    "!tabix -fp bed {gnomad_dup_file}.gz\n",
    "!rm {gnomad_dup_file}"
   ]
  },
  {
   "cell_type": "code",
   "execution_count": null,
   "metadata": {},
   "outputs": [],
   "source": []
  }
 ],
 "metadata": {
  "kernelspec": {
   "name": "python3",
   "language": "python",
   "display_name": "Python 3"
  },
  "language_info": {
   "codemirror_mode": {
    "name": "ipython",
    "version": 3
   },
   "file_extension": ".py",
   "mimetype": "text/x-python",
   "name": "python",
   "nbconvert_exporter": "python",
   "pygments_lexer": "ipython3",
   "version": "3.7.7-final"
  }
 },
 "nbformat": 4,
 "nbformat_minor": 2
}