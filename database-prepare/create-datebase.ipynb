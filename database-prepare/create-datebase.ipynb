{
 "cells": [
  {
   "cell_type": "code",
   "execution_count": 77,
   "metadata": {},
   "outputs": [],
   "source": [
    "from multiprocessing import Pool\n",
    "import pandas as pd\n",
    "import numpy as np\n",
    "import allel\n",
    "import pysam\n",
    "import json\n",
    "import os\n",
    "from datetime import datetime\n",
    "pd.set_option('display.max_columns', None)\n",
    "from urllib import request\n",
    "from tqdm import tqdm"
   ]
  },
  {
   "cell_type": "code",
   "execution_count": 2,
   "metadata": {},
   "outputs": [],
   "source": [
    "work_dir = os.path.dirname(os.path.dirname(os.path.abspath('__file__')))\n",
    "raw_data_dir = os.path.join(work_dir, 'raw_data')\n",
    "result_data_dir = os.path.join(work_dir, 'data')\n",
    "if not os.path.exists(raw_data_dir):\n",
    "    os.mkdir(raw_data_dir)\n",
    "if not os.path.exists(result_data_dir):\n",
    "    os.mkdir(result_data_dir)\n",
    "\n",
    "# version_date = datetime.today().strftime('%Y-%m-%d')\n",
    "version_date = '2021-10-26'\n",
    "version_date_dir = os.path.join(raw_data_dir, version_date)\n",
    "if not os.path.exists(version_date_dir):\n",
    "    os.mkdir(version_date_dir)"
   ]
  },
  {
   "cell_type": "code",
   "execution_count": 3,
   "metadata": {
    "pycharm": {
     "name": "#%%\n"
    }
   },
   "outputs": [],
   "source": [
    "gene_info_url = 'https://ftp.ncbi.nih.gov/refseq/H_sapiens/Homo_sapiens.gene_info.gz'\n",
    "ref_gene_url = 'https://hgdownload.soe.ucsc.edu/goldenPath/hg19/database/refGene.txt.gz'\n",
    "clingen_gene_curation_url = 'https://ftp.clinicalgenome.org/ClinGen_gene_curation_list_GRCh37.tsv'\n",
    "clingene_region_curation_url = 'https://ftp.clinicalgenome.org/ClinGen_region_curation_list_GRCh37.tsv'\n",
    "clinvar_url = 'https://ftp.ncbi.nlm.nih.gov/pub/clinvar/vcf_GRCh37/clinvar.vcf.gz'\n",
    "hi_pred_url = 'https://decipher.sanger.ac.uk/files/downloads/HI_Predictions_Version3.bed.gz'\n",
    "gnomad_lof_url = 'https://datasetgnomad.blob.core.windows.net/dataset/release/2.1.1/constraint/gnomad.v2.1.1.lof_metrics.by_gene.txt.bgz'\n",
    "gnomad_control_only_url = 'https://datasetgnomad.blob.core.windows.net/dataset/papers/2019-sv/gnomad_v2.1_sv.controls_only.sites.bed.gz'\n",
    "hgnc_gene_fam_url = 'ftp://ftp.ebi.ac.uk/pub/databases/genenames/hgnc/csv/genefamily_db_tables/family.csv'\n",
    "# ori file\n",
    "gene_info_ori_file = os.path.join(version_date_dir, 'Homo_sapiens.gene_info.gz')\n",
    "ref_gene_ori_file = os.path.join(version_date_dir, 'refGene.txt.gz')\n",
    "clingen_gene_ori_file = os.path.join(version_date_dir, 'clingen_gene_hg19.tsv')\n",
    "clingen_region_ori_file = os.path.join(version_date_dir, 'clingen_region_hg19.tsv')\n",
    "clinvar_ori_vcf_file = os.path.join(version_date_dir, 'clinvar.vcf.gz')\n",
    "hi_pred_ori_file = os.path.join(version_date_dir, 'HI_Predictions_Version3.bed.gz')\n",
    "gnomad_lof_ori_file = os.path.join(version_date_dir, 'gnomad.v2.1.1.lof_metrics.by_gene.txt.bgz')\n",
    "gnomad_control_ori_file = os.path.join(version_date_dir, 'gnomad_v2.1_sv.controls_only.sites.bed.gz')\n",
    "# prep an external omim gene list\n",
    "omim_gene_list_file = os.path.join(raw_data_dir, 'gene-list-key-lte3.xlsx')\n",
    "dgv_ori_file = os.path.join(raw_data_dir, 'DGV.GS.March2016.50percent.GainLossSep.Final.hg19.gff3')\n",
    "# result file\n",
    "gene_file = os.path.join(result_data_dir, 'gene.sorted.bed')\n",
    "omim_gene_file = os.path.join(result_data_dir, 'omim-gene.sorted.bed')\n",
    "clinvar_file = os.path.join(result_data_dir, 'clinvar-pathogenic.sorted.vcf')\n",
    "decipher_gene_file = os.path.join(result_data_dir, 'decipher-gene.sorted.bed')\n",
    "dgv_gain_file = os.path.join(result_data_dir, 'dgv-gain.sorted.bed')\n",
    "dgv_loss_file = os.path.join(result_data_dir, 'dgv-loss.sorted.bed')\n",
    "func_region_file = os.path.join(result_data_dir, 'func-region.sorted')\n",
    "gnomad_del_file = os.path.join(result_data_dir, 'gnomad-del.sorted.bed')\n",
    "gnomad_dup_file = os.path.join(result_data_dir, 'gnomad-dup.sorted.bed')\n",
    "hi_cds_file = os.path.join(result_data_dir, 'hi-cds.sorted.bed')\n",
    "hi_exon_file = os.path.join(result_data_dir, 'hi-exon.sorted.bed')\n",
    "hi_gene_file = os.path.join(result_data_dir, 'hi-gene.sorted.bed')\n",
    "hi_region_file = os.path.join(result_data_dir, 'hi-region.sorted.bed')\n",
    "ts_gene_file = os.path.join(result_data_dir, 'ts-gene.sorted.bed')\n",
    "ts_region_file = os.path.join(result_data_dir, 'ts-region.sorted.bed')\n",
    "uhi_gene_file = os.path.join(result_data_dir, 'uhi-gene.sorted.bed')\n",
    "uhi_region_file = os.path.join(result_data_dir, 'uhi-region.sorted.bed')\n",
    "uts_gene_file = os.path.join(result_data_dir, 'uts-gene.sorted.bed')\n",
    "uts_region_file = os.path.join(result_data_dir, 'uts-region.sorted.bed')\n",
    "hgnc_gene_fam_file = os.path.join(version_date_dir, 'family.csv')"
   ]
  },
  {
   "cell_type": "code",
   "execution_count": 4,
   "metadata": {
    "pycharm": {
     "name": "#%% Download required data\n"
    },
    "tags": []
   },
   "outputs": [],
   "source": [
    "# Download require data\n",
    "if not os.path.exists(gene_info_ori_file):\n",
    "    print(f'downloading gene info to {gene_info_ori_file}')\n",
    "    request.urlretrieve(gene_info_url, gene_info_ori_file)\n",
    "    print('done!')\n",
    "\n",
    "if not os.path.exists(ref_gene_ori_file):\n",
    "    print(f'downloading ref gene to {ref_gene_ori_file}')\n",
    "    request.urlretrieve(ref_gene_url, ref_gene_ori_file)\n",
    "    print('done!')\n",
    "\n",
    "if not os.path.exists(clingen_gene_ori_file):\n",
    "    print(f'downloading clingen gene list to {clingen_gene_ori_file}')\n",
    "    request.urlretrieve(clingen_gene_curation_url, clingen_gene_ori_file)\n",
    "    print('done!')\n",
    "\n",
    "if not os.path.exists(clingen_region_ori_file):\n",
    "    print(f'downloading clingen region file to {clingen_region_ori_file}')\n",
    "    request.urlretrieve(clingene_region_curation_url, clingen_region_ori_file)\n",
    "    print('done!')\n",
    "\n",
    "if not os.path.exists(clinvar_ori_vcf_file):\n",
    "    print(f'downloading clingen region file to {clinvar_ori_vcf_file}')\n",
    "    request.urlretrieve(clinvar_url, clinvar_ori_vcf_file)\n",
    "    print('done!')\n",
    "\n",
    "if not os.path.exists(hi_pred_ori_file):\n",
    "    print(f'downloading hi prediction file to {hi_pred_ori_file}')\n",
    "    request.urlretrieve(hi_pred_url, hi_pred_ori_file)\n",
    "    print('done!')\n",
    "if not os.path.exists(gnomad_lof_ori_file):\n",
    "    print(f'downloading pLoF file from GnomAD to {gnomad_lof_ori_file}')\n",
    "    request.urlretrieve(gnomad_lof_url, gnomad_lof_ori_file)\n",
    "    print('done!')\n",
    "if not os.path.exists(gnomad_control_ori_file):\n",
    "    print(f'downloading gnomad control only file to {gnomad_control_ori_file}')\n",
    "    request.urlretrieve(gnomad_control_only_url, gnomad_control_ori_file)\n",
    "    print('done!')\n",
    "\n",
    "if not os.path.exists(hgnc_gene_fam_file):\n",
    "    print(f'downloading gene family file to {hgnc_gene_fam_file}')\n",
    "    request.urlretrieve(hgnc_gene_fam_url, hgnc_gene_fam_file)\n",
    "    print('done!')\n",
    "\n"
   ]
  },
  {
   "cell_type": "code",
   "execution_count": 5,
   "metadata": {
    "pycharm": {
     "name": "#%%\n"
    }
   },
   "outputs": [],
   "source": [
    "cols = [\n",
    "    'bin', 'name', 'chrom', 'strand', 'txStart', 'txEnd', 'cdsStart', 'cdsEnd', 'exonCount', 'exonStarts', 'exonEnds',\n",
    "    'score', 'name2', 'cdsStartStat', 'cdsEndStat', 'ExonFrames']\n",
    "refgene = pd.read_csv(ref_gene_ori_file, sep='\\t', names=cols)\n",
    "refgene = refgene[~refgene['chrom'].str.match(r'.*fix$')]\n",
    "refgene['length'] = refgene['cdsEnd'] - refgene['cdsStart']\n",
    "refgene = refgene.sort_values('length', ascending=False)\n",
    "refgene = refgene.drop_duplicates('name2', keep='first')"
   ]
  },
  {
   "cell_type": "code",
   "execution_count": 6,
   "metadata": {
    "scrolled": true
   },
   "outputs": [
    {
     "data": {
      "text/html": [
       "<div>\n",
       "<style scoped>\n",
       "    .dataframe tbody tr th:only-of-type {\n",
       "        vertical-align: middle;\n",
       "    }\n",
       "\n",
       "    .dataframe tbody tr th {\n",
       "        vertical-align: top;\n",
       "    }\n",
       "\n",
       "    .dataframe thead th {\n",
       "        text-align: right;\n",
       "    }\n",
       "</style>\n",
       "<table border=\"1\" class=\"dataframe\">\n",
       "  <thead>\n",
       "    <tr style=\"text-align: right;\">\n",
       "      <th></th>\n",
       "      <th>bin</th>\n",
       "      <th>name</th>\n",
       "      <th>chrom</th>\n",
       "      <th>strand</th>\n",
       "      <th>txStart</th>\n",
       "      <th>txEnd</th>\n",
       "      <th>cdsStart</th>\n",
       "      <th>cdsEnd</th>\n",
       "      <th>exonCount</th>\n",
       "      <th>exonStarts</th>\n",
       "      <th>exonEnds</th>\n",
       "      <th>score</th>\n",
       "      <th>name2</th>\n",
       "      <th>cdsStartStat</th>\n",
       "      <th>cdsEndStat</th>\n",
       "      <th>ExonFrames</th>\n",
       "      <th>length</th>\n",
       "    </tr>\n",
       "  </thead>\n",
       "  <tbody>\n",
       "    <tr>\n",
       "      <th>10573</th>\n",
       "      <td>26</td>\n",
       "      <td>NM_001351365</td>\n",
       "      <td>chr1</td>\n",
       "      <td>+</td>\n",
       "      <td>144146811</td>\n",
       "      <td>146467744</td>\n",
       "      <td>144146846</td>\n",
       "      <td>146466121</td>\n",
       "      <td>93</td>\n",
       "      <td>144146811,144148789,144149726,144150981,144151...</td>\n",
       "      <td>144147021,144148892,144149941,144151054,144151...</td>\n",
       "      <td>0</td>\n",
       "      <td>NBPF19</td>\n",
       "      <td>cmpl</td>\n",
       "      <td>cmpl</td>\n",
       "      <td>0,1,2,1,2,1,2,1,2,1,2,1,2,1,2,1,2,1,2,1,2,1,2,...</td>\n",
       "      <td>2319275</td>\n",
       "    </tr>\n",
       "    <tr>\n",
       "      <th>10459</th>\n",
       "      <td>26</td>\n",
       "      <td>NM_001278267</td>\n",
       "      <td>chr1</td>\n",
       "      <td>+</td>\n",
       "      <td>144146810</td>\n",
       "      <td>146467744</td>\n",
       "      <td>144158383</td>\n",
       "      <td>146466121</td>\n",
       "      <td>131</td>\n",
       "      <td>144146810,144148789,144149726,144150981,144151...</td>\n",
       "      <td>144147021,144148892,144149941,144151054,144151...</td>\n",
       "      <td>0</td>\n",
       "      <td>NBPF20</td>\n",
       "      <td>cmpl</td>\n",
       "      <td>cmpl</td>\n",
       "      <td>-1,-1,-1,-1,-1,-1,-1,-1,0,2,1,2,1,2,1,2,1,2,1,...</td>\n",
       "      <td>2307738</td>\n",
       "    </tr>\n",
       "    <tr>\n",
       "      <th>18617</th>\n",
       "      <td>12</td>\n",
       "      <td>NM_000109</td>\n",
       "      <td>chrX</td>\n",
       "      <td>-</td>\n",
       "      <td>31137340</td>\n",
       "      <td>33357505</td>\n",
       "      <td>31140035</td>\n",
       "      <td>33357382</td>\n",
       "      <td>79</td>\n",
       "      <td>31137340,31144758,31152218,31164407,31165391,3...</td>\n",
       "      <td>31140047,31144790,31152311,31164531,31165635,3...</td>\n",
       "      <td>0</td>\n",
       "      <td>DMD</td>\n",
       "      <td>cmpl</td>\n",
       "      <td>cmpl</td>\n",
       "      <td>0,1,1,0,2,2,2,2,2,0,2,0,1,2,1,1,2,1,0,0,1,0,2,...</td>\n",
       "      <td>2217347</td>\n",
       "    </tr>\n",
       "    <tr>\n",
       "      <th>29979</th>\n",
       "      <td>2</td>\n",
       "      <td>NM_001351274</td>\n",
       "      <td>chr11</td>\n",
       "      <td>-</td>\n",
       "      <td>83166055</td>\n",
       "      <td>85339417</td>\n",
       "      <td>83170860</td>\n",
       "      <td>85337661</td>\n",
       "      <td>27</td>\n",
       "      <td>83166055,83173044,83177750,83180243,83182668,8...</td>\n",
       "      <td>83170967,83173136,83177860,83180416,83182770,8...</td>\n",
       "      <td>0</td>\n",
       "      <td>DLG2</td>\n",
       "      <td>cmpl</td>\n",
       "      <td>cmpl</td>\n",
       "      <td>1,2,0,1,1,1,0,2,2,1,0,2,2,2,1,0,1,2,0,0,0,0,0,...</td>\n",
       "      <td>2166801</td>\n",
       "    </tr>\n",
       "    <tr>\n",
       "      <th>68033</th>\n",
       "      <td>9</td>\n",
       "      <td>NM_033225</td>\n",
       "      <td>chr8</td>\n",
       "      <td>-</td>\n",
       "      <td>2792882</td>\n",
       "      <td>4852436</td>\n",
       "      <td>2796106</td>\n",
       "      <td>4851938</td>\n",
       "      <td>70</td>\n",
       "      <td>2792882,2799993,2806820,2807752,2808635,281174...</td>\n",
       "      <td>2796266,2800126,2806908,2807865,2808797,281179...</td>\n",
       "      <td>0</td>\n",
       "      <td>CSMD1</td>\n",
       "      <td>cmpl</td>\n",
       "      <td>cmpl</td>\n",
       "      <td>2,1,0,1,1,1,1,0,1,1,1,1,1,1,1,1,1,1,1,1,1,1,1,...</td>\n",
       "      <td>2055832</td>\n",
       "    </tr>\n",
       "  </tbody>\n",
       "</table>\n",
       "</div>"
      ],
      "text/plain": [
       "       bin          name  chrom strand    txStart      txEnd   cdsStart  \\\n",
       "10573   26  NM_001351365   chr1      +  144146811  146467744  144146846   \n",
       "10459   26  NM_001278267   chr1      +  144146810  146467744  144158383   \n",
       "18617   12     NM_000109   chrX      -   31137340   33357505   31140035   \n",
       "29979    2  NM_001351274  chr11      -   83166055   85339417   83170860   \n",
       "68033    9     NM_033225   chr8      -    2792882    4852436    2796106   \n",
       "\n",
       "          cdsEnd  exonCount  \\\n",
       "10573  146466121         93   \n",
       "10459  146466121        131   \n",
       "18617   33357382         79   \n",
       "29979   85337661         27   \n",
       "68033    4851938         70   \n",
       "\n",
       "                                              exonStarts  \\\n",
       "10573  144146811,144148789,144149726,144150981,144151...   \n",
       "10459  144146810,144148789,144149726,144150981,144151...   \n",
       "18617  31137340,31144758,31152218,31164407,31165391,3...   \n",
       "29979  83166055,83173044,83177750,83180243,83182668,8...   \n",
       "68033  2792882,2799993,2806820,2807752,2808635,281174...   \n",
       "\n",
       "                                                exonEnds  score   name2  \\\n",
       "10573  144147021,144148892,144149941,144151054,144151...      0  NBPF19   \n",
       "10459  144147021,144148892,144149941,144151054,144151...      0  NBPF20   \n",
       "18617  31140047,31144790,31152311,31164531,31165635,3...      0     DMD   \n",
       "29979  83170967,83173136,83177860,83180416,83182770,8...      0    DLG2   \n",
       "68033  2796266,2800126,2806908,2807865,2808797,281179...      0   CSMD1   \n",
       "\n",
       "      cdsStartStat cdsEndStat  \\\n",
       "10573         cmpl       cmpl   \n",
       "10459         cmpl       cmpl   \n",
       "18617         cmpl       cmpl   \n",
       "29979         cmpl       cmpl   \n",
       "68033         cmpl       cmpl   \n",
       "\n",
       "                                              ExonFrames   length  \n",
       "10573  0,1,2,1,2,1,2,1,2,1,2,1,2,1,2,1,2,1,2,1,2,1,2,...  2319275  \n",
       "10459  -1,-1,-1,-1,-1,-1,-1,-1,0,2,1,2,1,2,1,2,1,2,1,...  2307738  \n",
       "18617  0,1,1,0,2,2,2,2,2,0,2,0,1,2,1,1,2,1,0,0,1,0,2,...  2217347  \n",
       "29979  1,2,0,1,1,1,0,2,2,1,0,2,2,2,1,0,1,2,0,0,0,0,0,...  2166801  \n",
       "68033  2,1,0,1,1,1,1,0,1,1,1,1,1,1,1,1,1,1,1,1,1,1,1,...  2055832  "
      ]
     },
     "execution_count": 6,
     "metadata": {},
     "output_type": "execute_result"
    }
   ],
   "source": [
    "refgene.head()"
   ]
  },
  {
   "cell_type": "code",
   "execution_count": 7,
   "metadata": {},
   "outputs": [],
   "source": [
    "gene_info = pd.read_csv(gene_info_ori_file, sep='\\t')"
   ]
  },
  {
   "cell_type": "code",
   "execution_count": 8,
   "metadata": {},
   "outputs": [
    {
     "data": {
      "text/html": [
       "<div>\n",
       "<style scoped>\n",
       "    .dataframe tbody tr th:only-of-type {\n",
       "        vertical-align: middle;\n",
       "    }\n",
       "\n",
       "    .dataframe tbody tr th {\n",
       "        vertical-align: top;\n",
       "    }\n",
       "\n",
       "    .dataframe thead th {\n",
       "        text-align: right;\n",
       "    }\n",
       "</style>\n",
       "<table border=\"1\" class=\"dataframe\">\n",
       "  <thead>\n",
       "    <tr style=\"text-align: right;\">\n",
       "      <th></th>\n",
       "      <th>#tax_id</th>\n",
       "      <th>GeneID</th>\n",
       "      <th>Symbol</th>\n",
       "      <th>LocusTag</th>\n",
       "      <th>Synonyms</th>\n",
       "      <th>dbXrefs</th>\n",
       "      <th>chromosome</th>\n",
       "      <th>map_location</th>\n",
       "      <th>description</th>\n",
       "      <th>type_of_gene</th>\n",
       "      <th>Symbol_from_nomenclature_authority</th>\n",
       "      <th>Full_name_from_nomenclature_authority</th>\n",
       "      <th>Nomenclature_status</th>\n",
       "      <th>Other_designations</th>\n",
       "      <th>Modification_date</th>\n",
       "      <th>Feature_type</th>\n",
       "    </tr>\n",
       "  </thead>\n",
       "  <tbody>\n",
       "    <tr>\n",
       "      <th>0</th>\n",
       "      <td>9606</td>\n",
       "      <td>1</td>\n",
       "      <td>A1BG</td>\n",
       "      <td>-</td>\n",
       "      <td>A1B|ABG|GAB|HYST2477</td>\n",
       "      <td>MIM:138670|HGNC:HGNC:5|Ensembl:ENSG00000121410</td>\n",
       "      <td>19</td>\n",
       "      <td>19q13.43</td>\n",
       "      <td>alpha-1-B glycoprotein</td>\n",
       "      <td>protein-coding</td>\n",
       "      <td>A1BG</td>\n",
       "      <td>alpha-1-B glycoprotein</td>\n",
       "      <td>O</td>\n",
       "      <td>alpha-1B-glycoprotein|HEL-S-163pA|epididymis s...</td>\n",
       "      <td>20210708</td>\n",
       "      <td>-</td>\n",
       "    </tr>\n",
       "    <tr>\n",
       "      <th>1</th>\n",
       "      <td>9606</td>\n",
       "      <td>2</td>\n",
       "      <td>A2M</td>\n",
       "      <td>-</td>\n",
       "      <td>A2MD|CPAMD5|FWP007|S863-7</td>\n",
       "      <td>MIM:103950|HGNC:HGNC:7|Ensembl:ENSG00000175899</td>\n",
       "      <td>12</td>\n",
       "      <td>12p13.31</td>\n",
       "      <td>alpha-2-macroglobulin</td>\n",
       "      <td>protein-coding</td>\n",
       "      <td>A2M</td>\n",
       "      <td>alpha-2-macroglobulin</td>\n",
       "      <td>O</td>\n",
       "      <td>alpha-2-macroglobulin|C3 and PZP-like alpha-2-...</td>\n",
       "      <td>20211009</td>\n",
       "      <td>-</td>\n",
       "    </tr>\n",
       "    <tr>\n",
       "      <th>2</th>\n",
       "      <td>9606</td>\n",
       "      <td>3</td>\n",
       "      <td>A2MP1</td>\n",
       "      <td>-</td>\n",
       "      <td>A2MP</td>\n",
       "      <td>HGNC:HGNC:8|Ensembl:ENSG00000256069</td>\n",
       "      <td>12</td>\n",
       "      <td>12p13.31</td>\n",
       "      <td>alpha-2-macroglobulin pseudogene 1</td>\n",
       "      <td>pseudo</td>\n",
       "      <td>A2MP1</td>\n",
       "      <td>alpha-2-macroglobulin pseudogene 1</td>\n",
       "      <td>O</td>\n",
       "      <td>pregnancy-zone protein pseudogene</td>\n",
       "      <td>20210611</td>\n",
       "      <td>-</td>\n",
       "    </tr>\n",
       "    <tr>\n",
       "      <th>3</th>\n",
       "      <td>9606</td>\n",
       "      <td>9</td>\n",
       "      <td>NAT1</td>\n",
       "      <td>-</td>\n",
       "      <td>AAC1|MNAT|NAT-1|NATI</td>\n",
       "      <td>MIM:108345|HGNC:HGNC:7645|Ensembl:ENSG00000171428</td>\n",
       "      <td>8</td>\n",
       "      <td>8p22</td>\n",
       "      <td>N-acetyltransferase 1</td>\n",
       "      <td>protein-coding</td>\n",
       "      <td>NAT1</td>\n",
       "      <td>N-acetyltransferase 1</td>\n",
       "      <td>O</td>\n",
       "      <td>arylamine N-acetyltransferase 1|N-acetyltransf...</td>\n",
       "      <td>20210926</td>\n",
       "      <td>-</td>\n",
       "    </tr>\n",
       "    <tr>\n",
       "      <th>4</th>\n",
       "      <td>9606</td>\n",
       "      <td>10</td>\n",
       "      <td>NAT2</td>\n",
       "      <td>-</td>\n",
       "      <td>AAC2|NAT-2|PNAT</td>\n",
       "      <td>MIM:612182|HGNC:HGNC:7646|Ensembl:ENSG00000156006</td>\n",
       "      <td>8</td>\n",
       "      <td>8p22</td>\n",
       "      <td>N-acetyltransferase 2</td>\n",
       "      <td>protein-coding</td>\n",
       "      <td>NAT2</td>\n",
       "      <td>N-acetyltransferase 2</td>\n",
       "      <td>O</td>\n",
       "      <td>arylamine N-acetyltransferase 2|N-acetyltransf...</td>\n",
       "      <td>20210926</td>\n",
       "      <td>-</td>\n",
       "    </tr>\n",
       "  </tbody>\n",
       "</table>\n",
       "</div>"
      ],
      "text/plain": [
       "   #tax_id  GeneID Symbol LocusTag                   Synonyms  \\\n",
       "0     9606       1   A1BG        -       A1B|ABG|GAB|HYST2477   \n",
       "1     9606       2    A2M        -  A2MD|CPAMD5|FWP007|S863-7   \n",
       "2     9606       3  A2MP1        -                       A2MP   \n",
       "3     9606       9   NAT1        -       AAC1|MNAT|NAT-1|NATI   \n",
       "4     9606      10   NAT2        -            AAC2|NAT-2|PNAT   \n",
       "\n",
       "                                             dbXrefs chromosome map_location  \\\n",
       "0     MIM:138670|HGNC:HGNC:5|Ensembl:ENSG00000121410         19     19q13.43   \n",
       "1     MIM:103950|HGNC:HGNC:7|Ensembl:ENSG00000175899         12     12p13.31   \n",
       "2                HGNC:HGNC:8|Ensembl:ENSG00000256069         12     12p13.31   \n",
       "3  MIM:108345|HGNC:HGNC:7645|Ensembl:ENSG00000171428          8         8p22   \n",
       "4  MIM:612182|HGNC:HGNC:7646|Ensembl:ENSG00000156006          8         8p22   \n",
       "\n",
       "                          description    type_of_gene  \\\n",
       "0              alpha-1-B glycoprotein  protein-coding   \n",
       "1               alpha-2-macroglobulin  protein-coding   \n",
       "2  alpha-2-macroglobulin pseudogene 1          pseudo   \n",
       "3               N-acetyltransferase 1  protein-coding   \n",
       "4               N-acetyltransferase 2  protein-coding   \n",
       "\n",
       "  Symbol_from_nomenclature_authority Full_name_from_nomenclature_authority  \\\n",
       "0                               A1BG                alpha-1-B glycoprotein   \n",
       "1                                A2M                 alpha-2-macroglobulin   \n",
       "2                              A2MP1    alpha-2-macroglobulin pseudogene 1   \n",
       "3                               NAT1                 N-acetyltransferase 1   \n",
       "4                               NAT2                 N-acetyltransferase 2   \n",
       "\n",
       "  Nomenclature_status                                 Other_designations  \\\n",
       "0                   O  alpha-1B-glycoprotein|HEL-S-163pA|epididymis s...   \n",
       "1                   O  alpha-2-macroglobulin|C3 and PZP-like alpha-2-...   \n",
       "2                   O                  pregnancy-zone protein pseudogene   \n",
       "3                   O  arylamine N-acetyltransferase 1|N-acetyltransf...   \n",
       "4                   O  arylamine N-acetyltransferase 2|N-acetyltransf...   \n",
       "\n",
       "   Modification_date Feature_type  \n",
       "0           20210708            -  \n",
       "1           20211009            -  \n",
       "2           20210611            -  \n",
       "3           20210926            -  \n",
       "4           20210926            -  "
      ]
     },
     "execution_count": 8,
     "metadata": {},
     "output_type": "execute_result"
    }
   ],
   "source": [
    "gene_info.head()"
   ]
  },
  {
   "cell_type": "code",
   "execution_count": 9,
   "metadata": {},
   "outputs": [],
   "source": [
    "refgene_info = refgene.merge(gene_info, left_on='name2', right_on='Symbol')"
   ]
  },
  {
   "cell_type": "code",
   "execution_count": 10,
   "metadata": {},
   "outputs": [
    {
     "data": {
      "text/html": [
       "<div>\n",
       "<style scoped>\n",
       "    .dataframe tbody tr th:only-of-type {\n",
       "        vertical-align: middle;\n",
       "    }\n",
       "\n",
       "    .dataframe tbody tr th {\n",
       "        vertical-align: top;\n",
       "    }\n",
       "\n",
       "    .dataframe thead th {\n",
       "        text-align: right;\n",
       "    }\n",
       "</style>\n",
       "<table border=\"1\" class=\"dataframe\">\n",
       "  <thead>\n",
       "    <tr style=\"text-align: right;\">\n",
       "      <th></th>\n",
       "      <th>bin</th>\n",
       "      <th>name</th>\n",
       "      <th>chrom</th>\n",
       "      <th>strand</th>\n",
       "      <th>txStart</th>\n",
       "      <th>txEnd</th>\n",
       "      <th>cdsStart</th>\n",
       "      <th>cdsEnd</th>\n",
       "      <th>exonCount</th>\n",
       "      <th>exonStarts</th>\n",
       "      <th>exonEnds</th>\n",
       "      <th>score</th>\n",
       "      <th>name2</th>\n",
       "      <th>cdsStartStat</th>\n",
       "      <th>cdsEndStat</th>\n",
       "      <th>ExonFrames</th>\n",
       "      <th>length</th>\n",
       "      <th>#tax_id</th>\n",
       "      <th>GeneID</th>\n",
       "      <th>Symbol</th>\n",
       "      <th>LocusTag</th>\n",
       "      <th>Synonyms</th>\n",
       "      <th>dbXrefs</th>\n",
       "      <th>chromosome</th>\n",
       "      <th>map_location</th>\n",
       "      <th>description</th>\n",
       "      <th>type_of_gene</th>\n",
       "      <th>Symbol_from_nomenclature_authority</th>\n",
       "      <th>Full_name_from_nomenclature_authority</th>\n",
       "      <th>Nomenclature_status</th>\n",
       "      <th>Other_designations</th>\n",
       "      <th>Modification_date</th>\n",
       "      <th>Feature_type</th>\n",
       "    </tr>\n",
       "  </thead>\n",
       "  <tbody>\n",
       "    <tr>\n",
       "      <th>0</th>\n",
       "      <td>26</td>\n",
       "      <td>NM_001351365</td>\n",
       "      <td>chr1</td>\n",
       "      <td>+</td>\n",
       "      <td>144146811</td>\n",
       "      <td>146467744</td>\n",
       "      <td>144146846</td>\n",
       "      <td>146466121</td>\n",
       "      <td>93</td>\n",
       "      <td>144146811,144148789,144149726,144150981,144151...</td>\n",
       "      <td>144147021,144148892,144149941,144151054,144151...</td>\n",
       "      <td>0</td>\n",
       "      <td>NBPF19</td>\n",
       "      <td>cmpl</td>\n",
       "      <td>cmpl</td>\n",
       "      <td>0,1,2,1,2,1,2,1,2,1,2,1,2,1,2,1,2,1,2,1,2,1,2,...</td>\n",
       "      <td>2319275</td>\n",
       "      <td>9606</td>\n",
       "      <td>101060226</td>\n",
       "      <td>NBPF19</td>\n",
       "      <td>-</td>\n",
       "      <td>-</td>\n",
       "      <td>MIM:614006|HGNC:HGNC:31999|Ensembl:ENSG0000027...</td>\n",
       "      <td>1</td>\n",
       "      <td>1q21.2</td>\n",
       "      <td>NBPF member 19</td>\n",
       "      <td>protein-coding</td>\n",
       "      <td>NBPF19</td>\n",
       "      <td>NBPF member 19</td>\n",
       "      <td>O</td>\n",
       "      <td>neuroblastoma breakpoint family member 19</td>\n",
       "      <td>20210912</td>\n",
       "      <td>-</td>\n",
       "    </tr>\n",
       "    <tr>\n",
       "      <th>1</th>\n",
       "      <td>26</td>\n",
       "      <td>NM_001278267</td>\n",
       "      <td>chr1</td>\n",
       "      <td>+</td>\n",
       "      <td>144146810</td>\n",
       "      <td>146467744</td>\n",
       "      <td>144158383</td>\n",
       "      <td>146466121</td>\n",
       "      <td>131</td>\n",
       "      <td>144146810,144148789,144149726,144150981,144151...</td>\n",
       "      <td>144147021,144148892,144149941,144151054,144151...</td>\n",
       "      <td>0</td>\n",
       "      <td>NBPF20</td>\n",
       "      <td>cmpl</td>\n",
       "      <td>cmpl</td>\n",
       "      <td>-1,-1,-1,-1,-1,-1,-1,-1,0,2,1,2,1,2,1,2,1,2,1,...</td>\n",
       "      <td>2307738</td>\n",
       "      <td>9606</td>\n",
       "      <td>100288142</td>\n",
       "      <td>NBPF20</td>\n",
       "      <td>-</td>\n",
       "      <td>-</td>\n",
       "      <td>MIM:614007|HGNC:HGNC:32000|Ensembl:ENSG0000016...</td>\n",
       "      <td>1</td>\n",
       "      <td>1q21.1</td>\n",
       "      <td>NBPF member 20</td>\n",
       "      <td>protein-coding</td>\n",
       "      <td>NBPF20</td>\n",
       "      <td>NBPF member 20</td>\n",
       "      <td>O</td>\n",
       "      <td>neuroblastoma breakpoint family member 20</td>\n",
       "      <td>20210611</td>\n",
       "      <td>-</td>\n",
       "    </tr>\n",
       "    <tr>\n",
       "      <th>2</th>\n",
       "      <td>12</td>\n",
       "      <td>NM_000109</td>\n",
       "      <td>chrX</td>\n",
       "      <td>-</td>\n",
       "      <td>31137340</td>\n",
       "      <td>33357505</td>\n",
       "      <td>31140035</td>\n",
       "      <td>33357382</td>\n",
       "      <td>79</td>\n",
       "      <td>31137340,31144758,31152218,31164407,31165391,3...</td>\n",
       "      <td>31140047,31144790,31152311,31164531,31165635,3...</td>\n",
       "      <td>0</td>\n",
       "      <td>DMD</td>\n",
       "      <td>cmpl</td>\n",
       "      <td>cmpl</td>\n",
       "      <td>0,1,1,0,2,2,2,2,2,0,2,0,1,2,1,1,2,1,0,0,1,0,2,...</td>\n",
       "      <td>2217347</td>\n",
       "      <td>9606</td>\n",
       "      <td>1756</td>\n",
       "      <td>DMD</td>\n",
       "      <td>-</td>\n",
       "      <td>BMD|CMD3B|DXS142|DXS164|DXS206|DXS230|DXS239|D...</td>\n",
       "      <td>MIM:300377|HGNC:HGNC:2928|Ensembl:ENSG00000198947</td>\n",
       "      <td>X</td>\n",
       "      <td>Xp21.2-p21.1</td>\n",
       "      <td>dystrophin</td>\n",
       "      <td>protein-coding</td>\n",
       "      <td>DMD</td>\n",
       "      <td>dystrophin</td>\n",
       "      <td>O</td>\n",
       "      <td>dystrophin|truncated dystrophin</td>\n",
       "      <td>20210906</td>\n",
       "      <td>-</td>\n",
       "    </tr>\n",
       "    <tr>\n",
       "      <th>3</th>\n",
       "      <td>2</td>\n",
       "      <td>NM_001351274</td>\n",
       "      <td>chr11</td>\n",
       "      <td>-</td>\n",
       "      <td>83166055</td>\n",
       "      <td>85339417</td>\n",
       "      <td>83170860</td>\n",
       "      <td>85337661</td>\n",
       "      <td>27</td>\n",
       "      <td>83166055,83173044,83177750,83180243,83182668,8...</td>\n",
       "      <td>83170967,83173136,83177860,83180416,83182770,8...</td>\n",
       "      <td>0</td>\n",
       "      <td>DLG2</td>\n",
       "      <td>cmpl</td>\n",
       "      <td>cmpl</td>\n",
       "      <td>1,2,0,1,1,1,0,2,2,1,0,2,2,2,1,0,1,2,0,0,0,0,0,...</td>\n",
       "      <td>2166801</td>\n",
       "      <td>9606</td>\n",
       "      <td>1740</td>\n",
       "      <td>DLG2</td>\n",
       "      <td>-</td>\n",
       "      <td>PPP1R58|PSD-93|PSD93|chapsyn-110</td>\n",
       "      <td>MIM:603583|HGNC:HGNC:2901|Ensembl:ENSG00000150672</td>\n",
       "      <td>11</td>\n",
       "      <td>11q14.1</td>\n",
       "      <td>discs large MAGUK scaffold protein 2</td>\n",
       "      <td>protein-coding</td>\n",
       "      <td>DLG2</td>\n",
       "      <td>discs large MAGUK scaffold protein 2</td>\n",
       "      <td>O</td>\n",
       "      <td>disks large homolog 2|channel-associated prote...</td>\n",
       "      <td>20211016</td>\n",
       "      <td>-</td>\n",
       "    </tr>\n",
       "    <tr>\n",
       "      <th>4</th>\n",
       "      <td>9</td>\n",
       "      <td>NM_033225</td>\n",
       "      <td>chr8</td>\n",
       "      <td>-</td>\n",
       "      <td>2792882</td>\n",
       "      <td>4852436</td>\n",
       "      <td>2796106</td>\n",
       "      <td>4851938</td>\n",
       "      <td>70</td>\n",
       "      <td>2792882,2799993,2806820,2807752,2808635,281174...</td>\n",
       "      <td>2796266,2800126,2806908,2807865,2808797,281179...</td>\n",
       "      <td>0</td>\n",
       "      <td>CSMD1</td>\n",
       "      <td>cmpl</td>\n",
       "      <td>cmpl</td>\n",
       "      <td>2,1,0,1,1,1,1,0,1,1,1,1,1,1,1,1,1,1,1,1,1,1,1,...</td>\n",
       "      <td>2055832</td>\n",
       "      <td>9606</td>\n",
       "      <td>64478</td>\n",
       "      <td>CSMD1</td>\n",
       "      <td>-</td>\n",
       "      <td>PPP1R24</td>\n",
       "      <td>MIM:608397|HGNC:HGNC:14026|Ensembl:ENSG0000018...</td>\n",
       "      <td>8</td>\n",
       "      <td>8p23.2</td>\n",
       "      <td>CUB and Sushi multiple domains 1</td>\n",
       "      <td>protein-coding</td>\n",
       "      <td>CSMD1</td>\n",
       "      <td>CUB and Sushi multiple domains 1</td>\n",
       "      <td>O</td>\n",
       "      <td>CUB and sushi domain-containing protein 1|prot...</td>\n",
       "      <td>20210919</td>\n",
       "      <td>-</td>\n",
       "    </tr>\n",
       "  </tbody>\n",
       "</table>\n",
       "</div>"
      ],
      "text/plain": [
       "   bin          name  chrom strand    txStart      txEnd   cdsStart  \\\n",
       "0   26  NM_001351365   chr1      +  144146811  146467744  144146846   \n",
       "1   26  NM_001278267   chr1      +  144146810  146467744  144158383   \n",
       "2   12     NM_000109   chrX      -   31137340   33357505   31140035   \n",
       "3    2  NM_001351274  chr11      -   83166055   85339417   83170860   \n",
       "4    9     NM_033225   chr8      -    2792882    4852436    2796106   \n",
       "\n",
       "      cdsEnd  exonCount                                         exonStarts  \\\n",
       "0  146466121         93  144146811,144148789,144149726,144150981,144151...   \n",
       "1  146466121        131  144146810,144148789,144149726,144150981,144151...   \n",
       "2   33357382         79  31137340,31144758,31152218,31164407,31165391,3...   \n",
       "3   85337661         27  83166055,83173044,83177750,83180243,83182668,8...   \n",
       "4    4851938         70  2792882,2799993,2806820,2807752,2808635,281174...   \n",
       "\n",
       "                                            exonEnds  score   name2  \\\n",
       "0  144147021,144148892,144149941,144151054,144151...      0  NBPF19   \n",
       "1  144147021,144148892,144149941,144151054,144151...      0  NBPF20   \n",
       "2  31140047,31144790,31152311,31164531,31165635,3...      0     DMD   \n",
       "3  83170967,83173136,83177860,83180416,83182770,8...      0    DLG2   \n",
       "4  2796266,2800126,2806908,2807865,2808797,281179...      0   CSMD1   \n",
       "\n",
       "  cdsStartStat cdsEndStat                                         ExonFrames  \\\n",
       "0         cmpl       cmpl  0,1,2,1,2,1,2,1,2,1,2,1,2,1,2,1,2,1,2,1,2,1,2,...   \n",
       "1         cmpl       cmpl  -1,-1,-1,-1,-1,-1,-1,-1,0,2,1,2,1,2,1,2,1,2,1,...   \n",
       "2         cmpl       cmpl  0,1,1,0,2,2,2,2,2,0,2,0,1,2,1,1,2,1,0,0,1,0,2,...   \n",
       "3         cmpl       cmpl  1,2,0,1,1,1,0,2,2,1,0,2,2,2,1,0,1,2,0,0,0,0,0,...   \n",
       "4         cmpl       cmpl  2,1,0,1,1,1,1,0,1,1,1,1,1,1,1,1,1,1,1,1,1,1,1,...   \n",
       "\n",
       "    length  #tax_id     GeneID  Symbol LocusTag  \\\n",
       "0  2319275     9606  101060226  NBPF19        -   \n",
       "1  2307738     9606  100288142  NBPF20        -   \n",
       "2  2217347     9606       1756     DMD        -   \n",
       "3  2166801     9606       1740    DLG2        -   \n",
       "4  2055832     9606      64478   CSMD1        -   \n",
       "\n",
       "                                            Synonyms  \\\n",
       "0                                                  -   \n",
       "1                                                  -   \n",
       "2  BMD|CMD3B|DXS142|DXS164|DXS206|DXS230|DXS239|D...   \n",
       "3                   PPP1R58|PSD-93|PSD93|chapsyn-110   \n",
       "4                                            PPP1R24   \n",
       "\n",
       "                                             dbXrefs chromosome  map_location  \\\n",
       "0  MIM:614006|HGNC:HGNC:31999|Ensembl:ENSG0000027...          1        1q21.2   \n",
       "1  MIM:614007|HGNC:HGNC:32000|Ensembl:ENSG0000016...          1        1q21.1   \n",
       "2  MIM:300377|HGNC:HGNC:2928|Ensembl:ENSG00000198947          X  Xp21.2-p21.1   \n",
       "3  MIM:603583|HGNC:HGNC:2901|Ensembl:ENSG00000150672         11       11q14.1   \n",
       "4  MIM:608397|HGNC:HGNC:14026|Ensembl:ENSG0000018...          8        8p23.2   \n",
       "\n",
       "                            description    type_of_gene  \\\n",
       "0                        NBPF member 19  protein-coding   \n",
       "1                        NBPF member 20  protein-coding   \n",
       "2                            dystrophin  protein-coding   \n",
       "3  discs large MAGUK scaffold protein 2  protein-coding   \n",
       "4      CUB and Sushi multiple domains 1  protein-coding   \n",
       "\n",
       "  Symbol_from_nomenclature_authority Full_name_from_nomenclature_authority  \\\n",
       "0                             NBPF19                        NBPF member 19   \n",
       "1                             NBPF20                        NBPF member 20   \n",
       "2                                DMD                            dystrophin   \n",
       "3                               DLG2  discs large MAGUK scaffold protein 2   \n",
       "4                              CSMD1      CUB and Sushi multiple domains 1   \n",
       "\n",
       "  Nomenclature_status                                 Other_designations  \\\n",
       "0                   O          neuroblastoma breakpoint family member 19   \n",
       "1                   O          neuroblastoma breakpoint family member 20   \n",
       "2                   O                    dystrophin|truncated dystrophin   \n",
       "3                   O  disks large homolog 2|channel-associated prote...   \n",
       "4                   O  CUB and sushi domain-containing protein 1|prot...   \n",
       "\n",
       "   Modification_date Feature_type  \n",
       "0           20210912            -  \n",
       "1           20210611            -  \n",
       "2           20210906            -  \n",
       "3           20211016            -  \n",
       "4           20210919            -  "
      ]
     },
     "execution_count": 10,
     "metadata": {},
     "output_type": "execute_result"
    }
   ],
   "source": [
    "refgene_info.head()"
   ]
  },
  {
   "cell_type": "code",
   "execution_count": 11,
   "metadata": {
    "pycharm": {
     "name": "#%%\n"
    }
   },
   "outputs": [],
   "source": [
    "gene_fam = pd.read_csv(hgnc_gene_fam_file, sep=',')\n",
    "gene_fam = gene_fam[gene_fam['typical_gene'].notna()].rename(columns={'id': 'fam'})\n",
    "gene_fam_grp = gene_fam.groupby('typical_gene').agg({'fam': set})"
   ]
  },
  {
   "cell_type": "code",
   "execution_count": 12,
   "metadata": {},
   "outputs": [],
   "source": [
    "gene = refgene_info.loc[\n",
    "    refgene_info['type_of_gene'] == 'protein-coding',\n",
    "    ['chrom', 'txStart', 'txEnd', 'GeneID', 'name2', 'name', 'strand']\n",
    "].sort_values(['chrom', 'txStart', 'txEnd'])"
   ]
  },
  {
   "cell_type": "code",
   "execution_count": 13,
   "metadata": {},
   "outputs": [
    {
     "data": {
      "text/html": [
       "<div>\n",
       "<style scoped>\n",
       "    .dataframe tbody tr th:only-of-type {\n",
       "        vertical-align: middle;\n",
       "    }\n",
       "\n",
       "    .dataframe tbody tr th {\n",
       "        vertical-align: top;\n",
       "    }\n",
       "\n",
       "    .dataframe thead th {\n",
       "        text-align: right;\n",
       "    }\n",
       "</style>\n",
       "<table border=\"1\" class=\"dataframe\">\n",
       "  <thead>\n",
       "    <tr style=\"text-align: right;\">\n",
       "      <th></th>\n",
       "      <th>chrom</th>\n",
       "      <th>txStart</th>\n",
       "      <th>txEnd</th>\n",
       "      <th>GeneID</th>\n",
       "      <th>name2</th>\n",
       "      <th>name</th>\n",
       "      <th>strand</th>\n",
       "    </tr>\n",
       "  </thead>\n",
       "  <tbody>\n",
       "    <tr>\n",
       "      <th>18372</th>\n",
       "      <td>chr1</td>\n",
       "      <td>69090</td>\n",
       "      <td>70008</td>\n",
       "      <td>79501</td>\n",
       "      <td>OR4F5</td>\n",
       "      <td>NM_001005484</td>\n",
       "      <td>+</td>\n",
       "    </tr>\n",
       "    <tr>\n",
       "      <th>18188</th>\n",
       "      <td>chr1</td>\n",
       "      <td>367658</td>\n",
       "      <td>368597</td>\n",
       "      <td>729759</td>\n",
       "      <td>OR4F29</td>\n",
       "      <td>NM_001005221</td>\n",
       "      <td>+</td>\n",
       "    </tr>\n",
       "    <tr>\n",
       "      <th>18185</th>\n",
       "      <td>chr1</td>\n",
       "      <td>621095</td>\n",
       "      <td>622034</td>\n",
       "      <td>81399</td>\n",
       "      <td>OR4F16</td>\n",
       "      <td>NM_001005277</td>\n",
       "      <td>-</td>\n",
       "    </tr>\n",
       "    <tr>\n",
       "      <th>9220</th>\n",
       "      <td>chr1</td>\n",
       "      <td>859302</td>\n",
       "      <td>879954</td>\n",
       "      <td>148398</td>\n",
       "      <td>SAMD11</td>\n",
       "      <td>NM_001385641</td>\n",
       "      <td>+</td>\n",
       "    </tr>\n",
       "    <tr>\n",
       "      <th>10563</th>\n",
       "      <td>chr1</td>\n",
       "      <td>879582</td>\n",
       "      <td>894636</td>\n",
       "      <td>26155</td>\n",
       "      <td>NOC2L</td>\n",
       "      <td>NM_015658</td>\n",
       "      <td>-</td>\n",
       "    </tr>\n",
       "  </tbody>\n",
       "</table>\n",
       "</div>"
      ],
      "text/plain": [
       "      chrom  txStart   txEnd  GeneID   name2          name strand\n",
       "18372  chr1    69090   70008   79501   OR4F5  NM_001005484      +\n",
       "18188  chr1   367658  368597  729759  OR4F29  NM_001005221      +\n",
       "18185  chr1   621095  622034   81399  OR4F16  NM_001005277      -\n",
       "9220   chr1   859302  879954  148398  SAMD11  NM_001385641      +\n",
       "10563  chr1   879582  894636   26155   NOC2L     NM_015658      -"
      ]
     },
     "execution_count": 13,
     "metadata": {},
     "output_type": "execute_result"
    }
   ],
   "source": [
    "gene.head()"
   ]
  },
  {
   "cell_type": "code",
   "execution_count": 14,
   "metadata": {},
   "outputs": [],
   "source": [
    "gene.rename(columns={\n",
    "    'chrom': '#chrom', 'txStart': 'start', 'txEnd': 'end',\n",
    "    'GeneID': 'gene_id', 'name2': 'symbol', 'name': 'transcript'\n",
    "}).to_csv(gene_file, index=False, sep='\\t')"
   ]
  },
  {
   "cell_type": "code",
   "execution_count": 15,
   "metadata": {},
   "outputs": [],
   "source": [
    "!bgzip -cf {gene_file} > {gene_file}.gz"
   ]
  },
  {
   "cell_type": "code",
   "execution_count": 16,
   "metadata": {},
   "outputs": [],
   "source": [
    "!tabix -fp bed {gene_file}.gz"
   ]
  },
  {
   "cell_type": "code",
   "execution_count": 17,
   "metadata": {},
   "outputs": [],
   "source": [
    "!rm {gene_file}"
   ]
  },
  {
   "cell_type": "code",
   "execution_count": 18,
   "metadata": {},
   "outputs": [],
   "source": [
    "raw_omim_df = pd.read_excel(omim_gene_list_file)\n",
    "omim_gene = set(raw_omim_df['gene_symbol'].dropna())\n",
    "# with open(omim_gene_list_file) as f:\n",
    "#     omim_gene = set(f.read().split('\\n'))"
   ]
  },
  {
   "cell_type": "code",
   "execution_count": 19,
   "metadata": {},
   "outputs": [],
   "source": [
    "omim_gene = refgene_info.loc[\n",
    "    refgene_info['name2'].isin(omim_gene),\n",
    "    ['chrom', 'txStart', 'txEnd', 'GeneID', 'name2', 'name', 'strand']\n",
    "].sort_values(['chrom', 'txStart', 'txEnd'])"
   ]
  },
  {
   "cell_type": "code",
   "execution_count": 20,
   "metadata": {},
   "outputs": [
    {
     "data": {
      "text/html": [
       "<div>\n",
       "<style scoped>\n",
       "    .dataframe tbody tr th:only-of-type {\n",
       "        vertical-align: middle;\n",
       "    }\n",
       "\n",
       "    .dataframe tbody tr th {\n",
       "        vertical-align: top;\n",
       "    }\n",
       "\n",
       "    .dataframe thead th {\n",
       "        text-align: right;\n",
       "    }\n",
       "</style>\n",
       "<table border=\"1\" class=\"dataframe\">\n",
       "  <thead>\n",
       "    <tr style=\"text-align: right;\">\n",
       "      <th></th>\n",
       "      <th>chrom</th>\n",
       "      <th>txStart</th>\n",
       "      <th>txEnd</th>\n",
       "      <th>GeneID</th>\n",
       "      <th>name2</th>\n",
       "      <th>name</th>\n",
       "      <th>strand</th>\n",
       "    </tr>\n",
       "  </thead>\n",
       "  <tbody>\n",
       "    <tr>\n",
       "      <th>18397</th>\n",
       "      <td>chr1</td>\n",
       "      <td>948876</td>\n",
       "      <td>949919</td>\n",
       "      <td>9636</td>\n",
       "      <td>ISG15</td>\n",
       "      <td>NM_005101</td>\n",
       "      <td>+</td>\n",
       "    </tr>\n",
       "    <tr>\n",
       "      <th>6532</th>\n",
       "      <td>chr1</td>\n",
       "      <td>955499</td>\n",
       "      <td>991494</td>\n",
       "      <td>375790</td>\n",
       "      <td>AGRN</td>\n",
       "      <td>NM_001305275</td>\n",
       "      <td>+</td>\n",
       "    </tr>\n",
       "    <tr>\n",
       "      <th>16101</th>\n",
       "      <td>chr1</td>\n",
       "      <td>1146719</td>\n",
       "      <td>1149533</td>\n",
       "      <td>7293</td>\n",
       "      <td>TNFRSF4</td>\n",
       "      <td>NM_003327</td>\n",
       "      <td>-</td>\n",
       "    </tr>\n",
       "    <tr>\n",
       "      <th>17883</th>\n",
       "      <td>chr1</td>\n",
       "      <td>1167616</td>\n",
       "      <td>1170420</td>\n",
       "      <td>126792</td>\n",
       "      <td>B3GALT6</td>\n",
       "      <td>NM_080605</td>\n",
       "      <td>+</td>\n",
       "    </tr>\n",
       "    <tr>\n",
       "      <th>11098</th>\n",
       "      <td>chr1</td>\n",
       "      <td>1270657</td>\n",
       "      <td>1284798</td>\n",
       "      <td>1855</td>\n",
       "      <td>DVL1</td>\n",
       "      <td>NM_004421</td>\n",
       "      <td>-</td>\n",
       "    </tr>\n",
       "  </tbody>\n",
       "</table>\n",
       "</div>"
      ],
      "text/plain": [
       "      chrom  txStart    txEnd  GeneID    name2          name strand\n",
       "18397  chr1   948876   949919    9636    ISG15     NM_005101      +\n",
       "6532   chr1   955499   991494  375790     AGRN  NM_001305275      +\n",
       "16101  chr1  1146719  1149533    7293  TNFRSF4     NM_003327      -\n",
       "17883  chr1  1167616  1170420  126792  B3GALT6     NM_080605      +\n",
       "11098  chr1  1270657  1284798    1855     DVL1     NM_004421      -"
      ]
     },
     "execution_count": 20,
     "metadata": {},
     "output_type": "execute_result"
    }
   ],
   "source": [
    "omim_gene.head()"
   ]
  },
  {
   "cell_type": "code",
   "execution_count": 21,
   "metadata": {},
   "outputs": [],
   "source": [
    "omim_gene.rename(columns={\n",
    "    'chrom': '#chrom', 'txStart': 'start', 'txEnd': 'end',\n",
    "    'GeneID': 'gene_id', 'name2': 'symbol', 'name': 'transcript'\n",
    "}).to_csv(omim_gene_file, index=False, sep='\\t')"
   ]
  },
  {
   "cell_type": "code",
   "execution_count": 22,
   "metadata": {},
   "outputs": [],
   "source": [
    "!bgzip -cf {omim_gene_file} > {omim_gene_file}.gz"
   ]
  },
  {
   "cell_type": "code",
   "execution_count": 23,
   "metadata": {},
   "outputs": [],
   "source": [
    "!tabix -fp bed {omim_gene_file}.gz\n",
    "!rm {omim_gene_file}"
   ]
  },
  {
   "cell_type": "code",
   "execution_count": 24,
   "metadata": {},
   "outputs": [],
   "source": [
    "curation_gene = pd.read_csv(clingen_gene_ori_file, sep='\\t', dtype=str, skiprows=5)"
   ]
  },
  {
   "cell_type": "code",
   "execution_count": 25,
   "metadata": {},
   "outputs": [
    {
     "data": {
      "text/html": [
       "<div>\n",
       "<style scoped>\n",
       "    .dataframe tbody tr th:only-of-type {\n",
       "        vertical-align: middle;\n",
       "    }\n",
       "\n",
       "    .dataframe tbody tr th {\n",
       "        vertical-align: top;\n",
       "    }\n",
       "\n",
       "    .dataframe thead th {\n",
       "        text-align: right;\n",
       "    }\n",
       "</style>\n",
       "<table border=\"1\" class=\"dataframe\">\n",
       "  <thead>\n",
       "    <tr style=\"text-align: right;\">\n",
       "      <th></th>\n",
       "      <th>#Gene Symbol</th>\n",
       "      <th>Gene ID</th>\n",
       "      <th>cytoBand</th>\n",
       "      <th>Genomic Location</th>\n",
       "      <th>Haploinsufficiency Score</th>\n",
       "      <th>Haploinsufficiency Description</th>\n",
       "      <th>Haploinsufficiency PMID1</th>\n",
       "      <th>Haploinsufficiency PMID2</th>\n",
       "      <th>Haploinsufficiency PMID3</th>\n",
       "      <th>Haploinsufficiency PMID4</th>\n",
       "      <th>Haploinsufficiency PMID5</th>\n",
       "      <th>Haploinsufficiency PMID6</th>\n",
       "      <th>Triplosensitivity Score</th>\n",
       "      <th>Triplosensitivity Description</th>\n",
       "      <th>Triplosensitivity PMID1</th>\n",
       "      <th>Triplosensitivity PMID2</th>\n",
       "      <th>Triplosensitivity PMID3</th>\n",
       "      <th>Triplosensitivity PMID4</th>\n",
       "      <th>Triplosensitivity PMID5</th>\n",
       "      <th>Triplosensitivity PMID6</th>\n",
       "      <th>Date Last Evaluated</th>\n",
       "      <th>Loss phenotype OMIM ID</th>\n",
       "      <th>Triplosensitive phenotype OMIM ID</th>\n",
       "    </tr>\n",
       "  </thead>\n",
       "  <tbody>\n",
       "    <tr>\n",
       "      <th>0</th>\n",
       "      <td>A4GALT</td>\n",
       "      <td>53947</td>\n",
       "      <td>22q13.2</td>\n",
       "      <td>chr22:43088121-43117307</td>\n",
       "      <td>30</td>\n",
       "      <td>Gene associated with autosomal recessive pheno...</td>\n",
       "      <td>NaN</td>\n",
       "      <td>NaN</td>\n",
       "      <td>NaN</td>\n",
       "      <td>NaN</td>\n",
       "      <td>NaN</td>\n",
       "      <td>NaN</td>\n",
       "      <td>0</td>\n",
       "      <td>No evidence available</td>\n",
       "      <td>NaN</td>\n",
       "      <td>NaN</td>\n",
       "      <td>NaN</td>\n",
       "      <td>NaN</td>\n",
       "      <td>NaN</td>\n",
       "      <td>NaN</td>\n",
       "      <td>2014-12-11</td>\n",
       "      <td>111400</td>\n",
       "      <td>NaN</td>\n",
       "    </tr>\n",
       "    <tr>\n",
       "      <th>1</th>\n",
       "      <td>AAGAB</td>\n",
       "      <td>79719</td>\n",
       "      <td>15q23</td>\n",
       "      <td>chr15:67493013-67547536</td>\n",
       "      <td>3</td>\n",
       "      <td>Sufficient evidence for dosage pathogenicity</td>\n",
       "      <td>23064416</td>\n",
       "      <td>23000146</td>\n",
       "      <td>NaN</td>\n",
       "      <td>NaN</td>\n",
       "      <td>NaN</td>\n",
       "      <td>NaN</td>\n",
       "      <td>0</td>\n",
       "      <td>No evidence available</td>\n",
       "      <td>NaN</td>\n",
       "      <td>NaN</td>\n",
       "      <td>NaN</td>\n",
       "      <td>NaN</td>\n",
       "      <td>NaN</td>\n",
       "      <td>NaN</td>\n",
       "      <td>2013-02-28</td>\n",
       "      <td>148600</td>\n",
       "      <td>NaN</td>\n",
       "    </tr>\n",
       "    <tr>\n",
       "      <th>2</th>\n",
       "      <td>AARS1</td>\n",
       "      <td>16</td>\n",
       "      <td>16q22.1</td>\n",
       "      <td>chr16:70286297-70323412</td>\n",
       "      <td>0</td>\n",
       "      <td>No evidence available</td>\n",
       "      <td>NaN</td>\n",
       "      <td>NaN</td>\n",
       "      <td>NaN</td>\n",
       "      <td>NaN</td>\n",
       "      <td>NaN</td>\n",
       "      <td>NaN</td>\n",
       "      <td>0</td>\n",
       "      <td>No evidence available</td>\n",
       "      <td>NaN</td>\n",
       "      <td>NaN</td>\n",
       "      <td>NaN</td>\n",
       "      <td>NaN</td>\n",
       "      <td>NaN</td>\n",
       "      <td>NaN</td>\n",
       "      <td>2018-01-11</td>\n",
       "      <td>NaN</td>\n",
       "      <td>NaN</td>\n",
       "    </tr>\n",
       "    <tr>\n",
       "      <th>3</th>\n",
       "      <td>AARS2</td>\n",
       "      <td>57505</td>\n",
       "      <td>6p21.1</td>\n",
       "      <td>chr6:44266463-44281063</td>\n",
       "      <td>30</td>\n",
       "      <td>Gene associated with autosomal recessive pheno...</td>\n",
       "      <td>NaN</td>\n",
       "      <td>NaN</td>\n",
       "      <td>NaN</td>\n",
       "      <td>NaN</td>\n",
       "      <td>NaN</td>\n",
       "      <td>NaN</td>\n",
       "      <td>Not yet evaluated</td>\n",
       "      <td>Not yet evaluated</td>\n",
       "      <td>NaN</td>\n",
       "      <td>NaN</td>\n",
       "      <td>NaN</td>\n",
       "      <td>NaN</td>\n",
       "      <td>NaN</td>\n",
       "      <td>NaN</td>\n",
       "      <td>2016-08-22</td>\n",
       "      <td>615889</td>\n",
       "      <td>NaN</td>\n",
       "    </tr>\n",
       "    <tr>\n",
       "      <th>4</th>\n",
       "      <td>AASS</td>\n",
       "      <td>10157</td>\n",
       "      <td>7q31.32</td>\n",
       "      <td>chr7:121713598-121784344</td>\n",
       "      <td>30</td>\n",
       "      <td>Gene associated with autosomal recessive pheno...</td>\n",
       "      <td>NaN</td>\n",
       "      <td>NaN</td>\n",
       "      <td>NaN</td>\n",
       "      <td>NaN</td>\n",
       "      <td>NaN</td>\n",
       "      <td>NaN</td>\n",
       "      <td>Not yet evaluated</td>\n",
       "      <td>Not yet evaluated</td>\n",
       "      <td>NaN</td>\n",
       "      <td>NaN</td>\n",
       "      <td>NaN</td>\n",
       "      <td>NaN</td>\n",
       "      <td>NaN</td>\n",
       "      <td>NaN</td>\n",
       "      <td>2016-08-22</td>\n",
       "      <td>238700</td>\n",
       "      <td>NaN</td>\n",
       "    </tr>\n",
       "  </tbody>\n",
       "</table>\n",
       "</div>"
      ],
      "text/plain": [
       "  #Gene Symbol Gene ID cytoBand          Genomic Location  \\\n",
       "0       A4GALT   53947  22q13.2   chr22:43088121-43117307   \n",
       "1        AAGAB   79719    15q23   chr15:67493013-67547536   \n",
       "2        AARS1      16  16q22.1   chr16:70286297-70323412   \n",
       "3        AARS2   57505   6p21.1    chr6:44266463-44281063   \n",
       "4         AASS   10157  7q31.32  chr7:121713598-121784344   \n",
       "\n",
       "  Haploinsufficiency Score                     Haploinsufficiency Description  \\\n",
       "0                       30  Gene associated with autosomal recessive pheno...   \n",
       "1                        3       Sufficient evidence for dosage pathogenicity   \n",
       "2                        0                              No evidence available   \n",
       "3                       30  Gene associated with autosomal recessive pheno...   \n",
       "4                       30  Gene associated with autosomal recessive pheno...   \n",
       "\n",
       "  Haploinsufficiency PMID1 Haploinsufficiency PMID2 Haploinsufficiency PMID3  \\\n",
       "0                      NaN                      NaN                      NaN   \n",
       "1                 23064416                 23000146                      NaN   \n",
       "2                      NaN                      NaN                      NaN   \n",
       "3                      NaN                      NaN                      NaN   \n",
       "4                      NaN                      NaN                      NaN   \n",
       "\n",
       "  Haploinsufficiency PMID4 Haploinsufficiency PMID5 Haploinsufficiency PMID6  \\\n",
       "0                      NaN                      NaN                      NaN   \n",
       "1                      NaN                      NaN                      NaN   \n",
       "2                      NaN                      NaN                      NaN   \n",
       "3                      NaN                      NaN                      NaN   \n",
       "4                      NaN                      NaN                      NaN   \n",
       "\n",
       "  Triplosensitivity Score Triplosensitivity Description  \\\n",
       "0                       0         No evidence available   \n",
       "1                       0         No evidence available   \n",
       "2                       0         No evidence available   \n",
       "3       Not yet evaluated             Not yet evaluated   \n",
       "4       Not yet evaluated             Not yet evaluated   \n",
       "\n",
       "  Triplosensitivity PMID1 Triplosensitivity PMID2 Triplosensitivity PMID3  \\\n",
       "0                     NaN                     NaN                     NaN   \n",
       "1                     NaN                     NaN                     NaN   \n",
       "2                     NaN                     NaN                     NaN   \n",
       "3                     NaN                     NaN                     NaN   \n",
       "4                     NaN                     NaN                     NaN   \n",
       "\n",
       "  Triplosensitivity PMID4 Triplosensitivity PMID5 Triplosensitivity PMID6  \\\n",
       "0                     NaN                     NaN                     NaN   \n",
       "1                     NaN                     NaN                     NaN   \n",
       "2                     NaN                     NaN                     NaN   \n",
       "3                     NaN                     NaN                     NaN   \n",
       "4                     NaN                     NaN                     NaN   \n",
       "\n",
       "  Date Last Evaluated Loss phenotype OMIM ID Triplosensitive phenotype OMIM ID  \n",
       "0          2014-12-11                 111400                               NaN  \n",
       "1          2013-02-28                 148600                               NaN  \n",
       "2          2018-01-11                    NaN                               NaN  \n",
       "3          2016-08-22                 615889                               NaN  \n",
       "4          2016-08-22                 238700                               NaN  "
      ]
     },
     "execution_count": 25,
     "metadata": {},
     "output_type": "execute_result"
    }
   ],
   "source": [
    "curation_gene.head()"
   ]
  },
  {
   "cell_type": "code",
   "execution_count": 26,
   "metadata": {},
   "outputs": [],
   "source": [
    "hi_genes = set(\n",
    "    curation_gene.loc[\n",
    "        curation_gene['Haploinsufficiency Score'] == '3', '#Gene Symbol'\n",
    "    ]\n",
    ")"
   ]
  },
  {
   "cell_type": "code",
   "execution_count": 27,
   "metadata": {},
   "outputs": [],
   "source": [
    "hi_gene = refgene_info.loc[\n",
    "    refgene_info['name2'].isin(hi_genes),\n",
    "    ['chrom', 'txStart', 'txEnd', 'GeneID', 'name2', 'name', 'strand']\n",
    "].sort_values(['chrom', 'txStart', 'txEnd'])"
   ]
  },
  {
   "cell_type": "code",
   "execution_count": 28,
   "metadata": {},
   "outputs": [
    {
     "data": {
      "text/html": [
       "<div>\n",
       "<style scoped>\n",
       "    .dataframe tbody tr th:only-of-type {\n",
       "        vertical-align: middle;\n",
       "    }\n",
       "\n",
       "    .dataframe tbody tr th {\n",
       "        vertical-align: top;\n",
       "    }\n",
       "\n",
       "    .dataframe thead th {\n",
       "        text-align: right;\n",
       "    }\n",
       "</style>\n",
       "<table border=\"1\" class=\"dataframe\">\n",
       "  <thead>\n",
       "    <tr style=\"text-align: right;\">\n",
       "      <th></th>\n",
       "      <th>chrom</th>\n",
       "      <th>txStart</th>\n",
       "      <th>txEnd</th>\n",
       "      <th>GeneID</th>\n",
       "      <th>name2</th>\n",
       "      <th>name</th>\n",
       "      <th>strand</th>\n",
       "    </tr>\n",
       "  </thead>\n",
       "  <tbody>\n",
       "    <tr>\n",
       "      <th>51</th>\n",
       "      <td>chr1</td>\n",
       "      <td>6845513</td>\n",
       "      <td>7829766</td>\n",
       "      <td>23261</td>\n",
       "      <td>CAMTA1</td>\n",
       "      <td>NM_001349609</td>\n",
       "      <td>+</td>\n",
       "    </tr>\n",
       "    <tr>\n",
       "      <th>6499</th>\n",
       "      <td>chr1</td>\n",
       "      <td>17345220</td>\n",
       "      <td>17380527</td>\n",
       "      <td>6390</td>\n",
       "      <td>SDHB</td>\n",
       "      <td>NM_003000</td>\n",
       "      <td>-</td>\n",
       "    </tr>\n",
       "    <tr>\n",
       "      <th>3068</th>\n",
       "      <td>chr1</td>\n",
       "      <td>27022505</td>\n",
       "      <td>27108595</td>\n",
       "      <td>8289</td>\n",
       "      <td>ARID1A</td>\n",
       "      <td>NM_139135</td>\n",
       "      <td>+</td>\n",
       "    </tr>\n",
       "    <tr>\n",
       "      <th>14667</th>\n",
       "      <td>chr1</td>\n",
       "      <td>27860755</td>\n",
       "      <td>27930655</td>\n",
       "      <td>27245</td>\n",
       "      <td>AHDC1</td>\n",
       "      <td>NM_001371928</td>\n",
       "      <td>-</td>\n",
       "    </tr>\n",
       "    <tr>\n",
       "      <th>7013</th>\n",
       "      <td>chr1</td>\n",
       "      <td>43391025</td>\n",
       "      <td>43424539</td>\n",
       "      <td>6513</td>\n",
       "      <td>SLC2A1</td>\n",
       "      <td>NM_006516</td>\n",
       "      <td>-</td>\n",
       "    </tr>\n",
       "  </tbody>\n",
       "</table>\n",
       "</div>"
      ],
      "text/plain": [
       "      chrom   txStart     txEnd  GeneID   name2          name strand\n",
       "51     chr1   6845513   7829766   23261  CAMTA1  NM_001349609      +\n",
       "6499   chr1  17345220  17380527    6390    SDHB     NM_003000      -\n",
       "3068   chr1  27022505  27108595    8289  ARID1A     NM_139135      +\n",
       "14667  chr1  27860755  27930655   27245   AHDC1  NM_001371928      -\n",
       "7013   chr1  43391025  43424539    6513  SLC2A1     NM_006516      -"
      ]
     },
     "execution_count": 28,
     "metadata": {},
     "output_type": "execute_result"
    }
   ],
   "source": [
    "hi_gene.head()"
   ]
  },
  {
   "cell_type": "code",
   "execution_count": 29,
   "metadata": {},
   "outputs": [],
   "source": [
    "hi_gene.rename(columns={\n",
    "    'chrom': '#chrom', 'txStart': 'start', 'txEnd': 'end',\n",
    "    'GeneID': 'gene_id', 'name2': 'symbol', 'name': 'transcript'\n",
    "}).to_csv(hi_gene_file, index=False, sep='\\t')"
   ]
  },
  {
   "cell_type": "code",
   "execution_count": 30,
   "metadata": {},
   "outputs": [],
   "source": [
    "!bgzip -cf {hi_gene_file} > {hi_gene_file}.gz"
   ]
  },
  {
   "cell_type": "code",
   "execution_count": 31,
   "metadata": {},
   "outputs": [],
   "source": [
    "!tabix -fp bed {hi_gene_file}.gz\n",
    "!rm {hi_gene_file}"
   ]
  },
  {
   "cell_type": "code",
   "execution_count": 32,
   "metadata": {},
   "outputs": [],
   "source": [
    "hi_cds = refgene_info.loc[\n",
    "    (refgene_info['name2'].isin(hi_genes)) & (refgene_info['length'] != 0),\n",
    "    ['chrom', 'cdsStart', 'cdsEnd', 'GeneID', 'name2', 'name']\n",
    "].sort_values(['chrom', 'cdsStart', 'cdsEnd'])"
   ]
  },
  {
   "cell_type": "code",
   "execution_count": 33,
   "metadata": {},
   "outputs": [
    {
     "data": {
      "text/html": [
       "<div>\n",
       "<style scoped>\n",
       "    .dataframe tbody tr th:only-of-type {\n",
       "        vertical-align: middle;\n",
       "    }\n",
       "\n",
       "    .dataframe tbody tr th {\n",
       "        vertical-align: top;\n",
       "    }\n",
       "\n",
       "    .dataframe thead th {\n",
       "        text-align: right;\n",
       "    }\n",
       "</style>\n",
       "<table border=\"1\" class=\"dataframe\">\n",
       "  <thead>\n",
       "    <tr style=\"text-align: right;\">\n",
       "      <th></th>\n",
       "      <th>chrom</th>\n",
       "      <th>cdsStart</th>\n",
       "      <th>cdsEnd</th>\n",
       "      <th>GeneID</th>\n",
       "      <th>name2</th>\n",
       "      <th>name</th>\n",
       "    </tr>\n",
       "  </thead>\n",
       "  <tbody>\n",
       "    <tr>\n",
       "      <th>51</th>\n",
       "      <td>chr1</td>\n",
       "      <td>6845590</td>\n",
       "      <td>7826582</td>\n",
       "      <td>23261</td>\n",
       "      <td>CAMTA1</td>\n",
       "      <td>NM_001349609</td>\n",
       "    </tr>\n",
       "    <tr>\n",
       "      <th>6499</th>\n",
       "      <td>chr1</td>\n",
       "      <td>17345375</td>\n",
       "      <td>17380514</td>\n",
       "      <td>6390</td>\n",
       "      <td>SDHB</td>\n",
       "      <td>NM_003000</td>\n",
       "    </tr>\n",
       "    <tr>\n",
       "      <th>3068</th>\n",
       "      <td>chr1</td>\n",
       "      <td>27022894</td>\n",
       "      <td>27107247</td>\n",
       "      <td>8289</td>\n",
       "      <td>ARID1A</td>\n",
       "      <td>NM_139135</td>\n",
       "    </tr>\n",
       "    <tr>\n",
       "      <th>14667</th>\n",
       "      <td>chr1</td>\n",
       "      <td>27873814</td>\n",
       "      <td>27878626</td>\n",
       "      <td>27245</td>\n",
       "      <td>AHDC1</td>\n",
       "      <td>NM_001371928</td>\n",
       "    </tr>\n",
       "    <tr>\n",
       "      <th>7013</th>\n",
       "      <td>chr1</td>\n",
       "      <td>43392711</td>\n",
       "      <td>43424322</td>\n",
       "      <td>6513</td>\n",
       "      <td>SLC2A1</td>\n",
       "      <td>NM_006516</td>\n",
       "    </tr>\n",
       "  </tbody>\n",
       "</table>\n",
       "</div>"
      ],
      "text/plain": [
       "      chrom  cdsStart    cdsEnd  GeneID   name2          name\n",
       "51     chr1   6845590   7826582   23261  CAMTA1  NM_001349609\n",
       "6499   chr1  17345375  17380514    6390    SDHB     NM_003000\n",
       "3068   chr1  27022894  27107247    8289  ARID1A     NM_139135\n",
       "14667  chr1  27873814  27878626   27245   AHDC1  NM_001371928\n",
       "7013   chr1  43392711  43424322    6513  SLC2A1     NM_006516"
      ]
     },
     "execution_count": 33,
     "metadata": {},
     "output_type": "execute_result"
    }
   ],
   "source": [
    "hi_cds.head()"
   ]
  },
  {
   "cell_type": "code",
   "execution_count": 34,
   "metadata": {},
   "outputs": [],
   "source": [
    "hi_cds.rename(columns={\n",
    "    'chrom': '#chrom', 'cdsStart': 'start', 'cdsEnd': 'end',\n",
    "    'GeneID': 'gene_id', 'name2': 'symbol', 'name': 'transcript'\n",
    "}).to_csv(hi_cds_file, index=False, sep='\\t')"
   ]
  },
  {
   "cell_type": "code",
   "execution_count": 35,
   "metadata": {
    "tags": []
   },
   "outputs": [],
   "source": [
    "!bgzip -cf {hi_cds_file} > {hi_cds_file}.gz"
   ]
  },
  {
   "cell_type": "code",
   "execution_count": 36,
   "metadata": {},
   "outputs": [],
   "source": [
    "!tabix -fp bed {hi_cds_file}.gz\n",
    "!rm {hi_cds_file}"
   ]
  },
  {
   "cell_type": "code",
   "execution_count": 37,
   "metadata": {},
   "outputs": [],
   "source": [
    "hi_exons = refgene_info.loc[\n",
    "    refgene_info['name2'].isin(hi_genes), ['chrom', 'exonStarts', 'exonEnds', 'GeneID', 'name2', 'name', 'strand']\n",
    "].copy()"
   ]
  },
  {
   "cell_type": "code",
   "execution_count": 38,
   "metadata": {},
   "outputs": [
    {
     "data": {
      "text/html": [
       "<div>\n",
       "<style scoped>\n",
       "    .dataframe tbody tr th:only-of-type {\n",
       "        vertical-align: middle;\n",
       "    }\n",
       "\n",
       "    .dataframe tbody tr th {\n",
       "        vertical-align: top;\n",
       "    }\n",
       "\n",
       "    .dataframe thead th {\n",
       "        text-align: right;\n",
       "    }\n",
       "</style>\n",
       "<table border=\"1\" class=\"dataframe\">\n",
       "  <thead>\n",
       "    <tr style=\"text-align: right;\">\n",
       "      <th></th>\n",
       "      <th>chrom</th>\n",
       "      <th>exonStarts</th>\n",
       "      <th>exonEnds</th>\n",
       "      <th>GeneID</th>\n",
       "      <th>name2</th>\n",
       "      <th>name</th>\n",
       "      <th>strand</th>\n",
       "    </tr>\n",
       "  </thead>\n",
       "  <tbody>\n",
       "    <tr>\n",
       "      <th>2</th>\n",
       "      <td>chrX</td>\n",
       "      <td>31137340,31144758,31152218,31164407,31165391,3...</td>\n",
       "      <td>31140047,31144790,31152311,31164531,31165635,3...</td>\n",
       "      <td>1756</td>\n",
       "      <td>DMD</td>\n",
       "      <td>NM_000109</td>\n",
       "      <td>-</td>\n",
       "    </tr>\n",
       "    <tr>\n",
       "      <th>26</th>\n",
       "      <td>chr7</td>\n",
       "      <td>69063460,69364271,69583117,69599521,69900737,7...</td>\n",
       "      <td>69064948,69364484,69583219,69599557,69900767,7...</td>\n",
       "      <td>26053</td>\n",
       "      <td>AUTS2</td>\n",
       "      <td>NM_015570</td>\n",
       "      <td>+</td>\n",
       "    </tr>\n",
       "    <tr>\n",
       "      <th>31</th>\n",
       "      <td>chrX</td>\n",
       "      <td>28605562,28807436,29301054,29414374,29417271,2...</td>\n",
       "      <td>28606164,28807542,29301334,29414561,29417425,2...</td>\n",
       "      <td>11141</td>\n",
       "      <td>IL1RAPL1</td>\n",
       "      <td>NM_014271</td>\n",
       "      <td>+</td>\n",
       "    </tr>\n",
       "    <tr>\n",
       "      <th>44</th>\n",
       "      <td>chr2</td>\n",
       "      <td>50145642,50170841,50280408,50282092,50318460,5...</td>\n",
       "      <td>50149389,50170929,50280728,50282182,50318632,5...</td>\n",
       "      <td>9378</td>\n",
       "      <td>NRXN1</td>\n",
       "      <td>NM_001330084</td>\n",
       "      <td>-</td>\n",
       "    </tr>\n",
       "    <tr>\n",
       "      <th>51</th>\n",
       "      <td>chr1</td>\n",
       "      <td>6845513,6880240,6885151,7151363,7309550,752788...</td>\n",
       "      <td>6845635,6880310,6885270,7151431,7309686,752796...</td>\n",
       "      <td>23261</td>\n",
       "      <td>CAMTA1</td>\n",
       "      <td>NM_001349609</td>\n",
       "      <td>+</td>\n",
       "    </tr>\n",
       "  </tbody>\n",
       "</table>\n",
       "</div>"
      ],
      "text/plain": [
       "   chrom                                         exonStarts  \\\n",
       "2   chrX  31137340,31144758,31152218,31164407,31165391,3...   \n",
       "26  chr7  69063460,69364271,69583117,69599521,69900737,7...   \n",
       "31  chrX  28605562,28807436,29301054,29414374,29417271,2...   \n",
       "44  chr2  50145642,50170841,50280408,50282092,50318460,5...   \n",
       "51  chr1  6845513,6880240,6885151,7151363,7309550,752788...   \n",
       "\n",
       "                                             exonEnds  GeneID     name2  \\\n",
       "2   31140047,31144790,31152311,31164531,31165635,3...    1756       DMD   \n",
       "26  69064948,69364484,69583219,69599557,69900767,7...   26053     AUTS2   \n",
       "31  28606164,28807542,29301334,29414561,29417425,2...   11141  IL1RAPL1   \n",
       "44  50149389,50170929,50280728,50282182,50318632,5...    9378     NRXN1   \n",
       "51  6845635,6880310,6885270,7151431,7309686,752796...   23261    CAMTA1   \n",
       "\n",
       "            name strand  \n",
       "2      NM_000109      -  \n",
       "26     NM_015570      +  \n",
       "31     NM_014271      +  \n",
       "44  NM_001330084      -  \n",
       "51  NM_001349609      +  "
      ]
     },
     "execution_count": 38,
     "metadata": {},
     "output_type": "execute_result"
    }
   ],
   "source": [
    "hi_exons.head()"
   ]
  },
  {
   "cell_type": "code",
   "execution_count": 39,
   "metadata": {},
   "outputs": [
    {
     "name": "stderr",
     "output_type": "stream",
     "text": [
      "<ipython-input-39-2bceec3db5cc>:1: FutureWarning: The default value of regex will change from True to False in a future version.\n",
      "  hi_exons['exonStarts'] = hi_exons['exonStarts'].str.replace(r',$', '')\n",
      "<ipython-input-39-2bceec3db5cc>:2: FutureWarning: The default value of regex will change from True to False in a future version.\n",
      "  hi_exons['exonEnds'] = hi_exons['exonEnds'].str.replace(r',$', '')\n"
     ]
    }
   ],
   "source": [
    "hi_exons['exonStarts'] = hi_exons['exonStarts'].str.replace(r',$', '')\n",
    "hi_exons['exonEnds'] = hi_exons['exonEnds'].str.replace(r',$', '')"
   ]
  },
  {
   "cell_type": "code",
   "execution_count": 40,
   "metadata": {},
   "outputs": [
    {
     "data": {
      "text/html": [
       "<div>\n",
       "<style scoped>\n",
       "    .dataframe tbody tr th:only-of-type {\n",
       "        vertical-align: middle;\n",
       "    }\n",
       "\n",
       "    .dataframe tbody tr th {\n",
       "        vertical-align: top;\n",
       "    }\n",
       "\n",
       "    .dataframe thead th {\n",
       "        text-align: right;\n",
       "    }\n",
       "</style>\n",
       "<table border=\"1\" class=\"dataframe\">\n",
       "  <thead>\n",
       "    <tr style=\"text-align: right;\">\n",
       "      <th></th>\n",
       "      <th>chrom</th>\n",
       "      <th>exonStarts</th>\n",
       "      <th>exonEnds</th>\n",
       "      <th>GeneID</th>\n",
       "      <th>name2</th>\n",
       "      <th>name</th>\n",
       "      <th>strand</th>\n",
       "    </tr>\n",
       "  </thead>\n",
       "  <tbody>\n",
       "    <tr>\n",
       "      <th>2</th>\n",
       "      <td>chrX</td>\n",
       "      <td>31137340,31144758,31152218,31164407,31165391,3...</td>\n",
       "      <td>31140047,31144790,31152311,31164531,31165635,3...</td>\n",
       "      <td>1756</td>\n",
       "      <td>DMD</td>\n",
       "      <td>NM_000109</td>\n",
       "      <td>-</td>\n",
       "    </tr>\n",
       "    <tr>\n",
       "      <th>26</th>\n",
       "      <td>chr7</td>\n",
       "      <td>69063460,69364271,69583117,69599521,69900737,7...</td>\n",
       "      <td>69064948,69364484,69583219,69599557,69900767,7...</td>\n",
       "      <td>26053</td>\n",
       "      <td>AUTS2</td>\n",
       "      <td>NM_015570</td>\n",
       "      <td>+</td>\n",
       "    </tr>\n",
       "    <tr>\n",
       "      <th>31</th>\n",
       "      <td>chrX</td>\n",
       "      <td>28605562,28807436,29301054,29414374,29417271,2...</td>\n",
       "      <td>28606164,28807542,29301334,29414561,29417425,2...</td>\n",
       "      <td>11141</td>\n",
       "      <td>IL1RAPL1</td>\n",
       "      <td>NM_014271</td>\n",
       "      <td>+</td>\n",
       "    </tr>\n",
       "    <tr>\n",
       "      <th>44</th>\n",
       "      <td>chr2</td>\n",
       "      <td>50145642,50170841,50280408,50282092,50318460,5...</td>\n",
       "      <td>50149389,50170929,50280728,50282182,50318632,5...</td>\n",
       "      <td>9378</td>\n",
       "      <td>NRXN1</td>\n",
       "      <td>NM_001330084</td>\n",
       "      <td>-</td>\n",
       "    </tr>\n",
       "    <tr>\n",
       "      <th>51</th>\n",
       "      <td>chr1</td>\n",
       "      <td>6845513,6880240,6885151,7151363,7309550,752788...</td>\n",
       "      <td>6845635,6880310,6885270,7151431,7309686,752796...</td>\n",
       "      <td>23261</td>\n",
       "      <td>CAMTA1</td>\n",
       "      <td>NM_001349609</td>\n",
       "      <td>+</td>\n",
       "    </tr>\n",
       "  </tbody>\n",
       "</table>\n",
       "</div>"
      ],
      "text/plain": [
       "   chrom                                         exonStarts  \\\n",
       "2   chrX  31137340,31144758,31152218,31164407,31165391,3...   \n",
       "26  chr7  69063460,69364271,69583117,69599521,69900737,7...   \n",
       "31  chrX  28605562,28807436,29301054,29414374,29417271,2...   \n",
       "44  chr2  50145642,50170841,50280408,50282092,50318460,5...   \n",
       "51  chr1  6845513,6880240,6885151,7151363,7309550,752788...   \n",
       "\n",
       "                                             exonEnds  GeneID     name2  \\\n",
       "2   31140047,31144790,31152311,31164531,31165635,3...    1756       DMD   \n",
       "26  69064948,69364484,69583219,69599557,69900767,7...   26053     AUTS2   \n",
       "31  28606164,28807542,29301334,29414561,29417425,2...   11141  IL1RAPL1   \n",
       "44  50149389,50170929,50280728,50282182,50318632,5...    9378     NRXN1   \n",
       "51  6845635,6880310,6885270,7151431,7309686,752796...   23261    CAMTA1   \n",
       "\n",
       "            name strand  \n",
       "2      NM_000109      -  \n",
       "26     NM_015570      +  \n",
       "31     NM_014271      +  \n",
       "44  NM_001330084      -  \n",
       "51  NM_001349609      +  "
      ]
     },
     "execution_count": 40,
     "metadata": {},
     "output_type": "execute_result"
    }
   ],
   "source": [
    "hi_exons.head()"
   ]
  },
  {
   "cell_type": "code",
   "execution_count": 41,
   "metadata": {},
   "outputs": [],
   "source": [
    "start = hi_exons['exonStarts'].str.split(',').apply(pd.Series).stack().reset_index()\n",
    "start = start.rename(columns={'level_0': 'row', 0: 'start'})[['row', 'start']]\n",
    "start['start'] = start['start'].astype(int)\n",
    "end = hi_exons['exonEnds'].str.split(',').apply(pd.Series).stack().reset_index()\n",
    "end = end.rename(columns={0: 'end'})['end'].astype(int)\n",
    "position = start.join(end)"
   ]
  },
  {
   "cell_type": "code",
   "execution_count": 42,
   "metadata": {},
   "outputs": [
    {
     "data": {
      "text/html": [
       "<div>\n",
       "<style scoped>\n",
       "    .dataframe tbody tr th:only-of-type {\n",
       "        vertical-align: middle;\n",
       "    }\n",
       "\n",
       "    .dataframe tbody tr th {\n",
       "        vertical-align: top;\n",
       "    }\n",
       "\n",
       "    .dataframe thead th {\n",
       "        text-align: right;\n",
       "    }\n",
       "</style>\n",
       "<table border=\"1\" class=\"dataframe\">\n",
       "  <thead>\n",
       "    <tr style=\"text-align: right;\">\n",
       "      <th></th>\n",
       "      <th>row</th>\n",
       "      <th>start</th>\n",
       "      <th>end</th>\n",
       "    </tr>\n",
       "  </thead>\n",
       "  <tbody>\n",
       "    <tr>\n",
       "      <th>0</th>\n",
       "      <td>2</td>\n",
       "      <td>31137340</td>\n",
       "      <td>31140047</td>\n",
       "    </tr>\n",
       "    <tr>\n",
       "      <th>1</th>\n",
       "      <td>2</td>\n",
       "      <td>31144758</td>\n",
       "      <td>31144790</td>\n",
       "    </tr>\n",
       "    <tr>\n",
       "      <th>2</th>\n",
       "      <td>2</td>\n",
       "      <td>31152218</td>\n",
       "      <td>31152311</td>\n",
       "    </tr>\n",
       "    <tr>\n",
       "      <th>3</th>\n",
       "      <td>2</td>\n",
       "      <td>31164407</td>\n",
       "      <td>31164531</td>\n",
       "    </tr>\n",
       "    <tr>\n",
       "      <th>4</th>\n",
       "      <td>2</td>\n",
       "      <td>31165391</td>\n",
       "      <td>31165635</td>\n",
       "    </tr>\n",
       "  </tbody>\n",
       "</table>\n",
       "</div>"
      ],
      "text/plain": [
       "   row     start       end\n",
       "0    2  31137340  31140047\n",
       "1    2  31144758  31144790\n",
       "2    2  31152218  31152311\n",
       "3    2  31164407  31164531\n",
       "4    2  31165391  31165635"
      ]
     },
     "execution_count": 42,
     "metadata": {},
     "output_type": "execute_result"
    }
   ],
   "source": [
    "position.head()"
   ]
  },
  {
   "cell_type": "code",
   "execution_count": 43,
   "metadata": {},
   "outputs": [],
   "source": [
    "exon = position.merge(\n",
    "    hi_exons[['chrom', 'GeneID', 'name2', 'name', 'strand']], how='left', left_on='row', right_index=True\n",
    ")\n",
    "exon = exon.sort_values(['chrom', 'start', 'end'])"
   ]
  },
  {
   "cell_type": "code",
   "execution_count": 44,
   "metadata": {},
   "outputs": [
    {
     "data": {
      "text/html": [
       "<div>\n",
       "<style scoped>\n",
       "    .dataframe tbody tr th:only-of-type {\n",
       "        vertical-align: middle;\n",
       "    }\n",
       "\n",
       "    .dataframe tbody tr th {\n",
       "        vertical-align: top;\n",
       "    }\n",
       "\n",
       "    .dataframe thead th {\n",
       "        text-align: right;\n",
       "    }\n",
       "</style>\n",
       "<table border=\"1\" class=\"dataframe\">\n",
       "  <thead>\n",
       "    <tr style=\"text-align: right;\">\n",
       "      <th></th>\n",
       "      <th>row</th>\n",
       "      <th>start</th>\n",
       "      <th>end</th>\n",
       "      <th>chrom</th>\n",
       "      <th>GeneID</th>\n",
       "      <th>name2</th>\n",
       "      <th>name</th>\n",
       "      <th>strand</th>\n",
       "    </tr>\n",
       "  </thead>\n",
       "  <tbody>\n",
       "    <tr>\n",
       "      <th>128</th>\n",
       "      <td>51</td>\n",
       "      <td>6845513</td>\n",
       "      <td>6845635</td>\n",
       "      <td>chr1</td>\n",
       "      <td>23261</td>\n",
       "      <td>CAMTA1</td>\n",
       "      <td>NM_001349609</td>\n",
       "      <td>+</td>\n",
       "    </tr>\n",
       "    <tr>\n",
       "      <th>129</th>\n",
       "      <td>51</td>\n",
       "      <td>6880240</td>\n",
       "      <td>6880310</td>\n",
       "      <td>chr1</td>\n",
       "      <td>23261</td>\n",
       "      <td>CAMTA1</td>\n",
       "      <td>NM_001349609</td>\n",
       "      <td>+</td>\n",
       "    </tr>\n",
       "    <tr>\n",
       "      <th>130</th>\n",
       "      <td>51</td>\n",
       "      <td>6885151</td>\n",
       "      <td>6885270</td>\n",
       "      <td>chr1</td>\n",
       "      <td>23261</td>\n",
       "      <td>CAMTA1</td>\n",
       "      <td>NM_001349609</td>\n",
       "      <td>+</td>\n",
       "    </tr>\n",
       "    <tr>\n",
       "      <th>131</th>\n",
       "      <td>51</td>\n",
       "      <td>7151363</td>\n",
       "      <td>7151431</td>\n",
       "      <td>chr1</td>\n",
       "      <td>23261</td>\n",
       "      <td>CAMTA1</td>\n",
       "      <td>NM_001349609</td>\n",
       "      <td>+</td>\n",
       "    </tr>\n",
       "    <tr>\n",
       "      <th>132</th>\n",
       "      <td>51</td>\n",
       "      <td>7309550</td>\n",
       "      <td>7309686</td>\n",
       "      <td>chr1</td>\n",
       "      <td>23261</td>\n",
       "      <td>CAMTA1</td>\n",
       "      <td>NM_001349609</td>\n",
       "      <td>+</td>\n",
       "    </tr>\n",
       "  </tbody>\n",
       "</table>\n",
       "</div>"
      ],
      "text/plain": [
       "     row    start      end chrom  GeneID   name2          name strand\n",
       "128   51  6845513  6845635  chr1   23261  CAMTA1  NM_001349609      +\n",
       "129   51  6880240  6880310  chr1   23261  CAMTA1  NM_001349609      +\n",
       "130   51  6885151  6885270  chr1   23261  CAMTA1  NM_001349609      +\n",
       "131   51  7151363  7151431  chr1   23261  CAMTA1  NM_001349609      +\n",
       "132   51  7309550  7309686  chr1   23261  CAMTA1  NM_001349609      +"
      ]
     },
     "execution_count": 44,
     "metadata": {},
     "output_type": "execute_result"
    }
   ],
   "source": [
    "exon.head()"
   ]
  },
  {
   "cell_type": "code",
   "execution_count": 45,
   "metadata": {},
   "outputs": [],
   "source": [
    "exon['+'] = exon.groupby(['name2', 'name'])['start'].rank('first', ascending=True).astype(int)\n",
    "exon['-'] = exon.groupby(['name2', 'name'])['start'].rank('first', ascending=False).astype(int)"
   ]
  },
  {
   "cell_type": "code",
   "execution_count": 46,
   "metadata": {},
   "outputs": [
    {
     "data": {
      "text/html": [
       "<div>\n",
       "<style scoped>\n",
       "    .dataframe tbody tr th:only-of-type {\n",
       "        vertical-align: middle;\n",
       "    }\n",
       "\n",
       "    .dataframe tbody tr th {\n",
       "        vertical-align: top;\n",
       "    }\n",
       "\n",
       "    .dataframe thead th {\n",
       "        text-align: right;\n",
       "    }\n",
       "</style>\n",
       "<table border=\"1\" class=\"dataframe\">\n",
       "  <thead>\n",
       "    <tr style=\"text-align: right;\">\n",
       "      <th></th>\n",
       "      <th>row</th>\n",
       "      <th>start</th>\n",
       "      <th>end</th>\n",
       "      <th>chrom</th>\n",
       "      <th>GeneID</th>\n",
       "      <th>name2</th>\n",
       "      <th>name</th>\n",
       "      <th>strand</th>\n",
       "      <th>+</th>\n",
       "      <th>-</th>\n",
       "    </tr>\n",
       "  </thead>\n",
       "  <tbody>\n",
       "    <tr>\n",
       "      <th>128</th>\n",
       "      <td>51</td>\n",
       "      <td>6845513</td>\n",
       "      <td>6845635</td>\n",
       "      <td>chr1</td>\n",
       "      <td>23261</td>\n",
       "      <td>CAMTA1</td>\n",
       "      <td>NM_001349609</td>\n",
       "      <td>+</td>\n",
       "      <td>1</td>\n",
       "      <td>23</td>\n",
       "    </tr>\n",
       "    <tr>\n",
       "      <th>129</th>\n",
       "      <td>51</td>\n",
       "      <td>6880240</td>\n",
       "      <td>6880310</td>\n",
       "      <td>chr1</td>\n",
       "      <td>23261</td>\n",
       "      <td>CAMTA1</td>\n",
       "      <td>NM_001349609</td>\n",
       "      <td>+</td>\n",
       "      <td>2</td>\n",
       "      <td>22</td>\n",
       "    </tr>\n",
       "    <tr>\n",
       "      <th>130</th>\n",
       "      <td>51</td>\n",
       "      <td>6885151</td>\n",
       "      <td>6885270</td>\n",
       "      <td>chr1</td>\n",
       "      <td>23261</td>\n",
       "      <td>CAMTA1</td>\n",
       "      <td>NM_001349609</td>\n",
       "      <td>+</td>\n",
       "      <td>3</td>\n",
       "      <td>21</td>\n",
       "    </tr>\n",
       "    <tr>\n",
       "      <th>131</th>\n",
       "      <td>51</td>\n",
       "      <td>7151363</td>\n",
       "      <td>7151431</td>\n",
       "      <td>chr1</td>\n",
       "      <td>23261</td>\n",
       "      <td>CAMTA1</td>\n",
       "      <td>NM_001349609</td>\n",
       "      <td>+</td>\n",
       "      <td>4</td>\n",
       "      <td>20</td>\n",
       "    </tr>\n",
       "    <tr>\n",
       "      <th>132</th>\n",
       "      <td>51</td>\n",
       "      <td>7309550</td>\n",
       "      <td>7309686</td>\n",
       "      <td>chr1</td>\n",
       "      <td>23261</td>\n",
       "      <td>CAMTA1</td>\n",
       "      <td>NM_001349609</td>\n",
       "      <td>+</td>\n",
       "      <td>5</td>\n",
       "      <td>19</td>\n",
       "    </tr>\n",
       "  </tbody>\n",
       "</table>\n",
       "</div>"
      ],
      "text/plain": [
       "     row    start      end chrom  GeneID   name2          name strand  +   -\n",
       "128   51  6845513  6845635  chr1   23261  CAMTA1  NM_001349609      +  1  23\n",
       "129   51  6880240  6880310  chr1   23261  CAMTA1  NM_001349609      +  2  22\n",
       "130   51  6885151  6885270  chr1   23261  CAMTA1  NM_001349609      +  3  21\n",
       "131   51  7151363  7151431  chr1   23261  CAMTA1  NM_001349609      +  4  20\n",
       "132   51  7309550  7309686  chr1   23261  CAMTA1  NM_001349609      +  5  19"
      ]
     },
     "execution_count": 46,
     "metadata": {},
     "output_type": "execute_result"
    }
   ],
   "source": [
    "exon.head()"
   ]
  },
  {
   "cell_type": "code",
   "execution_count": 47,
   "metadata": {},
   "outputs": [
    {
     "data": {
      "text/html": [
       "<div>\n",
       "<style scoped>\n",
       "    .dataframe tbody tr th:only-of-type {\n",
       "        vertical-align: middle;\n",
       "    }\n",
       "\n",
       "    .dataframe tbody tr th {\n",
       "        vertical-align: top;\n",
       "    }\n",
       "\n",
       "    .dataframe thead th {\n",
       "        text-align: right;\n",
       "    }\n",
       "</style>\n",
       "<table border=\"1\" class=\"dataframe\">\n",
       "  <thead>\n",
       "    <tr style=\"text-align: right;\">\n",
       "      <th></th>\n",
       "      <th>row</th>\n",
       "      <th>start</th>\n",
       "      <th>end</th>\n",
       "      <th>chrom</th>\n",
       "      <th>GeneID</th>\n",
       "      <th>name2</th>\n",
       "      <th>name</th>\n",
       "      <th>strand</th>\n",
       "      <th>+</th>\n",
       "      <th>-</th>\n",
       "    </tr>\n",
       "  </thead>\n",
       "  <tbody>\n",
       "    <tr>\n",
       "      <th>1520</th>\n",
       "      <td>1195</td>\n",
       "      <td>154227753</td>\n",
       "      <td>154227875</td>\n",
       "      <td>chrX</td>\n",
       "      <td>2157</td>\n",
       "      <td>F8</td>\n",
       "      <td>NM_000132</td>\n",
       "      <td>-</td>\n",
       "      <td>25</td>\n",
       "      <td>2</td>\n",
       "    </tr>\n",
       "    <tr>\n",
       "      <th>1521</th>\n",
       "      <td>1195</td>\n",
       "      <td>154250684</td>\n",
       "      <td>154250998</td>\n",
       "      <td>chrX</td>\n",
       "      <td>2157</td>\n",
       "      <td>F8</td>\n",
       "      <td>NM_000132</td>\n",
       "      <td>-</td>\n",
       "      <td>26</td>\n",
       "      <td>1</td>\n",
       "    </tr>\n",
       "    <tr>\n",
       "      <th>5077</th>\n",
       "      <td>15481</td>\n",
       "      <td>154487519</td>\n",
       "      <td>154490514</td>\n",
       "      <td>chrX</td>\n",
       "      <td>116442</td>\n",
       "      <td>RAB39B</td>\n",
       "      <td>NM_171998</td>\n",
       "      <td>-</td>\n",
       "      <td>1</td>\n",
       "      <td>2</td>\n",
       "    </tr>\n",
       "    <tr>\n",
       "      <th>5078</th>\n",
       "      <td>15481</td>\n",
       "      <td>154493358</td>\n",
       "      <td>154493776</td>\n",
       "      <td>chrX</td>\n",
       "      <td>116442</td>\n",
       "      <td>RAB39B</td>\n",
       "      <td>NM_171998</td>\n",
       "      <td>-</td>\n",
       "      <td>2</td>\n",
       "      <td>1</td>\n",
       "    </tr>\n",
       "    <tr>\n",
       "      <th>5126</th>\n",
       "      <td>18757</td>\n",
       "      <td>2654895</td>\n",
       "      <td>2655723</td>\n",
       "      <td>chrY</td>\n",
       "      <td>6736</td>\n",
       "      <td>SRY</td>\n",
       "      <td>NM_003140</td>\n",
       "      <td>-</td>\n",
       "      <td>1</td>\n",
       "      <td>1</td>\n",
       "    </tr>\n",
       "  </tbody>\n",
       "</table>\n",
       "</div>"
      ],
      "text/plain": [
       "        row      start        end chrom  GeneID   name2       name strand   +  \\\n",
       "1520   1195  154227753  154227875  chrX    2157      F8  NM_000132      -  25   \n",
       "1521   1195  154250684  154250998  chrX    2157      F8  NM_000132      -  26   \n",
       "5077  15481  154487519  154490514  chrX  116442  RAB39B  NM_171998      -   1   \n",
       "5078  15481  154493358  154493776  chrX  116442  RAB39B  NM_171998      -   2   \n",
       "5126  18757    2654895    2655723  chrY    6736     SRY  NM_003140      -   1   \n",
       "\n",
       "      -  \n",
       "1520  2  \n",
       "1521  1  \n",
       "5077  2  \n",
       "5078  1  \n",
       "5126  1  "
      ]
     },
     "execution_count": 47,
     "metadata": {},
     "output_type": "execute_result"
    }
   ],
   "source": [
    "exon.tail()"
   ]
  },
  {
   "cell_type": "code",
   "execution_count": 48,
   "metadata": {},
   "outputs": [],
   "source": [
    "exon['exon'] = pd.concat([exon.loc[exon['strand'] == '+', '+'], exon.loc[exon['strand'] == '-', '-']])"
   ]
  },
  {
   "cell_type": "code",
   "execution_count": 49,
   "metadata": {},
   "outputs": [
    {
     "data": {
      "text/html": [
       "<div>\n",
       "<style scoped>\n",
       "    .dataframe tbody tr th:only-of-type {\n",
       "        vertical-align: middle;\n",
       "    }\n",
       "\n",
       "    .dataframe tbody tr th {\n",
       "        vertical-align: top;\n",
       "    }\n",
       "\n",
       "    .dataframe thead th {\n",
       "        text-align: right;\n",
       "    }\n",
       "</style>\n",
       "<table border=\"1\" class=\"dataframe\">\n",
       "  <thead>\n",
       "    <tr style=\"text-align: right;\">\n",
       "      <th></th>\n",
       "      <th>row</th>\n",
       "      <th>start</th>\n",
       "      <th>end</th>\n",
       "      <th>chrom</th>\n",
       "      <th>GeneID</th>\n",
       "      <th>name2</th>\n",
       "      <th>name</th>\n",
       "      <th>strand</th>\n",
       "      <th>+</th>\n",
       "      <th>-</th>\n",
       "      <th>exon</th>\n",
       "    </tr>\n",
       "  </thead>\n",
       "  <tbody>\n",
       "    <tr>\n",
       "      <th>128</th>\n",
       "      <td>51</td>\n",
       "      <td>6845513</td>\n",
       "      <td>6845635</td>\n",
       "      <td>chr1</td>\n",
       "      <td>23261</td>\n",
       "      <td>CAMTA1</td>\n",
       "      <td>NM_001349609</td>\n",
       "      <td>+</td>\n",
       "      <td>1</td>\n",
       "      <td>23</td>\n",
       "      <td>1</td>\n",
       "    </tr>\n",
       "    <tr>\n",
       "      <th>129</th>\n",
       "      <td>51</td>\n",
       "      <td>6880240</td>\n",
       "      <td>6880310</td>\n",
       "      <td>chr1</td>\n",
       "      <td>23261</td>\n",
       "      <td>CAMTA1</td>\n",
       "      <td>NM_001349609</td>\n",
       "      <td>+</td>\n",
       "      <td>2</td>\n",
       "      <td>22</td>\n",
       "      <td>2</td>\n",
       "    </tr>\n",
       "    <tr>\n",
       "      <th>130</th>\n",
       "      <td>51</td>\n",
       "      <td>6885151</td>\n",
       "      <td>6885270</td>\n",
       "      <td>chr1</td>\n",
       "      <td>23261</td>\n",
       "      <td>CAMTA1</td>\n",
       "      <td>NM_001349609</td>\n",
       "      <td>+</td>\n",
       "      <td>3</td>\n",
       "      <td>21</td>\n",
       "      <td>3</td>\n",
       "    </tr>\n",
       "    <tr>\n",
       "      <th>131</th>\n",
       "      <td>51</td>\n",
       "      <td>7151363</td>\n",
       "      <td>7151431</td>\n",
       "      <td>chr1</td>\n",
       "      <td>23261</td>\n",
       "      <td>CAMTA1</td>\n",
       "      <td>NM_001349609</td>\n",
       "      <td>+</td>\n",
       "      <td>4</td>\n",
       "      <td>20</td>\n",
       "      <td>4</td>\n",
       "    </tr>\n",
       "    <tr>\n",
       "      <th>132</th>\n",
       "      <td>51</td>\n",
       "      <td>7309550</td>\n",
       "      <td>7309686</td>\n",
       "      <td>chr1</td>\n",
       "      <td>23261</td>\n",
       "      <td>CAMTA1</td>\n",
       "      <td>NM_001349609</td>\n",
       "      <td>+</td>\n",
       "      <td>5</td>\n",
       "      <td>19</td>\n",
       "      <td>5</td>\n",
       "    </tr>\n",
       "  </tbody>\n",
       "</table>\n",
       "</div>"
      ],
      "text/plain": [
       "     row    start      end chrom  GeneID   name2          name strand  +   -  \\\n",
       "128   51  6845513  6845635  chr1   23261  CAMTA1  NM_001349609      +  1  23   \n",
       "129   51  6880240  6880310  chr1   23261  CAMTA1  NM_001349609      +  2  22   \n",
       "130   51  6885151  6885270  chr1   23261  CAMTA1  NM_001349609      +  3  21   \n",
       "131   51  7151363  7151431  chr1   23261  CAMTA1  NM_001349609      +  4  20   \n",
       "132   51  7309550  7309686  chr1   23261  CAMTA1  NM_001349609      +  5  19   \n",
       "\n",
       "     exon  \n",
       "128     1  \n",
       "129     2  \n",
       "130     3  \n",
       "131     4  \n",
       "132     5  "
      ]
     },
     "execution_count": 49,
     "metadata": {},
     "output_type": "execute_result"
    }
   ],
   "source": [
    "exon.head()"
   ]
  },
  {
   "cell_type": "code",
   "execution_count": 50,
   "metadata": {},
   "outputs": [
    {
     "data": {
      "text/html": [
       "<div>\n",
       "<style scoped>\n",
       "    .dataframe tbody tr th:only-of-type {\n",
       "        vertical-align: middle;\n",
       "    }\n",
       "\n",
       "    .dataframe tbody tr th {\n",
       "        vertical-align: top;\n",
       "    }\n",
       "\n",
       "    .dataframe thead th {\n",
       "        text-align: right;\n",
       "    }\n",
       "</style>\n",
       "<table border=\"1\" class=\"dataframe\">\n",
       "  <thead>\n",
       "    <tr style=\"text-align: right;\">\n",
       "      <th></th>\n",
       "      <th>row</th>\n",
       "      <th>start</th>\n",
       "      <th>end</th>\n",
       "      <th>chrom</th>\n",
       "      <th>GeneID</th>\n",
       "      <th>name2</th>\n",
       "      <th>name</th>\n",
       "      <th>strand</th>\n",
       "      <th>+</th>\n",
       "      <th>-</th>\n",
       "      <th>exon</th>\n",
       "    </tr>\n",
       "  </thead>\n",
       "  <tbody>\n",
       "    <tr>\n",
       "      <th>1520</th>\n",
       "      <td>1195</td>\n",
       "      <td>154227753</td>\n",
       "      <td>154227875</td>\n",
       "      <td>chrX</td>\n",
       "      <td>2157</td>\n",
       "      <td>F8</td>\n",
       "      <td>NM_000132</td>\n",
       "      <td>-</td>\n",
       "      <td>25</td>\n",
       "      <td>2</td>\n",
       "      <td>2</td>\n",
       "    </tr>\n",
       "    <tr>\n",
       "      <th>1521</th>\n",
       "      <td>1195</td>\n",
       "      <td>154250684</td>\n",
       "      <td>154250998</td>\n",
       "      <td>chrX</td>\n",
       "      <td>2157</td>\n",
       "      <td>F8</td>\n",
       "      <td>NM_000132</td>\n",
       "      <td>-</td>\n",
       "      <td>26</td>\n",
       "      <td>1</td>\n",
       "      <td>1</td>\n",
       "    </tr>\n",
       "    <tr>\n",
       "      <th>5077</th>\n",
       "      <td>15481</td>\n",
       "      <td>154487519</td>\n",
       "      <td>154490514</td>\n",
       "      <td>chrX</td>\n",
       "      <td>116442</td>\n",
       "      <td>RAB39B</td>\n",
       "      <td>NM_171998</td>\n",
       "      <td>-</td>\n",
       "      <td>1</td>\n",
       "      <td>2</td>\n",
       "      <td>2</td>\n",
       "    </tr>\n",
       "    <tr>\n",
       "      <th>5078</th>\n",
       "      <td>15481</td>\n",
       "      <td>154493358</td>\n",
       "      <td>154493776</td>\n",
       "      <td>chrX</td>\n",
       "      <td>116442</td>\n",
       "      <td>RAB39B</td>\n",
       "      <td>NM_171998</td>\n",
       "      <td>-</td>\n",
       "      <td>2</td>\n",
       "      <td>1</td>\n",
       "      <td>1</td>\n",
       "    </tr>\n",
       "    <tr>\n",
       "      <th>5126</th>\n",
       "      <td>18757</td>\n",
       "      <td>2654895</td>\n",
       "      <td>2655723</td>\n",
       "      <td>chrY</td>\n",
       "      <td>6736</td>\n",
       "      <td>SRY</td>\n",
       "      <td>NM_003140</td>\n",
       "      <td>-</td>\n",
       "      <td>1</td>\n",
       "      <td>1</td>\n",
       "      <td>1</td>\n",
       "    </tr>\n",
       "  </tbody>\n",
       "</table>\n",
       "</div>"
      ],
      "text/plain": [
       "        row      start        end chrom  GeneID   name2       name strand   +  \\\n",
       "1520   1195  154227753  154227875  chrX    2157      F8  NM_000132      -  25   \n",
       "1521   1195  154250684  154250998  chrX    2157      F8  NM_000132      -  26   \n",
       "5077  15481  154487519  154490514  chrX  116442  RAB39B  NM_171998      -   1   \n",
       "5078  15481  154493358  154493776  chrX  116442  RAB39B  NM_171998      -   2   \n",
       "5126  18757    2654895    2655723  chrY    6736     SRY  NM_003140      -   1   \n",
       "\n",
       "      -  exon  \n",
       "1520  2     2  \n",
       "1521  1     1  \n",
       "5077  2     2  \n",
       "5078  1     1  \n",
       "5126  1     1  "
      ]
     },
     "execution_count": 50,
     "metadata": {},
     "output_type": "execute_result"
    }
   ],
   "source": [
    "exon.tail()"
   ]
  },
  {
   "cell_type": "code",
   "execution_count": 51,
   "metadata": {},
   "outputs": [],
   "source": [
    "exon['last_exon'] = exon.groupby(['name2', 'name'])['exon'].transform('max') == exon['exon']"
   ]
  },
  {
   "cell_type": "code",
   "execution_count": 52,
   "metadata": {},
   "outputs": [
    {
     "data": {
      "text/html": [
       "<div>\n",
       "<style scoped>\n",
       "    .dataframe tbody tr th:only-of-type {\n",
       "        vertical-align: middle;\n",
       "    }\n",
       "\n",
       "    .dataframe tbody tr th {\n",
       "        vertical-align: top;\n",
       "    }\n",
       "\n",
       "    .dataframe thead th {\n",
       "        text-align: right;\n",
       "    }\n",
       "</style>\n",
       "<table border=\"1\" class=\"dataframe\">\n",
       "  <thead>\n",
       "    <tr style=\"text-align: right;\">\n",
       "      <th></th>\n",
       "      <th>row</th>\n",
       "      <th>start</th>\n",
       "      <th>end</th>\n",
       "      <th>chrom</th>\n",
       "      <th>GeneID</th>\n",
       "      <th>name2</th>\n",
       "      <th>name</th>\n",
       "      <th>strand</th>\n",
       "      <th>+</th>\n",
       "      <th>-</th>\n",
       "      <th>exon</th>\n",
       "      <th>last_exon</th>\n",
       "    </tr>\n",
       "  </thead>\n",
       "  <tbody>\n",
       "    <tr>\n",
       "      <th>128</th>\n",
       "      <td>51</td>\n",
       "      <td>6845513</td>\n",
       "      <td>6845635</td>\n",
       "      <td>chr1</td>\n",
       "      <td>23261</td>\n",
       "      <td>CAMTA1</td>\n",
       "      <td>NM_001349609</td>\n",
       "      <td>+</td>\n",
       "      <td>1</td>\n",
       "      <td>23</td>\n",
       "      <td>1</td>\n",
       "      <td>False</td>\n",
       "    </tr>\n",
       "    <tr>\n",
       "      <th>129</th>\n",
       "      <td>51</td>\n",
       "      <td>6880240</td>\n",
       "      <td>6880310</td>\n",
       "      <td>chr1</td>\n",
       "      <td>23261</td>\n",
       "      <td>CAMTA1</td>\n",
       "      <td>NM_001349609</td>\n",
       "      <td>+</td>\n",
       "      <td>2</td>\n",
       "      <td>22</td>\n",
       "      <td>2</td>\n",
       "      <td>False</td>\n",
       "    </tr>\n",
       "    <tr>\n",
       "      <th>130</th>\n",
       "      <td>51</td>\n",
       "      <td>6885151</td>\n",
       "      <td>6885270</td>\n",
       "      <td>chr1</td>\n",
       "      <td>23261</td>\n",
       "      <td>CAMTA1</td>\n",
       "      <td>NM_001349609</td>\n",
       "      <td>+</td>\n",
       "      <td>3</td>\n",
       "      <td>21</td>\n",
       "      <td>3</td>\n",
       "      <td>False</td>\n",
       "    </tr>\n",
       "    <tr>\n",
       "      <th>131</th>\n",
       "      <td>51</td>\n",
       "      <td>7151363</td>\n",
       "      <td>7151431</td>\n",
       "      <td>chr1</td>\n",
       "      <td>23261</td>\n",
       "      <td>CAMTA1</td>\n",
       "      <td>NM_001349609</td>\n",
       "      <td>+</td>\n",
       "      <td>4</td>\n",
       "      <td>20</td>\n",
       "      <td>4</td>\n",
       "      <td>False</td>\n",
       "    </tr>\n",
       "    <tr>\n",
       "      <th>132</th>\n",
       "      <td>51</td>\n",
       "      <td>7309550</td>\n",
       "      <td>7309686</td>\n",
       "      <td>chr1</td>\n",
       "      <td>23261</td>\n",
       "      <td>CAMTA1</td>\n",
       "      <td>NM_001349609</td>\n",
       "      <td>+</td>\n",
       "      <td>5</td>\n",
       "      <td>19</td>\n",
       "      <td>5</td>\n",
       "      <td>False</td>\n",
       "    </tr>\n",
       "  </tbody>\n",
       "</table>\n",
       "</div>"
      ],
      "text/plain": [
       "     row    start      end chrom  GeneID   name2          name strand  +   -  \\\n",
       "128   51  6845513  6845635  chr1   23261  CAMTA1  NM_001349609      +  1  23   \n",
       "129   51  6880240  6880310  chr1   23261  CAMTA1  NM_001349609      +  2  22   \n",
       "130   51  6885151  6885270  chr1   23261  CAMTA1  NM_001349609      +  3  21   \n",
       "131   51  7151363  7151431  chr1   23261  CAMTA1  NM_001349609      +  4  20   \n",
       "132   51  7309550  7309686  chr1   23261  CAMTA1  NM_001349609      +  5  19   \n",
       "\n",
       "     exon  last_exon  \n",
       "128     1      False  \n",
       "129     2      False  \n",
       "130     3      False  \n",
       "131     4      False  \n",
       "132     5      False  "
      ]
     },
     "execution_count": 52,
     "metadata": {},
     "output_type": "execute_result"
    }
   ],
   "source": [
    "exon.head()"
   ]
  },
  {
   "cell_type": "code",
   "execution_count": 53,
   "metadata": {},
   "outputs": [
    {
     "data": {
      "text/html": [
       "<div>\n",
       "<style scoped>\n",
       "    .dataframe tbody tr th:only-of-type {\n",
       "        vertical-align: middle;\n",
       "    }\n",
       "\n",
       "    .dataframe tbody tr th {\n",
       "        vertical-align: top;\n",
       "    }\n",
       "\n",
       "    .dataframe thead th {\n",
       "        text-align: right;\n",
       "    }\n",
       "</style>\n",
       "<table border=\"1\" class=\"dataframe\">\n",
       "  <thead>\n",
       "    <tr style=\"text-align: right;\">\n",
       "      <th></th>\n",
       "      <th>row</th>\n",
       "      <th>start</th>\n",
       "      <th>end</th>\n",
       "      <th>chrom</th>\n",
       "      <th>GeneID</th>\n",
       "      <th>name2</th>\n",
       "      <th>name</th>\n",
       "      <th>strand</th>\n",
       "      <th>+</th>\n",
       "      <th>-</th>\n",
       "      <th>exon</th>\n",
       "      <th>last_exon</th>\n",
       "    </tr>\n",
       "  </thead>\n",
       "  <tbody>\n",
       "    <tr>\n",
       "      <th>1520</th>\n",
       "      <td>1195</td>\n",
       "      <td>154227753</td>\n",
       "      <td>154227875</td>\n",
       "      <td>chrX</td>\n",
       "      <td>2157</td>\n",
       "      <td>F8</td>\n",
       "      <td>NM_000132</td>\n",
       "      <td>-</td>\n",
       "      <td>25</td>\n",
       "      <td>2</td>\n",
       "      <td>2</td>\n",
       "      <td>False</td>\n",
       "    </tr>\n",
       "    <tr>\n",
       "      <th>1521</th>\n",
       "      <td>1195</td>\n",
       "      <td>154250684</td>\n",
       "      <td>154250998</td>\n",
       "      <td>chrX</td>\n",
       "      <td>2157</td>\n",
       "      <td>F8</td>\n",
       "      <td>NM_000132</td>\n",
       "      <td>-</td>\n",
       "      <td>26</td>\n",
       "      <td>1</td>\n",
       "      <td>1</td>\n",
       "      <td>False</td>\n",
       "    </tr>\n",
       "    <tr>\n",
       "      <th>5077</th>\n",
       "      <td>15481</td>\n",
       "      <td>154487519</td>\n",
       "      <td>154490514</td>\n",
       "      <td>chrX</td>\n",
       "      <td>116442</td>\n",
       "      <td>RAB39B</td>\n",
       "      <td>NM_171998</td>\n",
       "      <td>-</td>\n",
       "      <td>1</td>\n",
       "      <td>2</td>\n",
       "      <td>2</td>\n",
       "      <td>True</td>\n",
       "    </tr>\n",
       "    <tr>\n",
       "      <th>5078</th>\n",
       "      <td>15481</td>\n",
       "      <td>154493358</td>\n",
       "      <td>154493776</td>\n",
       "      <td>chrX</td>\n",
       "      <td>116442</td>\n",
       "      <td>RAB39B</td>\n",
       "      <td>NM_171998</td>\n",
       "      <td>-</td>\n",
       "      <td>2</td>\n",
       "      <td>1</td>\n",
       "      <td>1</td>\n",
       "      <td>False</td>\n",
       "    </tr>\n",
       "    <tr>\n",
       "      <th>5126</th>\n",
       "      <td>18757</td>\n",
       "      <td>2654895</td>\n",
       "      <td>2655723</td>\n",
       "      <td>chrY</td>\n",
       "      <td>6736</td>\n",
       "      <td>SRY</td>\n",
       "      <td>NM_003140</td>\n",
       "      <td>-</td>\n",
       "      <td>1</td>\n",
       "      <td>1</td>\n",
       "      <td>1</td>\n",
       "      <td>True</td>\n",
       "    </tr>\n",
       "  </tbody>\n",
       "</table>\n",
       "</div>"
      ],
      "text/plain": [
       "        row      start        end chrom  GeneID   name2       name strand   +  \\\n",
       "1520   1195  154227753  154227875  chrX    2157      F8  NM_000132      -  25   \n",
       "1521   1195  154250684  154250998  chrX    2157      F8  NM_000132      -  26   \n",
       "5077  15481  154487519  154490514  chrX  116442  RAB39B  NM_171998      -   1   \n",
       "5078  15481  154493358  154493776  chrX  116442  RAB39B  NM_171998      -   2   \n",
       "5126  18757    2654895    2655723  chrY    6736     SRY  NM_003140      -   1   \n",
       "\n",
       "      -  exon  last_exon  \n",
       "1520  2     2      False  \n",
       "1521  1     1      False  \n",
       "5077  2     2       True  \n",
       "5078  1     1      False  \n",
       "5126  1     1       True  "
      ]
     },
     "execution_count": 53,
     "metadata": {},
     "output_type": "execute_result"
    }
   ],
   "source": [
    "exon.tail()"
   ]
  },
  {
   "cell_type": "code",
   "execution_count": 54,
   "metadata": {},
   "outputs": [],
   "source": [
    "exon = exon[\n",
    "    ['chrom', 'start', 'end', 'GeneID', 'name2', 'name', 'exon', 'last_exon']\n",
    "].sort_values(['chrom', 'start', 'end'])"
   ]
  },
  {
   "cell_type": "code",
   "execution_count": 55,
   "metadata": {},
   "outputs": [
    {
     "data": {
      "text/html": [
       "<div>\n",
       "<style scoped>\n",
       "    .dataframe tbody tr th:only-of-type {\n",
       "        vertical-align: middle;\n",
       "    }\n",
       "\n",
       "    .dataframe tbody tr th {\n",
       "        vertical-align: top;\n",
       "    }\n",
       "\n",
       "    .dataframe thead th {\n",
       "        text-align: right;\n",
       "    }\n",
       "</style>\n",
       "<table border=\"1\" class=\"dataframe\">\n",
       "  <thead>\n",
       "    <tr style=\"text-align: right;\">\n",
       "      <th></th>\n",
       "      <th>chrom</th>\n",
       "      <th>start</th>\n",
       "      <th>end</th>\n",
       "      <th>GeneID</th>\n",
       "      <th>name2</th>\n",
       "      <th>name</th>\n",
       "      <th>exon</th>\n",
       "      <th>last_exon</th>\n",
       "    </tr>\n",
       "  </thead>\n",
       "  <tbody>\n",
       "    <tr>\n",
       "      <th>128</th>\n",
       "      <td>chr1</td>\n",
       "      <td>6845513</td>\n",
       "      <td>6845635</td>\n",
       "      <td>23261</td>\n",
       "      <td>CAMTA1</td>\n",
       "      <td>NM_001349609</td>\n",
       "      <td>1</td>\n",
       "      <td>False</td>\n",
       "    </tr>\n",
       "    <tr>\n",
       "      <th>129</th>\n",
       "      <td>chr1</td>\n",
       "      <td>6880240</td>\n",
       "      <td>6880310</td>\n",
       "      <td>23261</td>\n",
       "      <td>CAMTA1</td>\n",
       "      <td>NM_001349609</td>\n",
       "      <td>2</td>\n",
       "      <td>False</td>\n",
       "    </tr>\n",
       "    <tr>\n",
       "      <th>130</th>\n",
       "      <td>chr1</td>\n",
       "      <td>6885151</td>\n",
       "      <td>6885270</td>\n",
       "      <td>23261</td>\n",
       "      <td>CAMTA1</td>\n",
       "      <td>NM_001349609</td>\n",
       "      <td>3</td>\n",
       "      <td>False</td>\n",
       "    </tr>\n",
       "    <tr>\n",
       "      <th>131</th>\n",
       "      <td>chr1</td>\n",
       "      <td>7151363</td>\n",
       "      <td>7151431</td>\n",
       "      <td>23261</td>\n",
       "      <td>CAMTA1</td>\n",
       "      <td>NM_001349609</td>\n",
       "      <td>4</td>\n",
       "      <td>False</td>\n",
       "    </tr>\n",
       "    <tr>\n",
       "      <th>132</th>\n",
       "      <td>chr1</td>\n",
       "      <td>7309550</td>\n",
       "      <td>7309686</td>\n",
       "      <td>23261</td>\n",
       "      <td>CAMTA1</td>\n",
       "      <td>NM_001349609</td>\n",
       "      <td>5</td>\n",
       "      <td>False</td>\n",
       "    </tr>\n",
       "  </tbody>\n",
       "</table>\n",
       "</div>"
      ],
      "text/plain": [
       "    chrom    start      end  GeneID   name2          name  exon  last_exon\n",
       "128  chr1  6845513  6845635   23261  CAMTA1  NM_001349609     1      False\n",
       "129  chr1  6880240  6880310   23261  CAMTA1  NM_001349609     2      False\n",
       "130  chr1  6885151  6885270   23261  CAMTA1  NM_001349609     3      False\n",
       "131  chr1  7151363  7151431   23261  CAMTA1  NM_001349609     4      False\n",
       "132  chr1  7309550  7309686   23261  CAMTA1  NM_001349609     5      False"
      ]
     },
     "execution_count": 55,
     "metadata": {},
     "output_type": "execute_result"
    }
   ],
   "source": [
    "exon.head()"
   ]
  },
  {
   "cell_type": "code",
   "execution_count": 56,
   "metadata": {},
   "outputs": [],
   "source": [
    "exon.rename(columns={\n",
    "    'chrom': '#chrom',\n",
    "    'GeneID': 'gene_id', 'name2': 'symbol', 'name': 'transcript'\n",
    "}).to_csv(hi_exon_file, index=False, sep='\\t')"
   ]
  },
  {
   "cell_type": "code",
   "execution_count": 57,
   "metadata": {},
   "outputs": [],
   "source": [
    "!bgzip -cf {hi_exon_file} > {hi_exon_file}.gz"
   ]
  },
  {
   "cell_type": "code",
   "execution_count": 58,
   "metadata": {},
   "outputs": [],
   "source": [
    "!tabix -fp bed {hi_exon_file}.gz\n",
    "!rm {hi_exon_file}"
   ]
  },
  {
   "cell_type": "code",
   "execution_count": 59,
   "metadata": {},
   "outputs": [],
   "source": [
    "last_exon = exon[exon['last_exon']]"
   ]
  },
  {
   "cell_type": "code",
   "execution_count": 60,
   "metadata": {},
   "outputs": [
    {
     "data": {
      "text/html": [
       "<div>\n",
       "<style scoped>\n",
       "    .dataframe tbody tr th:only-of-type {\n",
       "        vertical-align: middle;\n",
       "    }\n",
       "\n",
       "    .dataframe tbody tr th {\n",
       "        vertical-align: top;\n",
       "    }\n",
       "\n",
       "    .dataframe thead th {\n",
       "        text-align: right;\n",
       "    }\n",
       "</style>\n",
       "<table border=\"1\" class=\"dataframe\">\n",
       "  <thead>\n",
       "    <tr style=\"text-align: right;\">\n",
       "      <th></th>\n",
       "      <th>chrom</th>\n",
       "      <th>start</th>\n",
       "      <th>end</th>\n",
       "      <th>GeneID</th>\n",
       "      <th>name2</th>\n",
       "      <th>name</th>\n",
       "      <th>exon</th>\n",
       "      <th>last_exon</th>\n",
       "    </tr>\n",
       "  </thead>\n",
       "  <tbody>\n",
       "    <tr>\n",
       "      <th>150</th>\n",
       "      <td>chr1</td>\n",
       "      <td>7826518</td>\n",
       "      <td>7829766</td>\n",
       "      <td>23261</td>\n",
       "      <td>CAMTA1</td>\n",
       "      <td>NM_001349609</td>\n",
       "      <td>23</td>\n",
       "      <td>True</td>\n",
       "    </tr>\n",
       "    <tr>\n",
       "      <th>3882</th>\n",
       "      <td>chr1</td>\n",
       "      <td>17345220</td>\n",
       "      <td>17345453</td>\n",
       "      <td>6390</td>\n",
       "      <td>SDHB</td>\n",
       "      <td>NM_003000</td>\n",
       "      <td>8</td>\n",
       "      <td>True</td>\n",
       "    </tr>\n",
       "    <tr>\n",
       "      <th>2565</th>\n",
       "      <td>chr1</td>\n",
       "      <td>27105513</td>\n",
       "      <td>27108595</td>\n",
       "      <td>8289</td>\n",
       "      <td>ARID1A</td>\n",
       "      <td>NM_139135</td>\n",
       "      <td>20</td>\n",
       "      <td>True</td>\n",
       "    </tr>\n",
       "    <tr>\n",
       "      <th>5029</th>\n",
       "      <td>chr1</td>\n",
       "      <td>27860755</td>\n",
       "      <td>27861427</td>\n",
       "      <td>27245</td>\n",
       "      <td>AHDC1</td>\n",
       "      <td>NM_001371928</td>\n",
       "      <td>9</td>\n",
       "      <td>True</td>\n",
       "    </tr>\n",
       "    <tr>\n",
       "      <th>4072</th>\n",
       "      <td>chr1</td>\n",
       "      <td>43391025</td>\n",
       "      <td>43392912</td>\n",
       "      <td>6513</td>\n",
       "      <td>SLC2A1</td>\n",
       "      <td>NM_006516</td>\n",
       "      <td>10</td>\n",
       "      <td>True</td>\n",
       "    </tr>\n",
       "  </tbody>\n",
       "</table>\n",
       "</div>"
      ],
      "text/plain": [
       "     chrom     start       end  GeneID   name2          name  exon  last_exon\n",
       "150   chr1   7826518   7829766   23261  CAMTA1  NM_001349609    23       True\n",
       "3882  chr1  17345220  17345453    6390    SDHB     NM_003000     8       True\n",
       "2565  chr1  27105513  27108595    8289  ARID1A     NM_139135    20       True\n",
       "5029  chr1  27860755  27861427   27245   AHDC1  NM_001371928     9       True\n",
       "4072  chr1  43391025  43392912    6513  SLC2A1     NM_006516    10       True"
      ]
     },
     "execution_count": 60,
     "metadata": {},
     "output_type": "execute_result"
    }
   ],
   "source": [
    "last_exon.head()"
   ]
  },
  {
   "cell_type": "code",
   "execution_count": 61,
   "metadata": {},
   "outputs": [],
   "source": [
    "last_exon_region = last_exon['chrom'] + ':' + last_exon['start'].astype(str) + '-' + last_exon['end'].astype(str)\n",
    "last_exon_region = last_exon_region.str.replace('chr', '')"
   ]
  },
  {
   "cell_type": "code",
   "execution_count": 62,
   "metadata": {},
   "outputs": [
    {
     "data": {
      "text/plain": [
       "150       1:7826518-7829766\n",
       "3882    1:17345220-17345453\n",
       "2565    1:27105513-27108595\n",
       "5029    1:27860755-27861427\n",
       "4072    1:43391025-43392912\n",
       "dtype: object"
      ]
     },
     "execution_count": 62,
     "metadata": {},
     "output_type": "execute_result"
    }
   ],
   "source": [
    "last_exon_region.head()"
   ]
  },
  {
   "cell_type": "code",
   "execution_count": 67,
   "metadata": {},
   "outputs": [],
   "source": [
    "need_fields = [\n",
    "    'variants/CHROM', 'variants/POS', 'variants/REF', 'variants/ALT',\n",
    "    'variants/AF_ESP', 'variants/AF_EXAC', 'variants/AF_TGP', 'variants/CLNSIG'\n",
    "]"
   ]
  },
  {
   "cell_type": "code",
   "execution_count": 76,
   "metadata": {},
   "outputs": [],
   "source": [
    "!tabix -f {clinvar_ori_vcf_file}"
   ]
  },
  {
   "cell_type": "code",
   "execution_count": 79,
   "metadata": {},
   "outputs": [
    {
     "ename": "KeyboardInterrupt",
     "evalue": "",
     "output_type": "error",
     "traceback": [
      "\u001b[0;31m---------------------------------------------------------------------------\u001b[0m",
      "\u001b[0;31mKeyboardInterrupt\u001b[0m                         Traceback (most recent call last)",
      "\u001b[0;32m<ipython-input-81-72dcd804b939>\u001b[0m in \u001b[0;36m<module>\u001b[0;34m\u001b[0m\n\u001b[1;32m     31\u001b[0m \u001b[0;34m\u001b[0m\u001b[0m\n\u001b[1;32m     32\u001b[0m     \u001b[0;32mwith\u001b[0m \u001b[0mPool\u001b[0m\u001b[0;34m(\u001b[0m\u001b[0mprocesses\u001b[0m\u001b[0;34m=\u001b[0m\u001b[0;36m7\u001b[0m\u001b[0;34m)\u001b[0m \u001b[0;32mas\u001b[0m \u001b[0mpool\u001b[0m\u001b[0;34m:\u001b[0m\u001b[0;34m\u001b[0m\u001b[0;34m\u001b[0m\u001b[0m\n\u001b[0;32m---> 33\u001b[0;31m         \u001b[0mvariants\u001b[0m \u001b[0;34m=\u001b[0m \u001b[0mpool\u001b[0m\u001b[0;34m.\u001b[0m\u001b[0mmap\u001b[0m\u001b[0;34m(\u001b[0m\u001b[0mfetch_variants\u001b[0m\u001b[0;34m,\u001b[0m \u001b[0mlast_exon_region\u001b[0m\u001b[0;34m)\u001b[0m\u001b[0;34m\u001b[0m\u001b[0;34m\u001b[0m\u001b[0m\n\u001b[0m\u001b[1;32m     34\u001b[0m \u001b[0;34m\u001b[0m\u001b[0m\n\u001b[1;32m     35\u001b[0m     \u001b[0;32mfor\u001b[0m \u001b[0mnames\u001b[0m\u001b[0;34m,\u001b[0m \u001b[0mcallset\u001b[0m \u001b[0;32min\u001b[0m \u001b[0mtqdm\u001b[0m\u001b[0;34m(\u001b[0m\u001b[0mfilter\u001b[0m\u001b[0;34m(\u001b[0m\u001b[0;32mlambda\u001b[0m \u001b[0mx\u001b[0m\u001b[0;34m:\u001b[0m \u001b[0mx\u001b[0m \u001b[0;32mis\u001b[0m \u001b[0;32mnot\u001b[0m \u001b[0;32mNone\u001b[0m\u001b[0;34m,\u001b[0m \u001b[0mvariants\u001b[0m\u001b[0;34m)\u001b[0m\u001b[0;34m)\u001b[0m\u001b[0;34m:\u001b[0m\u001b[0;34m\u001b[0m\u001b[0;34m\u001b[0m\u001b[0m\n",
      "\u001b[0;32m~/programs/miniconda3/envs/bio-utils/lib/python3.8/multiprocessing/pool.py\u001b[0m in \u001b[0;36mmap\u001b[0;34m(self, func, iterable, chunksize)\u001b[0m\n\u001b[1;32m    362\u001b[0m         \u001b[0;32min\u001b[0m \u001b[0ma\u001b[0m \u001b[0mlist\u001b[0m \u001b[0mthat\u001b[0m \u001b[0;32mis\u001b[0m \u001b[0mreturned\u001b[0m\u001b[0;34m.\u001b[0m\u001b[0;34m\u001b[0m\u001b[0;34m\u001b[0m\u001b[0m\n\u001b[1;32m    363\u001b[0m         '''\n\u001b[0;32m--> 364\u001b[0;31m         \u001b[0;32mreturn\u001b[0m \u001b[0mself\u001b[0m\u001b[0;34m.\u001b[0m\u001b[0m_map_async\u001b[0m\u001b[0;34m(\u001b[0m\u001b[0mfunc\u001b[0m\u001b[0;34m,\u001b[0m \u001b[0miterable\u001b[0m\u001b[0;34m,\u001b[0m \u001b[0mmapstar\u001b[0m\u001b[0;34m,\u001b[0m \u001b[0mchunksize\u001b[0m\u001b[0;34m)\u001b[0m\u001b[0;34m.\u001b[0m\u001b[0mget\u001b[0m\u001b[0;34m(\u001b[0m\u001b[0;34m)\u001b[0m\u001b[0;34m\u001b[0m\u001b[0;34m\u001b[0m\u001b[0m\n\u001b[0m\u001b[1;32m    365\u001b[0m \u001b[0;34m\u001b[0m\u001b[0m\n\u001b[1;32m    366\u001b[0m     \u001b[0;32mdef\u001b[0m \u001b[0mstarmap\u001b[0m\u001b[0;34m(\u001b[0m\u001b[0mself\u001b[0m\u001b[0;34m,\u001b[0m \u001b[0mfunc\u001b[0m\u001b[0;34m,\u001b[0m \u001b[0miterable\u001b[0m\u001b[0;34m,\u001b[0m \u001b[0mchunksize\u001b[0m\u001b[0;34m=\u001b[0m\u001b[0;32mNone\u001b[0m\u001b[0;34m)\u001b[0m\u001b[0;34m:\u001b[0m\u001b[0;34m\u001b[0m\u001b[0;34m\u001b[0m\u001b[0m\n",
      "\u001b[0;32m~/programs/miniconda3/envs/bio-utils/lib/python3.8/multiprocessing/pool.py\u001b[0m in \u001b[0;36mget\u001b[0;34m(self, timeout)\u001b[0m\n\u001b[1;32m    763\u001b[0m \u001b[0;34m\u001b[0m\u001b[0m\n\u001b[1;32m    764\u001b[0m     \u001b[0;32mdef\u001b[0m \u001b[0mget\u001b[0m\u001b[0;34m(\u001b[0m\u001b[0mself\u001b[0m\u001b[0;34m,\u001b[0m \u001b[0mtimeout\u001b[0m\u001b[0;34m=\u001b[0m\u001b[0;32mNone\u001b[0m\u001b[0;34m)\u001b[0m\u001b[0;34m:\u001b[0m\u001b[0;34m\u001b[0m\u001b[0;34m\u001b[0m\u001b[0m\n\u001b[0;32m--> 765\u001b[0;31m         \u001b[0mself\u001b[0m\u001b[0;34m.\u001b[0m\u001b[0mwait\u001b[0m\u001b[0;34m(\u001b[0m\u001b[0mtimeout\u001b[0m\u001b[0;34m)\u001b[0m\u001b[0;34m\u001b[0m\u001b[0;34m\u001b[0m\u001b[0m\n\u001b[0m\u001b[1;32m    766\u001b[0m         \u001b[0;32mif\u001b[0m \u001b[0;32mnot\u001b[0m \u001b[0mself\u001b[0m\u001b[0;34m.\u001b[0m\u001b[0mready\u001b[0m\u001b[0;34m(\u001b[0m\u001b[0;34m)\u001b[0m\u001b[0;34m:\u001b[0m\u001b[0;34m\u001b[0m\u001b[0;34m\u001b[0m\u001b[0m\n\u001b[1;32m    767\u001b[0m             \u001b[0;32mraise\u001b[0m \u001b[0mTimeoutError\u001b[0m\u001b[0;34m\u001b[0m\u001b[0;34m\u001b[0m\u001b[0m\n",
      "\u001b[0;32m~/programs/miniconda3/envs/bio-utils/lib/python3.8/multiprocessing/pool.py\u001b[0m in \u001b[0;36mwait\u001b[0;34m(self, timeout)\u001b[0m\n\u001b[1;32m    760\u001b[0m \u001b[0;34m\u001b[0m\u001b[0m\n\u001b[1;32m    761\u001b[0m     \u001b[0;32mdef\u001b[0m \u001b[0mwait\u001b[0m\u001b[0;34m(\u001b[0m\u001b[0mself\u001b[0m\u001b[0;34m,\u001b[0m \u001b[0mtimeout\u001b[0m\u001b[0;34m=\u001b[0m\u001b[0;32mNone\u001b[0m\u001b[0;34m)\u001b[0m\u001b[0;34m:\u001b[0m\u001b[0;34m\u001b[0m\u001b[0;34m\u001b[0m\u001b[0m\n\u001b[0;32m--> 762\u001b[0;31m         \u001b[0mself\u001b[0m\u001b[0;34m.\u001b[0m\u001b[0m_event\u001b[0m\u001b[0;34m.\u001b[0m\u001b[0mwait\u001b[0m\u001b[0;34m(\u001b[0m\u001b[0mtimeout\u001b[0m\u001b[0;34m)\u001b[0m\u001b[0;34m\u001b[0m\u001b[0;34m\u001b[0m\u001b[0m\n\u001b[0m\u001b[1;32m    763\u001b[0m \u001b[0;34m\u001b[0m\u001b[0m\n\u001b[1;32m    764\u001b[0m     \u001b[0;32mdef\u001b[0m \u001b[0mget\u001b[0m\u001b[0;34m(\u001b[0m\u001b[0mself\u001b[0m\u001b[0;34m,\u001b[0m \u001b[0mtimeout\u001b[0m\u001b[0;34m=\u001b[0m\u001b[0;32mNone\u001b[0m\u001b[0;34m)\u001b[0m\u001b[0;34m:\u001b[0m\u001b[0;34m\u001b[0m\u001b[0;34m\u001b[0m\u001b[0m\n",
      "\u001b[0;32m~/programs/miniconda3/envs/bio-utils/lib/python3.8/threading.py\u001b[0m in \u001b[0;36mwait\u001b[0;34m(self, timeout)\u001b[0m\n\u001b[1;32m    556\u001b[0m             \u001b[0msignaled\u001b[0m \u001b[0;34m=\u001b[0m \u001b[0mself\u001b[0m\u001b[0;34m.\u001b[0m\u001b[0m_flag\u001b[0m\u001b[0;34m\u001b[0m\u001b[0;34m\u001b[0m\u001b[0m\n\u001b[1;32m    557\u001b[0m             \u001b[0;32mif\u001b[0m \u001b[0;32mnot\u001b[0m \u001b[0msignaled\u001b[0m\u001b[0;34m:\u001b[0m\u001b[0;34m\u001b[0m\u001b[0;34m\u001b[0m\u001b[0m\n\u001b[0;32m--> 558\u001b[0;31m                 \u001b[0msignaled\u001b[0m \u001b[0;34m=\u001b[0m \u001b[0mself\u001b[0m\u001b[0;34m.\u001b[0m\u001b[0m_cond\u001b[0m\u001b[0;34m.\u001b[0m\u001b[0mwait\u001b[0m\u001b[0;34m(\u001b[0m\u001b[0mtimeout\u001b[0m\u001b[0;34m)\u001b[0m\u001b[0;34m\u001b[0m\u001b[0;34m\u001b[0m\u001b[0m\n\u001b[0m\u001b[1;32m    559\u001b[0m             \u001b[0;32mreturn\u001b[0m \u001b[0msignaled\u001b[0m\u001b[0;34m\u001b[0m\u001b[0;34m\u001b[0m\u001b[0m\n\u001b[1;32m    560\u001b[0m \u001b[0;34m\u001b[0m\u001b[0m\n",
      "\u001b[0;32m~/programs/miniconda3/envs/bio-utils/lib/python3.8/threading.py\u001b[0m in \u001b[0;36mwait\u001b[0;34m(self, timeout)\u001b[0m\n\u001b[1;32m    300\u001b[0m         \u001b[0;32mtry\u001b[0m\u001b[0;34m:\u001b[0m    \u001b[0;31m# restore state no matter what (e.g., KeyboardInterrupt)\u001b[0m\u001b[0;34m\u001b[0m\u001b[0;34m\u001b[0m\u001b[0m\n\u001b[1;32m    301\u001b[0m             \u001b[0;32mif\u001b[0m \u001b[0mtimeout\u001b[0m \u001b[0;32mis\u001b[0m \u001b[0;32mNone\u001b[0m\u001b[0;34m:\u001b[0m\u001b[0;34m\u001b[0m\u001b[0;34m\u001b[0m\u001b[0m\n\u001b[0;32m--> 302\u001b[0;31m                 \u001b[0mwaiter\u001b[0m\u001b[0;34m.\u001b[0m\u001b[0macquire\u001b[0m\u001b[0;34m(\u001b[0m\u001b[0;34m)\u001b[0m\u001b[0;34m\u001b[0m\u001b[0;34m\u001b[0m\u001b[0m\n\u001b[0m\u001b[1;32m    303\u001b[0m                 \u001b[0mgotit\u001b[0m \u001b[0;34m=\u001b[0m \u001b[0;32mTrue\u001b[0m\u001b[0;34m\u001b[0m\u001b[0;34m\u001b[0m\u001b[0m\n\u001b[1;32m    304\u001b[0m             \u001b[0;32melse\u001b[0m\u001b[0;34m:\u001b[0m\u001b[0;34m\u001b[0m\u001b[0;34m\u001b[0m\u001b[0m\n",
      "\u001b[0;31mKeyboardInterrupt\u001b[0m: "
     ]
    }
   ],
   "source": [
    "\n",
    "with open(clinvar_file, 'w') as f:\n",
    "    headers = allel.read_vcf_headers(clinvar_ori_vcf_file)\n",
    "    f.write(''.join(headers.headers))\n",
    "    \n",
    "    def fetch_variants(region):\n",
    "        fields, samples, headers, it = allel.iter_vcf_chunks(\n",
    "            clinvar_ori_vcf_file, fields=need_fields, alt_number=1, region=region\n",
    "        )\n",
    "        for variants, *_ in it:\n",
    "            esp_filter = np.isnan(variants['variants/AF_ESP'])\n",
    "            esp_filter[~esp_filter] |= variants['variants/AF_ESP'][~esp_filter] < 0.01\n",
    "\n",
    "            exac_filter = np.isnan(variants['variants/AF_EXAC'])\n",
    "            exac_filter[~exac_filter] |= variants['variants/AF_EXAC'][~exac_filter] < 0.01\n",
    "\n",
    "            tgp_filter = np.isnan(variants['variants/AF_TGP'])\n",
    "            tgp_filter[~tgp_filter] |= variants['variants/AF_TGP'][~tgp_filter] < 0.01\n",
    "\n",
    "            pathogenic_filter = np.isin(\n",
    "                variants['variants/CLNSIG'], ['Likely_pathogenic', 'Pathogenic', 'Pathogenic/Likely_pathogenic']\n",
    "            )\n",
    "\n",
    "            af_filter = esp_filter & exac_filter & tgp_filter & pathogenic_filter\n",
    "\n",
    "            filtered_variants = {k: v[af_filter] for k, v in variants.items()}\n",
    "\n",
    "            filtered_variants['variants/CHROM'] = 'chr' + filtered_variants['variants/CHROM']\n",
    "\n",
    "            return allel.normalize_callset(filtered_variants)\n",
    "    \n",
    "    with Pool(processes=7) as pool:\n",
    "        variants = pool.map(fetch_variants, last_exon_region)\n",
    "    \n",
    "    for names, callset in tqdm(filter(lambda x: x is not None, variants)):\n",
    "        allel.write_vcf_data(f, names, callset, None, {field: np.nan for field in need_fields})"
   ]
  },
  {
   "cell_type": "code",
   "execution_count": null,
   "metadata": {
    "tags": []
   },
   "outputs": [],
   "source": [
    "!sed -i '' 's/AF_.\\+=nan;//' {clinvar_file}"
   ]
  },
  {
   "cell_type": "code",
   "execution_count": null,
   "metadata": {
    "pycharm": {
     "is_executing": true
    }
   },
   "outputs": [],
   "source": [
    "!bgzip -cf {clinvar_file} > {clinvar_file}.gz"
   ]
  },
  {
   "cell_type": "code",
   "execution_count": null,
   "metadata": {
    "pycharm": {
     "is_executing": true
    }
   },
   "outputs": [],
   "source": [
    "!tabix -fp vcf {clinvar_file}.gz\n",
    "# !rm {clinvar_file}"
   ]
  },
  {
   "cell_type": "code",
   "execution_count": null,
   "metadata": {
    "pycharm": {
     "is_executing": true
    }
   },
   "outputs": [],
   "source": [
    "uhi_genes = set(\n",
    "    curation_gene.loc[curation_gene['Haploinsufficiency Score'] == '40', '#Gene Symbol']\n",
    ")"
   ]
  },
  {
   "cell_type": "code",
   "execution_count": null,
   "metadata": {
    "pycharm": {
     "is_executing": true
    }
   },
   "outputs": [],
   "source": [
    "uhi_gene = refgene_info.loc[\n",
    "    refgene_info['name2'].isin(uhi_genes),\n",
    "    ['chrom', 'txStart', 'txEnd', 'GeneID', 'name2', 'name', 'strand']\n",
    "].sort_values(['chrom', 'txStart', 'txEnd'])"
   ]
  },
  {
   "cell_type": "code",
   "execution_count": null,
   "metadata": {
    "pycharm": {
     "is_executing": true
    }
   },
   "outputs": [],
   "source": [
    "uhi_gene.head()"
   ]
  },
  {
   "cell_type": "code",
   "execution_count": null,
   "metadata": {
    "pycharm": {
     "is_executing": true
    }
   },
   "outputs": [],
   "source": [
    "uhi_gene.rename(columns={\n",
    "    'chrom': '#chrom', 'txStart': 'start', 'txEnd': 'end',\n",
    "    'GeneID': 'gene_id', 'name2': 'symbol', 'name': 'transcript'\n",
    "}).to_csv(uhi_gene_file, index=False, sep='\\t')"
   ]
  },
  {
   "cell_type": "code",
   "execution_count": null,
   "metadata": {
    "pycharm": {
     "is_executing": true
    }
   },
   "outputs": [],
   "source": [
    "!bgzip -cf {uhi_gene_file} > {uhi_gene_file}.gz"
   ]
  },
  {
   "cell_type": "code",
   "execution_count": null,
   "metadata": {
    "pycharm": {
     "is_executing": true
    }
   },
   "outputs": [],
   "source": [
    "!tabix -fp bed {uhi_gene_file}.gz\n",
    "!rm {uhi_gene_file}"
   ]
  },
  {
   "cell_type": "code",
   "execution_count": null,
   "metadata": {
    "pycharm": {
     "is_executing": true
    }
   },
   "outputs": [],
   "source": [
    "region = pd.read_csv(clingen_region_ori_file, sep='\\t', skiprows=5, dtype=str)"
   ]
  },
  {
   "cell_type": "code",
   "execution_count": null,
   "metadata": {
    "pycharm": {
     "is_executing": true
    }
   },
   "outputs": [],
   "source": [
    "region.head()"
   ]
  },
  {
   "cell_type": "code",
   "execution_count": null,
   "metadata": {
    "pycharm": {
     "is_executing": true
    }
   },
   "outputs": [],
   "source": [
    "position = region['Genomic Location'].str.extract(r'(?P<chrom>chr\\w+)\\s*:\\s*(?P<start>\\d+)\\s*-\\s*(?P<end>\\d+)')\n",
    "position['start'] = position['start'].astype(int)\n",
    "position['end'] = position['end'].astype(int)"
   ]
  },
  {
   "cell_type": "code",
   "execution_count": null,
   "metadata": {
    "pycharm": {
     "is_executing": true
    }
   },
   "outputs": [],
   "source": [
    "position.head()"
   ]
  },
  {
   "cell_type": "code",
   "execution_count": null,
   "metadata": {
    "pycharm": {
     "is_executing": true
    }
   },
   "outputs": [],
   "source": [
    "region_pos = region.merge(position, how='left', left_index=True, right_index=True)"
   ]
  },
  {
   "cell_type": "code",
   "execution_count": null,
   "metadata": {
    "pycharm": {
     "is_executing": true
    }
   },
   "outputs": [],
   "source": [
    "region_pos.head()"
   ]
  },
  {
   "cell_type": "code",
   "execution_count": null,
   "metadata": {
    "pycharm": {
     "is_executing": true
    }
   },
   "outputs": [],
   "source": [
    "func_region = region_pos.loc[\n",
    "    (region_pos['Haploinsufficiency Score'].isin(['1', '2','3']))\n",
    "     | (region_pos['Triplosensitivity Score'].isin(['1', '2','3'])),\n",
    "     ['chrom', 'start', 'end', '#ISCA ID', 'ISCA Region Name']\n",
    "].sort_values(['chrom', 'start', 'end'])"
   ]
  },
  {
   "cell_type": "code",
   "execution_count": null,
   "metadata": {
    "pycharm": {
     "is_executing": true
    }
   },
   "outputs": [],
   "source": [
    "func_region.head()"
   ]
  },
  {
   "cell_type": "code",
   "execution_count": null,
   "metadata": {
    "pycharm": {
     "is_executing": true
    }
   },
   "outputs": [],
   "source": [
    "func_region.rename(columns={\n",
    "    'chrom': '#chrom',\n",
    "    '#ISCA ID': 'isca_id', 'ISCA Region Name': 'name'\n",
    "}).to_csv(func_region_file, sep='\\t', index=False)"
   ]
  },
  {
   "cell_type": "code",
   "execution_count": null,
   "metadata": {
    "pycharm": {
     "is_executing": true
    },
    "tags": []
   },
   "outputs": [],
   "source": [
    "!bgzip -cf {func_region_file} > {func_region_file}.gz"
   ]
  },
  {
   "cell_type": "code",
   "execution_count": null,
   "metadata": {
    "pycharm": {
     "is_executing": true
    }
   },
   "outputs": [],
   "source": [
    "!tabix -fp bed {func_region_file}.gz\n",
    "!rm {func_region_file}"
   ]
  },
  {
   "cell_type": "code",
   "execution_count": null,
   "metadata": {
    "pycharm": {
     "is_executing": true
    }
   },
   "outputs": [],
   "source": [
    "hi_region = region_pos.loc[\n",
    "    region_pos['Haploinsufficiency Score'] == '3',\n",
    "    ['chrom', 'start', 'end', '#ISCA ID', 'ISCA Region Name']\n",
    "].sort_values(['chrom', 'start', 'end'])"
   ]
  },
  {
   "cell_type": "code",
   "execution_count": null,
   "metadata": {
    "pycharm": {
     "is_executing": true
    }
   },
   "outputs": [],
   "source": [
    "hi_region.head()"
   ]
  },
  {
   "cell_type": "code",
   "execution_count": null,
   "metadata": {
    "pycharm": {
     "is_executing": true
    }
   },
   "outputs": [],
   "source": [
    "hi_region['omim_genes'] = hi_region.apply(\n",
    "    lambda row: ','.join(omim_gene.loc[\n",
    "        (omim_gene['chrom'] == row['chrom'])\n",
    "        & (omim_gene['txEnd'] >= row['start'])\n",
    "        & (omim_gene['txStart'] <= row['end']),\n",
    "        'name2'\n",
    "    ]),\n",
    "    axis=1\n",
    ")"
   ]
  },
  {
   "cell_type": "code",
   "execution_count": null,
   "metadata": {
    "pycharm": {
     "is_executing": true
    }
   },
   "outputs": [],
   "source": [
    "hi_region.head()"
   ]
  },
  {
   "cell_type": "code",
   "execution_count": null,
   "metadata": {
    "pycharm": {
     "is_executing": true
    }
   },
   "outputs": [],
   "source": [
    "hi_region.rename(columns={\n",
    "    'chrom': '#chrom',\n",
    "    '#ISCA ID': 'isca_id', 'ISCA Region Name': 'name'\n",
    "}).to_csv(hi_region_file, sep='\\t', index=False)"
   ]
  },
  {
   "cell_type": "code",
   "execution_count": null,
   "metadata": {
    "pycharm": {
     "is_executing": true
    }
   },
   "outputs": [],
   "source": [
    "!bgzip -cf {hi_region_file} > {hi_region_file}.gz"
   ]
  },
  {
   "cell_type": "code",
   "execution_count": null,
   "metadata": {
    "pycharm": {
     "is_executing": true
    }
   },
   "outputs": [],
   "source": [
    "!tabix -fp bed {hi_region_file}.gz\n",
    "!rm {hi_region_file}"
   ]
  },
  {
   "cell_type": "code",
   "execution_count": null,
   "metadata": {
    "pycharm": {
     "is_executing": true
    }
   },
   "outputs": [],
   "source": [
    "uhi_region = region_pos.loc[\n",
    "    region_pos['Haploinsufficiency Score'] == '40',\n",
    "    ['chrom', 'start', 'end', '#ISCA ID', 'ISCA Region Name']\n",
    "].sort_values(['chrom', 'start', 'end'])"
   ]
  },
  {
   "cell_type": "code",
   "execution_count": null,
   "metadata": {
    "pycharm": {
     "is_executing": true
    }
   },
   "outputs": [],
   "source": [
    "uhi_region.head()"
   ]
  },
  {
   "cell_type": "code",
   "execution_count": null,
   "metadata": {
    "pycharm": {
     "is_executing": true
    }
   },
   "outputs": [],
   "source": [
    "uhi_region['genes'] = uhi_region.apply(\n",
    "    lambda row: ','.join(gene.loc[\n",
    "        (gene['chrom'] == row['chrom'])\n",
    "        & (gene['txEnd'] >= row['start'])\n",
    "        & (gene['txStart'] <= row['end']),\n",
    "        'name2'\n",
    "    ]),\n",
    "    axis=1\n",
    ")"
   ]
  },
  {
   "cell_type": "code",
   "execution_count": null,
   "metadata": {
    "pycharm": {
     "is_executing": true
    }
   },
   "outputs": [],
   "source": [
    "uhi_region.head()"
   ]
  },
  {
   "cell_type": "code",
   "execution_count": null,
   "metadata": {
    "pycharm": {
     "is_executing": true
    }
   },
   "outputs": [],
   "source": [
    "uhi_region.rename(columns={\n",
    "    'chrom': '#chrom',\n",
    "    '#ISCA ID': 'isca_id', 'ISCA Region Name': 'name'\n",
    "}).to_csv(uhi_region_file, sep='\\t', index=False)"
   ]
  },
  {
   "cell_type": "code",
   "execution_count": null,
   "metadata": {
    "pycharm": {
     "is_executing": true
    }
   },
   "outputs": [],
   "source": [
    "!bgzip -cf {uhi_region_file} > {uhi_region_file}.gz"
   ]
  },
  {
   "cell_type": "code",
   "execution_count": null,
   "metadata": {
    "pycharm": {
     "is_executing": true
    }
   },
   "outputs": [],
   "source": [
    "!tabix -fp bed {uhi_region_file}.gz\n",
    "!rm {uhi_region_file}"
   ]
  },
  {
   "cell_type": "code",
   "execution_count": null,
   "metadata": {
    "pycharm": {
     "is_executing": true
    }
   },
   "outputs": [],
   "source": [
    "decipher = pd.read_csv(hi_pred_ori_file, sep='\\t',skiprows=1, header=None, usecols=[3,])\n",
    "decipher = decipher[3].str.split('|', expand=True).rename(columns={0: 'symbol', 1: 'hi_score', 2: 'hi_index'})\n",
    "decipher['hi_index'] = decipher['hi_index'].str.replace('%', '').astype(float)\n",
    "decipher = decipher.merge(gene, left_on='symbol', right_on='name2')"
   ]
  },
  {
   "cell_type": "code",
   "execution_count": null,
   "metadata": {
    "pycharm": {
     "is_executing": true
    }
   },
   "outputs": [],
   "source": [
    "decipher.head()"
   ]
  },
  {
   "cell_type": "code",
   "execution_count": null,
   "metadata": {
    "pycharm": {
     "is_executing": true
    }
   },
   "outputs": [],
   "source": [
    "gnomad = pd.read_csv(gnomad_lof_ori_file, sep='\\t', index_col=0, compression='gzip')"
   ]
  },
  {
   "cell_type": "code",
   "execution_count": null,
   "metadata": {
    "pycharm": {
     "is_executing": true
    }
   },
   "outputs": [],
   "source": [
    "gnomad.head()"
   ]
  },
  {
   "cell_type": "code",
   "execution_count": null,
   "metadata": {
    "pycharm": {
     "is_executing": true
    }
   },
   "outputs": [],
   "source": [
    "decipher = decipher.join(gnomad['pLI'], on='name2')\n",
    "decipher = decipher.join(gnomad['oe_lof_upper'], on='name2')"
   ]
  },
  {
   "cell_type": "code",
   "execution_count": null,
   "metadata": {
    "pycharm": {
     "is_executing": true
    }
   },
   "outputs": [],
   "source": [
    "decipher.head()"
   ]
  },
  {
   "cell_type": "code",
   "execution_count": null,
   "metadata": {
    "pycharm": {
     "is_executing": true
    }
   },
   "outputs": [],
   "source": [
    "decipher = decipher.loc[\n",
    "    (decipher['pLI'] >= 0.9) & (decipher['hi_index'] < 10) & (decipher['oe_lof_upper'] < 0.35),\n",
    "    ['chrom', 'txStart', 'txEnd', 'GeneID', 'name2', 'name', 'pLI', 'hi_score']\n",
    "].sort_values(['chrom', 'txStart', 'txEnd'])"
   ]
  },
  {
   "cell_type": "code",
   "execution_count": null,
   "metadata": {
    "pycharm": {
     "is_executing": true
    }
   },
   "outputs": [],
   "source": [
    "decipher.head()"
   ]
  },
  {
   "cell_type": "code",
   "execution_count": null,
   "metadata": {
    "pycharm": {
     "is_executing": true
    }
   },
   "outputs": [],
   "source": [
    "decipher.rename(columns={\n",
    "    'chrom': '#chrom', 'txStart': 'start', 'txEnd': 'end',\n",
    "    'GeneID': 'gene_id', 'name2': 'symbol', 'name': 'transcript'\n",
    "}).to_csv(decipher_gene_file, sep='\\t', index=False)"
   ]
  },
  {
   "cell_type": "code",
   "execution_count": null,
   "metadata": {
    "pycharm": {
     "is_executing": true
    }
   },
   "outputs": [],
   "source": [
    "!bgzip -cf {decipher_gene_file} > {decipher_gene_file}.gz"
   ]
  },
  {
   "cell_type": "code",
   "execution_count": null,
   "metadata": {
    "pycharm": {
     "is_executing": true
    }
   },
   "outputs": [],
   "source": [
    "!tabix -fp bed {decipher_gene_file}.gz\n",
    "!rm {decipher_gene_file}"
   ]
  },
  {
   "cell_type": "code",
   "execution_count": null,
   "metadata": {
    "pycharm": {
     "is_executing": true
    }
   },
   "outputs": [],
   "source": [
    "ts_genes = set(\n",
    "    curation_gene.loc[\n",
    "        curation_gene['Triplosensitivity Score'] == '3', '#Gene Symbol'\n",
    "    ]\n",
    ")"
   ]
  },
  {
   "cell_type": "code",
   "execution_count": null,
   "metadata": {
    "pycharm": {
     "is_executing": true
    }
   },
   "outputs": [],
   "source": [
    "ts_gene = refgene_info.loc[\n",
    "    refgene_info['name2'].isin(ts_genes),\n",
    "    ['chrom', 'txStart', 'txEnd', 'GeneID', 'name2', 'name', 'strand']\n",
    "].sort_values(['chrom', 'txStart', 'txEnd'])"
   ]
  },
  {
   "cell_type": "code",
   "execution_count": null,
   "metadata": {
    "pycharm": {
     "is_executing": true
    }
   },
   "outputs": [],
   "source": [
    "ts_gene.head()"
   ]
  },
  {
   "cell_type": "code",
   "execution_count": null,
   "metadata": {
    "pycharm": {
     "is_executing": true
    }
   },
   "outputs": [],
   "source": [
    "ts_gene.rename(columns={\n",
    "    'chrom': '#chrom', 'txStart': 'start', 'txEnd': 'end',\n",
    "    'GeneID': 'gene_id', 'name2': 'symbol', 'name': 'transcript'\n",
    "}).to_csv(ts_gene_file, index=False, sep='\\t')"
   ]
  },
  {
   "cell_type": "code",
   "execution_count": null,
   "metadata": {
    "pycharm": {
     "is_executing": true
    }
   },
   "outputs": [],
   "source": [
    "!bgzip -cf {ts_gene_file} > {ts_gene_file}.gz"
   ]
  },
  {
   "cell_type": "code",
   "execution_count": null,
   "metadata": {
    "pycharm": {
     "is_executing": true
    }
   },
   "outputs": [],
   "source": [
    "!tabix -fp bed {ts_gene_file}.gz\n",
    "!rm {ts_gene_file}"
   ]
  },
  {
   "cell_type": "code",
   "execution_count": null,
   "metadata": {
    "pycharm": {
     "is_executing": true
    }
   },
   "outputs": [],
   "source": [
    "uts_genes = set(\n",
    "    curation_gene.loc[curation_gene['Triplosensitivity Score'] == '40', '#Gene Symbol']\n",
    ")"
   ]
  },
  {
   "cell_type": "code",
   "execution_count": null,
   "metadata": {
    "pycharm": {
     "is_executing": true
    }
   },
   "outputs": [],
   "source": [
    "uts_gene = refgene_info.loc[\n",
    "    refgene_info['name2'].isin(uts_genes),\n",
    "    ['chrom', 'txStart', 'txEnd', 'GeneID', 'name2', 'name', 'strand']\n",
    "].sort_values(['chrom', 'txStart', 'txEnd'])"
   ]
  },
  {
   "cell_type": "code",
   "execution_count": null,
   "metadata": {
    "pycharm": {
     "is_executing": true
    }
   },
   "outputs": [],
   "source": [
    "uts_gene.head()"
   ]
  },
  {
   "cell_type": "code",
   "execution_count": null,
   "metadata": {
    "pycharm": {
     "is_executing": true
    }
   },
   "outputs": [],
   "source": [
    "uts_gene.rename(columns={\n",
    "    'chrom': '#chrom', 'txStart': 'start', 'txEnd': 'end',\n",
    "    'GeneID': 'gene_id', 'name2': 'symbol', 'name': 'transcript'\n",
    "}).to_csv(uts_gene_file, index=False, sep='\\t')"
   ]
  },
  {
   "cell_type": "code",
   "execution_count": null,
   "metadata": {
    "pycharm": {
     "is_executing": true
    }
   },
   "outputs": [],
   "source": [
    "!bgzip -cf {uts_gene_file} > {uts_gene_file}.gz"
   ]
  },
  {
   "cell_type": "code",
   "execution_count": null,
   "metadata": {
    "pycharm": {
     "is_executing": true
    }
   },
   "outputs": [],
   "source": [
    "!tabix -fp bed {uts_gene_file}.gz\n",
    "!rm {uts_gene_file}"
   ]
  },
  {
   "cell_type": "code",
   "execution_count": null,
   "metadata": {
    "pycharm": {
     "is_executing": true
    }
   },
   "outputs": [],
   "source": [
    "ts_region = region_pos.loc[\n",
    "    region_pos['Triplosensitivity Score'] == '3',\n",
    "    ['chrom', 'start', 'end', '#ISCA ID', 'ISCA Region Name']\n",
    "].sort_values(['chrom', 'start', 'end'])"
   ]
  },
  {
   "cell_type": "code",
   "execution_count": null,
   "metadata": {
    "pycharm": {
     "is_executing": true
    }
   },
   "outputs": [],
   "source": [
    "ts_region.head()"
   ]
  },
  {
   "cell_type": "code",
   "execution_count": null,
   "metadata": {
    "pycharm": {
     "is_executing": true
    }
   },
   "outputs": [],
   "source": [
    "ts_region['omim_genes'] = ts_region.apply(\n",
    "    lambda row: ','.join(omim_gene.loc[\n",
    "        (omim_gene['chrom'] == row['chrom'])\n",
    "        & (omim_gene['txEnd'] >= row['start'])\n",
    "        & (omim_gene['txStart'] <= row['end']),\n",
    "        'name2'\n",
    "    ]),\n",
    "    axis=1\n",
    ")"
   ]
  },
  {
   "cell_type": "code",
   "execution_count": null,
   "metadata": {
    "pycharm": {
     "is_executing": true
    }
   },
   "outputs": [],
   "source": [
    "ts_region.head()"
   ]
  },
  {
   "cell_type": "code",
   "execution_count": null,
   "metadata": {
    "pycharm": {
     "is_executing": true
    }
   },
   "outputs": [],
   "source": [
    "ts_region.rename(columns={\n",
    "    'chrom': '#chrom',\n",
    "    '#ISCA ID': 'isca_id', 'ISCA Region Name': 'name'\n",
    "}).to_csv(ts_region_file, sep='\\t', index=False)"
   ]
  },
  {
   "cell_type": "code",
   "execution_count": null,
   "metadata": {
    "pycharm": {
     "is_executing": true
    }
   },
   "outputs": [],
   "source": [
    "!bgzip -cf {ts_region_file} > {ts_region_file}.gz"
   ]
  },
  {
   "cell_type": "code",
   "execution_count": null,
   "metadata": {
    "pycharm": {
     "is_executing": true
    }
   },
   "outputs": [],
   "source": [
    "!tabix -fp bed {ts_region_file}.gz\n",
    "!rm {ts_region_file}"
   ]
  },
  {
   "cell_type": "code",
   "execution_count": null,
   "metadata": {
    "pycharm": {
     "is_executing": true
    }
   },
   "outputs": [],
   "source": [
    "uts_region = region_pos.loc[\n",
    "    region_pos['Triplosensitivity Score'] == '40',\n",
    "    ['chrom', 'start', 'end', '#ISCA ID', 'ISCA Region Name']\n",
    "].sort_values(['chrom', 'start', 'end'])"
   ]
  },
  {
   "cell_type": "code",
   "execution_count": null,
   "metadata": {
    "pycharm": {
     "is_executing": true
    }
   },
   "outputs": [],
   "source": [
    "uts_region.head()"
   ]
  },
  {
   "cell_type": "code",
   "execution_count": null,
   "metadata": {
    "pycharm": {
     "is_executing": true
    }
   },
   "outputs": [],
   "source": [
    "uts_region['genes'] = uts_region.apply(\n",
    "    lambda row: ','.join(gene.loc[\n",
    "        (gene['chrom'] == row['chrom'])\n",
    "        & (gene['txEnd'] >= row['start'])\n",
    "        & (gene['txStart'] <= row['end']),\n",
    "        'name2'\n",
    "    ]),\n",
    "    axis=1\n",
    ")"
   ]
  },
  {
   "cell_type": "code",
   "execution_count": null,
   "metadata": {
    "pycharm": {
     "is_executing": true
    }
   },
   "outputs": [],
   "source": [
    "uts_region.head()"
   ]
  },
  {
   "cell_type": "code",
   "execution_count": null,
   "metadata": {
    "pycharm": {
     "is_executing": true
    }
   },
   "outputs": [],
   "source": [
    "uts_region.rename(columns={\n",
    "    'chrom': '#chrom',\n",
    "    '#ISCA ID': 'isca_id', 'ISCA Region Name': 'name'\n",
    "}).to_csv(uts_region_file, sep='\\t', index=False)"
   ]
  },
  {
   "cell_type": "code",
   "execution_count": null,
   "metadata": {
    "pycharm": {
     "is_executing": true
    }
   },
   "outputs": [],
   "source": [
    "!bgzip -cf {uts_region_file} > {uts_region_file}.gz"
   ]
  },
  {
   "cell_type": "code",
   "execution_count": null,
   "metadata": {
    "pycharm": {
     "is_executing": true
    }
   },
   "outputs": [],
   "source": [
    "!tabix -fp bed {uts_region_file}.gz\n",
    "!rm {uts_region_file}"
   ]
  },
  {
   "cell_type": "code",
   "execution_count": null,
   "metadata": {
    "pycharm": {
     "is_executing": true
    }
   },
   "outputs": [],
   "source": [
    "dgv = pd.read_csv(\n",
    "    dgv_ori_file,\n",
    "    sep='\\t', names=['chrom', 'info'], usecols=[0, 8]\n",
    ").drop_duplicates('info')\n",
    "info = dgv['info'].str.extract(\n",
    "    r'ID=(?P<id>[^;]+).*variant_sub_type=(?P<type>[^;]+).*inner_start=(?P<start>[^;]+).*inner_end=(?P<end>[^;]+).*Frequency=(?P<freq>\\S+?)%;.*num_unique_samples_tested=(?P<sample>[^;]+)'\n",
    ").astype({'start': int, 'end': int, 'sample': int, 'freq': float})\n",
    "dgv = dgv.merge(info, left_index=True, right_index=True)\n",
    "dgv['af'] = dgv['freq'] / 100\n",
    "dgv = dgv[dgv['sample'] >= 1000].sort_values(['chrom', 'start', 'end'])"
   ]
  },
  {
   "cell_type": "code",
   "execution_count": null,
   "metadata": {
    "pycharm": {
     "is_executing": true
    }
   },
   "outputs": [],
   "source": [
    "dgv.head()"
   ]
  },
  {
   "cell_type": "code",
   "execution_count": null,
   "metadata": {
    "pycharm": {
     "is_executing": true
    }
   },
   "outputs": [],
   "source": [
    "def fetch_gene(gene, chrom, start, end):\n",
    "    return ','.join(gene.loc[\n",
    "        (gene['chrom'] == chrom) & (gene['txEnd'] >= start) & (gene['txStart'] <= end), 'name2'\n",
    "    ])"
   ]
  },
  {
   "cell_type": "code",
   "execution_count": null,
   "metadata": {
    "pycharm": {
     "is_executing": true
    }
   },
   "outputs": [],
   "source": [
    "with Pool(processes=7) as pool:\n",
    "    dgv['genes'] = pool.starmap(fetch_gene, (\n",
    "        (gene, row['chrom'], row['start'], row['end']) for _, row in dgv.iterrows()\n",
    "    ), chunksize=70)"
   ]
  },
  {
   "cell_type": "code",
   "execution_count": null,
   "metadata": {
    "pycharm": {
     "is_executing": true
    }
   },
   "outputs": [],
   "source": [
    "dgv.head()"
   ]
  },
  {
   "cell_type": "code",
   "execution_count": null,
   "metadata": {
    "pycharm": {
     "is_executing": true
    }
   },
   "outputs": [],
   "source": [
    "dgv.loc[\n",
    "    dgv['type'] == 'Gain', ['chrom', 'start', 'end', 'id', 'genes', 'af']\n",
    "].rename(columns={'chrom': '#chrom'}).to_csv(dgv_gain_file, sep='\\t', index=False)"
   ]
  },
  {
   "cell_type": "code",
   "execution_count": null,
   "metadata": {
    "pycharm": {
     "is_executing": true
    }
   },
   "outputs": [],
   "source": [
    "!bgzip -cf {dgv_gain_file} > {dgv_gain_file}.gz"
   ]
  },
  {
   "cell_type": "code",
   "execution_count": null,
   "metadata": {
    "pycharm": {
     "is_executing": true
    }
   },
   "outputs": [],
   "source": [
    "!tabix -fp bed {dgv_gain_file}.gz\n",
    "!rm {dgv_gain_file}"
   ]
  },
  {
   "cell_type": "code",
   "execution_count": null,
   "metadata": {
    "pycharm": {
     "is_executing": true
    }
   },
   "outputs": [],
   "source": [
    "dgv.loc[\n",
    "    dgv['type'] == 'Loss', ['chrom', 'start', 'end', 'id', 'genes', 'af']\n",
    "].rename(columns={'chrom': '#chrom'}).to_csv(dgv_loss_file, sep='\\t', index=False)"
   ]
  },
  {
   "cell_type": "code",
   "execution_count": null,
   "metadata": {
    "pycharm": {
     "is_executing": true
    }
   },
   "outputs": [],
   "source": [
    "!bgzip -cf {dgv_loss_file} > {dgv_loss_file}.gz"
   ]
  },
  {
   "cell_type": "code",
   "execution_count": null,
   "metadata": {
    "pycharm": {
     "is_executing": true
    }
   },
   "outputs": [],
   "source": [
    "!tabix -fp bed {dgv_loss_file}.gz\n",
    "!rm {dgv_loss_file}"
   ]
  },
  {
   "cell_type": "code",
   "execution_count": null,
   "metadata": {
    "pycharm": {
     "is_executing": true
    }
   },
   "outputs": [],
   "source": [
    "gnomad = pd.read_csv(\n",
    "    gnomad_control_ori_file, sep='\\t',  dtype=str,\n",
    "    usecols=[0, 1, 2, 3, 4, 37, 38, 73, 74, 107, 108, 141, 142, 175, 176, 241]\n",
    ")\n",
    "gnomad = gnomad[\n",
    "    (gnomad['FILTER'] == 'PASS') & gnomad['svtype'].isin(['DEL', 'DUP'])\n",
    "]\n",
    "gnomad = gnomad[\n",
    "    (gnomad['N_BI_GENOS'].astype(int) >= 1000) |\n",
    "    (gnomad['AFR_N_BI_GENOS'].astype(int) >= 1000) |\n",
    "    (gnomad['AMR_N_BI_GENOS'].astype(int) >= 1000) |\n",
    "    (gnomad['EAS_N_BI_GENOS'].astype(int) >= 1000) |\n",
    "    (gnomad['EUR_N_BI_GENOS'].astype(int) >= 1000)\n",
    "]\n",
    "gnomad['#chrom'] = 'chr' + gnomad['#chrom']\n",
    "gnomad['start'] = gnomad['start'].astype(int)\n",
    "gnomad['end'] = gnomad['end'].astype(int)"
   ]
  },
  {
   "cell_type": "code",
   "execution_count": null,
   "metadata": {
    "pycharm": {
     "is_executing": true
    }
   },
   "outputs": [],
   "source": [
    "gnomad.head()"
   ]
  },
  {
   "cell_type": "code",
   "execution_count": null,
   "metadata": {
    "pycharm": {
     "is_executing": true
    }
   },
   "outputs": [],
   "source": [
    "with Pool(processes=7) as pool:\n",
    "    gnomad['genes'] = pool.starmap(fetch_gene, (\n",
    "        (gene, row['#chrom'], row['start'], row['end']) for _, row in gnomad.iterrows()\n",
    "    ), chunksize=70)"
   ]
  },
  {
   "cell_type": "code",
   "execution_count": null,
   "metadata": {
    "pycharm": {
     "is_executing": true
    }
   },
   "outputs": [],
   "source": [
    "# gnomad['genes'] = pool.starmap(fetch_gene, (\n",
    "#         (gene, row['#chrom'], row['start'], row['end']) for _, row in gnomad.iterrows()\n",
    "#     ), chunksize=70)\n",
    "gnomad['gene'] = gnomad.apply(lambda row: fetch_gene(gene, row['#chrom'], row['start'], row['end']), axis=1)"
   ]
  },
  {
   "cell_type": "code",
   "execution_count": null,
   "metadata": {
    "pycharm": {
     "is_executing": true
    }
   },
   "outputs": [],
   "source": [
    "gnomad.head()"
   ]
  },
  {
   "cell_type": "code",
   "execution_count": null,
   "metadata": {
    "pycharm": {
     "is_executing": true
    }
   },
   "outputs": [],
   "source": [
    "gnomad[\n",
    "    gnomad['svtype'] == 'DEL'\n",
    "][['#chrom', 'start', 'end', 'name', 'gene', 'AF', 'AFR_AF', 'AMR_AF', 'EAS_AF', 'EUR_AF']].rename(columns={\n",
    "    'AF': 'af', 'AFR_AF': 'af_afr', 'AMR_AF': 'af_amr', 'EAS_AF': 'af_eas', 'EUR_AF': 'af_eur'\n",
    "}).to_csv(gnomad_del_file, sep='\\t', index=False)"
   ]
  },
  {
   "cell_type": "code",
   "execution_count": null,
   "metadata": {
    "pycharm": {
     "is_executing": true
    }
   },
   "outputs": [],
   "source": [
    "!bgzip -cf {d} > {gnomad_del_file}.gz"
   ]
  },
  {
   "cell_type": "code",
   "execution_count": null,
   "metadata": {
    "pycharm": {
     "is_executing": true
    }
   },
   "outputs": [],
   "source": [
    "!tabix -fp bed {gnomad_del_file}.gz\n",
    "!rm {gnomad_del_file}"
   ]
  },
  {
   "cell_type": "code",
   "execution_count": null,
   "metadata": {
    "pycharm": {
     "is_executing": true
    }
   },
   "outputs": [],
   "source": [
    "gnomad.loc[\n",
    "    gnomad['svtype'] == 'DUP',\n",
    "    ['#chrom', 'start', 'end', 'name', 'genes', 'AF', 'AFR_AF', 'AMR_AF', 'EAS_AF', 'EUR_AF']\n",
    "].rename(columns={\n",
    "    'AF': 'af', 'AFR_AF': 'af_afr', 'AMR_AF': 'af_amr', 'EAS_AF': 'af_eas', 'EUR_AF': 'af_eur'\n",
    "}).to_csv(gnomad_dup_file, sep='\\t', index=False)"
   ]
  },
  {
   "cell_type": "code",
   "execution_count": null,
   "metadata": {
    "pycharm": {
     "is_executing": true,
     "name": "#%%\n"
    }
   },
   "outputs": [],
   "source": [
    "!bgzip -cf {gnomad_dup_file} > {gnomad_dup_file}.gz"
   ]
  },
  {
   "cell_type": "code",
   "execution_count": null,
   "metadata": {
    "pycharm": {
     "is_executing": true,
     "name": "#%%\n"
    }
   },
   "outputs": [],
   "source": [
    "!tabix -fp bed {gnomad_dup_file}.gz\n",
    "!rm {gnomad_dup_file}"
   ]
  },
  {
   "cell_type": "code",
   "execution_count": null,
   "metadata": {
    "pycharm": {
     "is_executing": true
    }
   },
   "outputs": [],
   "source": []
  },
  {
   "cell_type": "code",
   "execution_count": null,
   "metadata": {
    "pycharm": {
     "is_executing": true
    }
   },
   "outputs": [],
   "source": [
    "!tabix -fp bed {gnomad_dup_file}.gz\n",
    "!rm {gnomad_dup_file}"
   ]
  },
  {
   "cell_type": "code",
   "execution_count": null,
   "metadata": {
    "pycharm": {
     "is_executing": true
    }
   },
   "outputs": [],
   "source": []
  }
 ],
 "metadata": {
  "kernelspec": {
   "display_name": "Python 3",
   "language": "python",
   "name": "python3"
  },
  "language_info": {
   "codemirror_mode": {
    "name": "ipython",
    "version": 3
   },
   "file_extension": ".py",
   "mimetype": "text/x-python",
   "name": "python",
   "nbconvert_exporter": "python",
   "pygments_lexer": "ipython3",
   "version": "3.8.10"
  }
 },
 "nbformat": 4,
 "nbformat_minor": 4
}
